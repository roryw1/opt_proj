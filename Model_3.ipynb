{
 "cells": [
  {
   "cell_type": "markdown",
   "id": "a9c5e1c6",
   "metadata": {},
   "source": [
    "# Reading in data"
   ]
  },
  {
   "cell_type": "code",
   "execution_count": 35,
   "id": "1cbfbfe4",
   "metadata": {},
   "outputs": [],
   "source": [
    "using Gurobi, StatsBase, CSV, DataFrames, JuMP, LinearAlgebra, Distributions, Random, GLMNet, Printf"
   ]
  },
  {
   "cell_type": "code",
   "execution_count": 36,
   "id": "ed46d9be-5adf-4814-b60a-372a89549635",
   "metadata": {},
   "outputs": [],
   "source": [
    "data = CSV.read(\"final_df.csv\", DataFrame);"
   ]
  },
  {
   "cell_type": "code",
   "execution_count": 37,
   "id": "44539f70",
   "metadata": {},
   "outputs": [
    {
     "data": {
      "text/html": [
       "<div><div style = \"float: left;\"><span>5×78 DataFrame</span></div><div style = \"clear: both;\"></div></div><div class = \"data-frame\" style = \"overflow-x: scroll;\"><table class = \"data-frame\" style = \"margin-bottom: 6px;\"><thead><tr class = \"header\"><th class = \"rowNumber\" style = \"font-weight: bold; text-align: right;\">Row</th><th style = \"text-align: left;\">food</th><th style = \"text-align: left;\">emissions</th><th style = \"text-align: left;\">price</th><th style = \"text-align: left;\">serving_size</th><th style = \"text-align: left;\">calories</th><th style = \"text-align: left;\">total_fat</th><th style = \"text-align: left;\">saturated_fat</th><th style = \"text-align: left;\">cholesterol</th><th style = \"text-align: left;\">sodium</th><th style = \"text-align: left;\">choline</th><th style = \"text-align: left;\">folate</th><th style = \"text-align: left;\">folic_acid</th><th style = \"text-align: left;\">niacin</th><th style = \"text-align: left;\">pantothenic_acid</th><th style = \"text-align: left;\">riboflavin</th><th style = \"text-align: left;\">thiamin</th><th style = \"text-align: left;\">vitamin_a</th><th style = \"text-align: left;\">vitamin_a_rae</th><th style = \"text-align: left;\">carotene_alpha</th><th style = \"text-align: left;\">carotene_beta</th><th style = \"text-align: left;\">cryptoxanthin_beta</th><th style = \"text-align: left;\">lutein_zeaxanthin</th><th style = \"text-align: left;\">lucopene</th><th style = \"text-align: left;\">vitamin_b12</th><th style = \"text-align: left;\">vitamin_b6</th><th style = \"text-align: left;\">vitamin_c</th><th style = \"text-align: left;\">vitamin_d</th><th style = \"text-align: left;\">vitamin_e</th><th style = \"text-align: left;\">tocopherol_alpha</th><th style = \"text-align: left;\">vitamin_k</th><th style = \"text-align: left;\">calcium</th><th style = \"text-align: left;\">copper</th><th style = \"text-align: left;\">irom</th><th style = \"text-align: left;\">magnesium</th><th style = \"text-align: left;\">manganese</th><th style = \"text-align: left;\">phosphorous</th><th style = \"text-align: left;\">potassium</th><th style = \"text-align: left;\">selenium</th><th style = \"text-align: left;\">zink</th><th style = \"text-align: left;\">protein</th><th style = \"text-align: left;\">alanine</th><th style = \"text-align: left;\">arginine</th><th style = \"text-align: left;\">aspartic_acid</th><th style = \"text-align: left;\">cystine</th><th style = \"text-align: left;\">glutamic_acid</th><th style = \"text-align: left;\">glycine</th><th style = \"text-align: left;\">histidine</th><th style = \"text-align: left;\">hydroxyproline</th><th style = \"text-align: left;\">isoleucine</th><th style = \"text-align: left;\">leucine</th><th style = \"text-align: left;\">lysine</th><th style = \"text-align: left;\">methionine</th><th style = \"text-align: left;\">phenylalanine</th><th style = \"text-align: left;\">proline</th><th style = \"text-align: left;\">serine</th><th style = \"text-align: left;\">threonine</th><th style = \"text-align: left;\">tryptophan</th><th style = \"text-align: left;\">tyrosine</th><th style = \"text-align: left;\">valine</th><th style = \"text-align: left;\">carbohydrate</th><th style = \"text-align: left;\">fiber</th><th style = \"text-align: left;\">sugars</th><th style = \"text-align: left;\">fructose</th><th style = \"text-align: left;\">galactose</th><th style = \"text-align: left;\">glucose</th><th style = \"text-align: left;\">lactose</th><th style = \"text-align: left;\">maltose</th><th style = \"text-align: left;\">sucrose</th><th style = \"text-align: left;\">fat</th><th style = \"text-align: left;\">saturated_fatty_acids</th><th style = \"text-align: left;\">monounsaturated_fatty_acids</th><th style = \"text-align: left;\">polyunsaturated_fatty_acids</th><th style = \"text-align: left;\">fatty_acids_total_trans</th><th style = \"text-align: left;\">alcohol</th><th style = \"text-align: left;\">ash</th><th style = \"text-align: left;\">caffeine</th><th style = \"text-align: left;\">theobromine</th><th style = \"text-align: left;\">water</th></tr><tr class = \"subheader headerLastRow\"><th class = \"rowNumber\" style = \"font-weight: bold; text-align: right;\"></th><th title = \"String31\" style = \"text-align: left;\">String31</th><th title = \"Float64\" style = \"text-align: left;\">Float64</th><th title = \"Float64\" style = \"text-align: left;\">Float64</th><th title = \"Int64\" style = \"text-align: left;\">Int64</th><th title = \"Float64\" style = \"text-align: left;\">Float64</th><th title = \"Float64\" style = \"text-align: left;\">Float64</th><th title = \"Float64\" style = \"text-align: left;\">Float64</th><th title = \"Float64\" style = \"text-align: left;\">Float64</th><th title = \"Float64\" style = \"text-align: left;\">Float64</th><th title = \"Float64\" style = \"text-align: left;\">Float64</th><th title = \"Float64\" style = \"text-align: left;\">Float64</th><th title = \"Float64\" style = \"text-align: left;\">Float64</th><th title = \"Float64\" style = \"text-align: left;\">Float64</th><th title = \"Float64\" style = \"text-align: left;\">Float64</th><th title = \"Float64\" style = \"text-align: left;\">Float64</th><th title = \"Float64\" style = \"text-align: left;\">Float64</th><th title = \"Float64\" style = \"text-align: left;\">Float64</th><th title = \"Float64\" style = \"text-align: left;\">Float64</th><th title = \"Float64\" style = \"text-align: left;\">Float64</th><th title = \"Float64\" style = \"text-align: left;\">Float64</th><th title = \"Float64\" style = \"text-align: left;\">Float64</th><th title = \"Float64\" style = \"text-align: left;\">Float64</th><th title = \"Float64\" style = \"text-align: left;\">Float64</th><th title = \"Float64\" style = \"text-align: left;\">Float64</th><th title = \"Float64\" style = \"text-align: left;\">Float64</th><th title = \"Float64\" style = \"text-align: left;\">Float64</th><th title = \"Float64\" style = \"text-align: left;\">Float64</th><th title = \"Float64\" style = \"text-align: left;\">Float64</th><th title = \"Float64\" style = \"text-align: left;\">Float64</th><th title = \"Float64\" style = \"text-align: left;\">Float64</th><th title = \"Float64\" style = \"text-align: left;\">Float64</th><th title = \"Float64\" style = \"text-align: left;\">Float64</th><th title = \"Float64\" style = \"text-align: left;\">Float64</th><th title = \"Float64\" style = \"text-align: left;\">Float64</th><th title = \"Float64\" style = \"text-align: left;\">Float64</th><th title = \"Float64\" style = \"text-align: left;\">Float64</th><th title = \"Float64\" style = \"text-align: left;\">Float64</th><th title = \"Float64\" style = \"text-align: left;\">Float64</th><th title = \"Float64\" style = \"text-align: left;\">Float64</th><th title = \"Float64\" style = \"text-align: left;\">Float64</th><th title = \"Float64\" style = \"text-align: left;\">Float64</th><th title = \"Float64\" style = \"text-align: left;\">Float64</th><th title = \"Float64\" style = \"text-align: left;\">Float64</th><th title = \"Float64\" style = \"text-align: left;\">Float64</th><th title = \"Float64\" style = \"text-align: left;\">Float64</th><th title = \"Float64\" style = \"text-align: left;\">Float64</th><th title = \"Float64\" style = \"text-align: left;\">Float64</th><th title = \"Float64\" style = \"text-align: left;\">Float64</th><th title = \"Float64\" style = \"text-align: left;\">Float64</th><th title = \"Float64\" style = \"text-align: left;\">Float64</th><th title = \"Float64\" style = \"text-align: left;\">Float64</th><th title = \"Float64\" style = \"text-align: left;\">Float64</th><th title = \"Float64\" style = \"text-align: left;\">Float64</th><th title = \"Float64\" style = \"text-align: left;\">Float64</th><th title = \"Float64\" style = \"text-align: left;\">Float64</th><th title = \"Float64\" style = \"text-align: left;\">Float64</th><th title = \"Float64\" style = \"text-align: left;\">Float64</th><th title = \"Float64\" style = \"text-align: left;\">Float64</th><th title = \"Float64\" style = \"text-align: left;\">Float64</th><th title = \"Float64\" style = \"text-align: left;\">Float64</th><th title = \"Float64\" style = \"text-align: left;\">Float64</th><th title = \"Float64\" style = \"text-align: left;\">Float64</th><th title = \"Float64\" style = \"text-align: left;\">Float64</th><th title = \"Float64\" style = \"text-align: left;\">Float64</th><th title = \"Float64\" style = \"text-align: left;\">Float64</th><th title = \"Float64\" style = \"text-align: left;\">Float64</th><th title = \"Float64\" style = \"text-align: left;\">Float64</th><th title = \"Float64\" style = \"text-align: left;\">Float64</th><th title = \"Float64\" style = \"text-align: left;\">Float64</th><th title = \"Float64\" style = \"text-align: left;\">Float64</th><th title = \"Float64\" style = \"text-align: left;\">Float64</th><th title = \"Float64\" style = \"text-align: left;\">Float64</th><th title = \"Float64\" style = \"text-align: left;\">Float64</th><th title = \"Float64\" style = \"text-align: left;\">Float64</th><th title = \"Float64\" style = \"text-align: left;\">Float64</th><th title = \"Float64\" style = \"text-align: left;\">Float64</th><th title = \"Float64\" style = \"text-align: left;\">Float64</th><th title = \"Float64\" style = \"text-align: left;\">Float64</th></tr></thead><tbody><tr><td class = \"rowNumber\" style = \"font-weight: bold; text-align: right;\">1</td><td style = \"text-align: left;\">Wheat &amp; Rye (Bread)</td><td style = \"text-align: right;\">0.0014</td><td style = \"text-align: right;\">0.00145</td><td style = \"text-align: right;\">100</td><td style = \"text-align: right;\">2.67</td><td style = \"text-align: right;\">0.032</td><td style = \"text-align: right;\">0.008</td><td style = \"text-align: right;\">0.0</td><td style = \"text-align: right;\">5.08</td><td style = \"text-align: right;\">0.187</td><td style = \"text-align: right;\">0.85</td><td style = \"text-align: right;\">0.2</td><td style = \"text-align: right;\">0.0562</td><td style = \"text-align: right;\">0.0</td><td style = \"text-align: right;\">0.00253</td><td style = \"text-align: right;\">0.00415</td><td style = \"text-align: right;\">0.02</td><td style = \"text-align: right;\">0.0</td><td style = \"text-align: right;\">0.0</td><td style = \"text-align: right;\">0.01</td><td style = \"text-align: right;\">0.0</td><td style = \"text-align: right;\">0.44</td><td style = \"text-align: right;\">0.0</td><td style = \"text-align: right;\">0.0</td><td style = \"text-align: right;\">0.00111</td><td style = \"text-align: right;\">0.002</td><td style = \"text-align: right;\">0.0</td><td style = \"text-align: right;\">0.0019</td><td style = \"text-align: right;\">0.0019</td><td style = \"text-align: right;\">0.049</td><td style = \"text-align: right;\">1.33</td><td style = \"text-align: right;\">0.00159</td><td style = \"text-align: right;\">0.0349</td><td style = \"text-align: right;\">0.45</td><td style = \"text-align: right;\">0.01177</td><td style = \"text-align: right;\">1.49</td><td style = \"text-align: right;\">1.77</td><td style = \"text-align: right;\">0.288</td><td style = \"text-align: right;\">0.0119</td><td style = \"text-align: right;\">0.1072</td><td style = \"text-align: right;\">0.0</td><td style = \"text-align: right;\">0.0</td><td style = \"text-align: right;\">0.0</td><td style = \"text-align: right;\">0.0</td><td style = \"text-align: right;\">0.0</td><td style = \"text-align: right;\">0.0</td><td style = \"text-align: right;\">0.0</td><td style = \"text-align: right;\">0.0</td><td style = \"text-align: right;\">0.0</td><td style = \"text-align: right;\">0.0</td><td style = \"text-align: right;\">0.0</td><td style = \"text-align: right;\">0.0</td><td style = \"text-align: right;\">0.0</td><td style = \"text-align: right;\">0.0</td><td style = \"text-align: right;\">0.0</td><td style = \"text-align: right;\">0.0</td><td style = \"text-align: right;\">0.0</td><td style = \"text-align: right;\">0.0</td><td style = \"text-align: right;\">0.0</td><td style = \"text-align: right;\">0.4868</td><td style = \"text-align: right;\">0.04</td><td style = \"text-align: right;\">0.0591</td><td style = \"text-align: right;\">0.0245</td><td style = \"text-align: right;\">0.0</td><td style = \"text-align: right;\">0.0178</td><td style = \"text-align: right;\">0.0</td><td style = \"text-align: right;\">0.0168</td><td style = \"text-align: right;\">0.0</td><td style = \"text-align: right;\">0.0324</td><td style = \"text-align: right;\">0.00777</td><td style = \"text-align: right;\">0.00607</td><td style = \"text-align: right;\">0.01499</td><td style = \"text-align: right;\">0.0</td><td style = \"text-align: right;\">0.0</td><td style = \"text-align: right;\">0.0216</td><td style = \"text-align: right;\">0.0</td><td style = \"text-align: right;\">0.0</td><td style = \"text-align: right;\">0.352</td></tr><tr><td class = \"rowNumber\" style = \"font-weight: bold; text-align: right;\">2</td><td style = \"text-align: left;\">Maize (Meal)</td><td style = \"text-align: right;\">0.0011</td><td style = \"text-align: right;\">0.00064</td><td style = \"text-align: right;\">100</td><td style = \"text-align: right;\">3.45</td><td style = \"text-align: right;\">0.016</td><td style = \"text-align: right;\">0.003</td><td style = \"text-align: right;\">0.0</td><td style = \"text-align: right;\">0.04</td><td style = \"text-align: right;\">0.378</td><td style = \"text-align: right;\">0.08</td><td style = \"text-align: right;\">0.0</td><td style = \"text-align: right;\">0.06269</td><td style = \"text-align: right;\">0.00145</td><td style = \"text-align: right;\">0.00114</td><td style = \"text-align: right;\">0.0037</td><td style = \"text-align: right;\">0.0</td><td style = \"text-align: right;\">0.0</td><td style = \"text-align: right;\">0.0</td><td style = \"text-align: right;\">0.0</td><td style = \"text-align: right;\">0.0</td><td style = \"text-align: right;\">1.6</td><td style = \"text-align: right;\">0.0</td><td style = \"text-align: right;\">0.0</td><td style = \"text-align: right;\">0.00396</td><td style = \"text-align: right;\">0.0</td><td style = \"text-align: right;\">0.0</td><td style = \"text-align: right;\">0.0057</td><td style = \"text-align: right;\">0.0057</td><td style = \"text-align: right;\">0.022</td><td style = \"text-align: right;\">0.32</td><td style = \"text-align: right;\">0.00343</td><td style = \"text-align: right;\">0.0268</td><td style = \"text-align: right;\">0.96</td><td style = \"text-align: right;\">0.01034</td><td style = \"text-align: right;\">2.96</td><td style = \"text-align: right;\">3.09</td><td style = \"text-align: right;\">0.377</td><td style = \"text-align: right;\">0.02</td><td style = \"text-align: right;\">0.105</td><td style = \"text-align: right;\">0.00409</td><td style = \"text-align: right;\">0.00526</td><td style = \"text-align: right;\">0.00655</td><td style = \"text-align: right;\">0.00232</td><td style = \"text-align: right;\">0.02741</td><td style = \"text-align: right;\">0.0038</td><td style = \"text-align: right;\">0.00236</td><td style = \"text-align: right;\">0.0</td><td style = \"text-align: right;\">0.00383</td><td style = \"text-align: right;\">0.00713</td><td style = \"text-align: right;\">0.00391</td><td style = \"text-align: right;\">0.00202</td><td style = \"text-align: right;\">0.00589</td><td style = \"text-align: right;\">0.01247</td><td style = \"text-align: right;\">0.00443</td><td style = \"text-align: right;\">0.00356</td><td style = \"text-align: right;\">0.00175</td><td style = \"text-align: right;\">0.00301</td><td style = \"text-align: right;\">0.00515</td><td style = \"text-align: right;\">0.7452</td><td style = \"text-align: right;\">0.101</td><td style = \"text-align: right;\">0.008</td><td style = \"text-align: right;\">0.0</td><td style = \"text-align: right;\">0.0</td><td style = \"text-align: right;\">0.0</td><td style = \"text-align: right;\">0.0</td><td style = \"text-align: right;\">0.0</td><td style = \"text-align: right;\">0.0</td><td style = \"text-align: right;\">0.016</td><td style = \"text-align: right;\">0.00335</td><td style = \"text-align: right;\">0.00205</td><td style = \"text-align: right;\">0.00771</td><td style = \"text-align: right;\">0.0</td><td style = \"text-align: right;\">0.0</td><td style = \"text-align: right;\">0.0128</td><td style = \"text-align: right;\">0.0</td><td style = \"text-align: right;\">0.0</td><td style = \"text-align: right;\">0.1211</td></tr><tr><td class = \"rowNumber\" style = \"font-weight: bold; text-align: right;\">3</td><td style = \"text-align: left;\">Barley (Beer)</td><td style = \"text-align: right;\">0.0011</td><td style = \"text-align: right;\">0.00148</td><td style = \"text-align: right;\">100</td><td style = \"text-align: right;\">0.41</td><td style = \"text-align: right;\">0.0</td><td style = \"text-align: right;\">0.0</td><td style = \"text-align: right;\">0.0</td><td style = \"text-align: right;\">0.0</td><td style = \"text-align: right;\">0.0</td><td style = \"text-align: right;\">0.0</td><td style = \"text-align: right;\">0.0</td><td style = \"text-align: right;\">0.0</td><td style = \"text-align: right;\">0.0</td><td style = \"text-align: right;\">0.0</td><td style = \"text-align: right;\">0.0</td><td style = \"text-align: right;\">0.0</td><td style = \"text-align: right;\">0.0</td><td style = \"text-align: right;\">0.0</td><td style = \"text-align: right;\">0.0</td><td style = \"text-align: right;\">0.0</td><td style = \"text-align: right;\">0.0</td><td style = \"text-align: right;\">0.0</td><td style = \"text-align: right;\">0.0</td><td style = \"text-align: right;\">0.0</td><td style = \"text-align: right;\">0.0</td><td style = \"text-align: right;\">0.0</td><td style = \"text-align: right;\">0.0</td><td style = \"text-align: right;\">0.0</td><td style = \"text-align: right;\">0.0</td><td style = \"text-align: right;\">0.0</td><td style = \"text-align: right;\">0.0</td><td style = \"text-align: right;\">0.0</td><td style = \"text-align: right;\">0.0</td><td style = \"text-align: right;\">0.0</td><td style = \"text-align: right;\">0.0</td><td style = \"text-align: right;\">0.0</td><td style = \"text-align: right;\">0.0</td><td style = \"text-align: right;\">0.0</td><td style = \"text-align: right;\">0.0036</td><td style = \"text-align: right;\">0.0</td><td style = \"text-align: right;\">0.0</td><td style = \"text-align: right;\">0.0</td><td style = \"text-align: right;\">0.0</td><td style = \"text-align: right;\">0.0</td><td style = \"text-align: right;\">0.0</td><td style = \"text-align: right;\">0.0</td><td style = \"text-align: right;\">0.0</td><td style = \"text-align: right;\">0.0</td><td style = \"text-align: right;\">0.0</td><td style = \"text-align: right;\">0.0</td><td style = \"text-align: right;\">0.0</td><td style = \"text-align: right;\">0.0</td><td style = \"text-align: right;\">0.0</td><td style = \"text-align: right;\">0.0</td><td style = \"text-align: right;\">0.0</td><td style = \"text-align: right;\">0.0</td><td style = \"text-align: right;\">0.0</td><td style = \"text-align: right;\">0.0</td><td style = \"text-align: right;\">0.0297</td><td style = \"text-align: right;\">0.0</td><td style = \"text-align: right;\">0.0</td><td style = \"text-align: right;\">0.0</td><td style = \"text-align: right;\">0.0</td><td style = \"text-align: right;\">0.0</td><td style = \"text-align: right;\">0.0</td><td style = \"text-align: right;\">0.0</td><td style = \"text-align: right;\">0.0</td><td style = \"text-align: right;\">0.0</td><td style = \"text-align: right;\">0.0</td><td style = \"text-align: right;\">0.0</td><td style = \"text-align: right;\">0.0</td><td style = \"text-align: right;\">0.0</td><td style = \"text-align: right;\">0.039</td><td style = \"text-align: right;\">0.0011</td><td style = \"text-align: right;\">0.0</td><td style = \"text-align: right;\">0.0</td><td style = \"text-align: right;\">0.9277</td></tr><tr><td class = \"rowNumber\" style = \"font-weight: bold; text-align: right;\">4</td><td style = \"text-align: left;\">Oats</td><td style = \"text-align: right;\">0.0016</td><td style = \"text-align: right;\">0.00197</td><td style = \"text-align: right;\">100</td><td style = \"text-align: right;\">3.89</td><td style = \"text-align: right;\">0.069</td><td style = \"text-align: right;\">0.012</td><td style = \"text-align: right;\">0.0</td><td style = \"text-align: right;\">0.02</td><td style = \"text-align: right;\">0.0</td><td style = \"text-align: right;\">0.56</td><td style = \"text-align: right;\">0.0</td><td style = \"text-align: right;\">0.00961</td><td style = \"text-align: right;\">0.01349</td><td style = \"text-align: right;\">0.00139</td><td style = \"text-align: right;\">0.00763</td><td style = \"text-align: right;\">0.0</td><td style = \"text-align: right;\">0.0</td><td style = \"text-align: right;\">0.0</td><td style = \"text-align: right;\">0.0</td><td style = \"text-align: right;\">0.0</td><td style = \"text-align: right;\">0.0</td><td style = \"text-align: right;\">0.0</td><td style = \"text-align: right;\">0.0</td><td style = \"text-align: right;\">0.00119</td><td style = \"text-align: right;\">0.0</td><td style = \"text-align: right;\">0.0</td><td style = \"text-align: right;\">0.0</td><td style = \"text-align: right;\">0.0</td><td style = \"text-align: right;\">0.0</td><td style = \"text-align: right;\">0.54</td><td style = \"text-align: right;\">0.00626</td><td style = \"text-align: right;\">0.0472</td><td style = \"text-align: right;\">1.77</td><td style = \"text-align: right;\">0.04916</td><td style = \"text-align: right;\">5.23</td><td style = \"text-align: right;\">4.29</td><td style = \"text-align: right;\">0.0</td><td style = \"text-align: right;\">0.0397</td><td style = \"text-align: right;\">0.1689</td><td style = \"text-align: right;\">0.00881</td><td style = \"text-align: right;\">0.01192</td><td style = \"text-align: right;\">0.01448</td><td style = \"text-align: right;\">0.00408</td><td style = \"text-align: right;\">0.03712</td><td style = \"text-align: right;\">0.00841</td><td style = \"text-align: right;\">0.00405</td><td style = \"text-align: right;\">0.0</td><td style = \"text-align: right;\">0.00694</td><td style = \"text-align: right;\">0.01284</td><td style = \"text-align: right;\">0.00701</td><td style = \"text-align: right;\">0.00312</td><td style = \"text-align: right;\">0.00895</td><td style = \"text-align: right;\">0.00934</td><td style = \"text-align: right;\">0.0075</td><td style = \"text-align: right;\">0.00575</td><td style = \"text-align: right;\">0.00234</td><td style = \"text-align: right;\">0.00573</td><td style = \"text-align: right;\">0.00937</td><td style = \"text-align: right;\">0.6627</td><td style = \"text-align: right;\">0.106</td><td style = \"text-align: right;\">0.0</td><td style = \"text-align: right;\">0.0</td><td style = \"text-align: right;\">0.0</td><td style = \"text-align: right;\">0.0</td><td style = \"text-align: right;\">0.0</td><td style = \"text-align: right;\">0.0</td><td style = \"text-align: right;\">0.0</td><td style = \"text-align: right;\">0.069</td><td style = \"text-align: right;\">0.01217</td><td style = \"text-align: right;\">0.02178</td><td style = \"text-align: right;\">0.02535</td><td style = \"text-align: right;\">0.0</td><td style = \"text-align: right;\">0.0</td><td style = \"text-align: right;\">0.0172</td><td style = \"text-align: right;\">0.0</td><td style = \"text-align: right;\">0.0</td><td style = \"text-align: right;\">0.0822</td></tr><tr><td class = \"rowNumber\" style = \"font-weight: bold; text-align: right;\">5</td><td style = \"text-align: left;\">Rice</td><td style = \"text-align: right;\">0.004</td><td style = \"text-align: right;\">0.00134</td><td style = \"text-align: right;\">100</td><td style = \"text-align: right;\">3.57</td><td style = \"text-align: right;\">0.011</td><td style = \"text-align: right;\">0.002</td><td style = \"text-align: right;\">0.0</td><td style = \"text-align: right;\">0.07</td><td style = \"text-align: right;\">0.35</td><td style = \"text-align: right;\">0.95</td><td style = \"text-align: right;\">0.0</td><td style = \"text-align: right;\">0.06733</td><td style = \"text-align: right;\">0.01074</td><td style = \"text-align: right;\">0.00262</td><td style = \"text-align: right;\">0.00115</td><td style = \"text-align: right;\">0.19</td><td style = \"text-align: right;\">0.01</td><td style = \"text-align: right;\">0.0</td><td style = \"text-align: right;\">0.11</td><td style = \"text-align: right;\">0.0</td><td style = \"text-align: right;\">2.2</td><td style = \"text-align: right;\">0.0</td><td style = \"text-align: right;\">0.0</td><td style = \"text-align: right;\">0.00391</td><td style = \"text-align: right;\">0.0</td><td style = \"text-align: right;\">0.0</td><td style = \"text-align: right;\">0.0082</td><td style = \"text-align: right;\">0.0082</td><td style = \"text-align: right;\">0.019</td><td style = \"text-align: right;\">0.21</td><td style = \"text-align: right;\">0.00524</td><td style = \"text-align: right;\">0.0196</td><td style = \"text-align: right;\">1.77</td><td style = \"text-align: right;\">0.01329</td><td style = \"text-align: right;\">4.33</td><td style = \"text-align: right;\">4.27</td><td style = \"text-align: right;\">0.028</td><td style = \"text-align: right;\">0.0596</td><td style = \"text-align: right;\">0.1473</td><td style = \"text-align: right;\">0.00825</td><td style = \"text-align: right;\">0.01136</td><td style = \"text-align: right;\">0.01419</td><td style = \"text-align: right;\">0.00174</td><td style = \"text-align: right;\">0.02565</td><td style = \"text-align: right;\">0.00672</td><td style = \"text-align: right;\">0.00384</td><td style = \"text-align: right;\">0.0</td><td style = \"text-align: right;\">0.00618</td><td style = \"text-align: right;\">0.01018</td><td style = \"text-align: right;\">0.00629</td><td style = \"text-align: right;\">0.00438</td><td style = \"text-align: right;\">0.00721</td><td style = \"text-align: right;\">0.00519</td><td style = \"text-align: right;\">0.00778</td><td style = \"text-align: right;\">0.00469</td><td style = \"text-align: right;\">0.00179</td><td style = \"text-align: right;\">0.00622</td><td style = \"text-align: right;\">0.00858</td><td style = \"text-align: right;\">0.749</td><td style = \"text-align: right;\">0.062</td><td style = \"text-align: right;\">0.025</td><td style = \"text-align: right;\">0.0</td><td style = \"text-align: right;\">0.0</td><td style = \"text-align: right;\">0.0</td><td style = \"text-align: right;\">0.0</td><td style = \"text-align: right;\">0.0</td><td style = \"text-align: right;\">0.0067</td><td style = \"text-align: right;\">0.0108</td><td style = \"text-align: right;\">0.00156</td><td style = \"text-align: right;\">0.00159</td><td style = \"text-align: right;\">0.00676</td><td style = \"text-align: right;\">0.0</td><td style = \"text-align: right;\">0.0</td><td style = \"text-align: right;\">0.0153</td><td style = \"text-align: right;\">0.0</td><td style = \"text-align: right;\">0.0</td><td style = \"text-align: right;\">0.0776</td></tr></tbody></table></div>"
      ],
      "text/latex": [
       "\\begin{tabular}{r|cccccccc}\n",
       "\t& food & emissions & price & serving\\_size & calories & total\\_fat & saturated\\_fat & \\\\\n",
       "\t\\hline\n",
       "\t& String31 & Float64 & Float64 & Int64 & Float64 & Float64 & Float64 & \\\\\n",
       "\t\\hline\n",
       "\t1 & Wheat \\& Rye (Bread) & 0.0014 & 0.00145 & 100 & 2.67 & 0.032 & 0.008 & $\\dots$ \\\\\n",
       "\t2 & Maize (Meal) & 0.0011 & 0.00064 & 100 & 3.45 & 0.016 & 0.003 & $\\dots$ \\\\\n",
       "\t3 & Barley (Beer) & 0.0011 & 0.00148 & 100 & 0.41 & 0.0 & 0.0 & $\\dots$ \\\\\n",
       "\t4 & Oats & 0.0016 & 0.00197 & 100 & 3.89 & 0.069 & 0.012 & $\\dots$ \\\\\n",
       "\t5 & Rice & 0.004 & 0.00134 & 100 & 3.57 & 0.011 & 0.002 & $\\dots$ \\\\\n",
       "\\end{tabular}\n"
      ],
      "text/plain": [
       "\u001b[1m5×78 DataFrame\u001b[0m\n",
       "\u001b[1m Row \u001b[0m│\u001b[1m food                \u001b[0m\u001b[1m emissions \u001b[0m\u001b[1m price   \u001b[0m\u001b[1m serving_size \u001b[0m\u001b[1m calories \u001b[0m\u001b[1m total_\u001b[0m ⋯\n",
       "     │\u001b[90m String31            \u001b[0m\u001b[90m Float64   \u001b[0m\u001b[90m Float64 \u001b[0m\u001b[90m Int64        \u001b[0m\u001b[90m Float64  \u001b[0m\u001b[90m Float6\u001b[0m ⋯\n",
       "─────┼──────────────────────────────────────────────────────────────────────────\n",
       "   1 │ Wheat & Rye (Bread)     0.0014  0.00145           100      2.67      0. ⋯\n",
       "   2 │ Maize (Meal)            0.0011  0.00064           100      3.45      0.\n",
       "   3 │ Barley (Beer)           0.0011  0.00148           100      0.41      0.\n",
       "   4 │ Oats                    0.0016  0.00197           100      3.89      0.\n",
       "   5 │ Rice                    0.004   0.00134           100      3.57      0. ⋯\n",
       "\u001b[36m                                                              73 columns omitted\u001b[0m"
      ]
     },
     "execution_count": 37,
     "metadata": {},
     "output_type": "execute_result"
    }
   ],
   "source": [
    "first(data, 5)"
   ]
  },
  {
   "cell_type": "markdown",
   "id": "c0f7438e-a55d-4b58-a552-35ea45a2b016",
   "metadata": {},
   "source": [
    "## Price data"
   ]
  },
  {
   "cell_type": "code",
   "execution_count": 59,
   "id": "ca93e0f1-f7d7-45fb-8047-9e426eded7c4",
   "metadata": {},
   "outputs": [],
   "source": [
    "price = data[!, \"price\"];"
   ]
  },
  {
   "cell_type": "markdown",
   "id": "869602c8",
   "metadata": {},
   "source": [
    "## Food data"
   ]
  },
  {
   "cell_type": "code",
   "execution_count": 60,
   "id": "8d3918da",
   "metadata": {},
   "outputs": [],
   "source": [
    "food_products = data[!, \"food\"];"
   ]
  },
  {
   "cell_type": "code",
   "execution_count": 61,
   "id": "1d17a9e5",
   "metadata": {},
   "outputs": [],
   "source": [
    "foods = size(food_products, 1);"
   ]
  },
  {
   "cell_type": "markdown",
   "id": "c80dbf18",
   "metadata": {},
   "source": [
    "### Emissions data"
   ]
  },
  {
   "cell_type": "code",
   "execution_count": 62,
   "id": "dcc1f7a6",
   "metadata": {},
   "outputs": [],
   "source": [
    "emissions = data[!, \"emissions\"];"
   ]
  },
  {
   "cell_type": "markdown",
   "id": "8c0a7bdc",
   "metadata": {},
   "source": [
    "### Nutritional data"
   ]
  },
  {
   "cell_type": "code",
   "execution_count": 63,
   "id": "1b9920fc",
   "metadata": {},
   "outputs": [],
   "source": [
    "calories = data[!, \"calories\"];"
   ]
  },
  {
   "cell_type": "markdown",
   "id": "4ca8c118",
   "metadata": {},
   "source": [
    "#### Macro nutrients"
   ]
  },
  {
   "cell_type": "code",
   "execution_count": 64,
   "id": "492e81ba",
   "metadata": {},
   "outputs": [],
   "source": [
    "protein = data[!, \"protein\"]\n",
    "total_fat = data[!, \"total_fat\"]\n",
    "carbohydrate = data[!, \"carbohydrate\"]\n",
    "fiber = data[!, \"fiber\"]\n",
    "sugars = data[!, \"sugars\"]\n",
    "saturated_fatty_acids = data[!, \"saturated_fatty_acids\"]\n",
    "monounsaturated_fatty_acids = data[!, \"monounsaturated_fatty_acids\"]\n",
    "polyunsaturated_fatty_acids = data[!, \"polyunsaturated_fatty_acids\"]\n",
    "fatty_acids_total_trans = data[!, \"fatty_acids_total_trans\"];"
   ]
  },
  {
   "cell_type": "markdown",
   "id": "361f456c",
   "metadata": {},
   "source": [
    "#### Macro nutrients"
   ]
  },
  {
   "cell_type": "code",
   "execution_count": 65,
   "id": "9094742c",
   "metadata": {},
   "outputs": [],
   "source": [
    "vitamin_a = data[!, \"vitamin_a\"]\n",
    "vitamin_b6 = data[!, \"vitamin_b6\"]\n",
    "vitamin_b12 = data[!, \"vitamin_b12\"]\n",
    "vitamin_c = data[!, \"vitamin_c\"]\n",
    "vitamin_d = data[!, \"vitamin_d\"]\n",
    "vitamin_e = data[!, \"vitamin_e\"]\n",
    "vitamin_k = data[!, \"vitamin_k\"]\n",
    "thiamin = data[!, \"thiamin\"]\n",
    "riboflavin = data[!, \"riboflavin\"]\n",
    "niacin = data[!, \"niacin\"]\n",
    "folate = data[!, \"folate\"]\n",
    "pantothenic_acid = data[!, \"pantothenic_acid\"]\n",
    "calcium = data[!, \"calcium\"]\n",
    "iron = data[!, \"irom\"]\n",
    "magnesium = data[!, \"magnesium\"]\n",
    "phosphorous = data[!, \"phosphorous\"]\n",
    "potassium = data[!, \"potassium\"]\n",
    "sodium = data[!, \"sodium\"]\n",
    "zinc = data[!, \"zink\"]\n",
    "copper = data[!, \"copper\"]\n",
    "manganese = data[!, \"manganese\"]\n",
    "selenium = data[!, \"selenium\"]\n",
    "choline = data[!, \"choline\"]\n",
    "lutein_zeaxanthin = data[!, \"lutein_zeaxanthin\"]\n",
    "lucopene = data[!, \"lucopene\"]\n",
    "carotene_beta = data[!, \"carotene_beta\"]\n",
    "cryptoxanthin_beta = data[!, \"cryptoxanthin_beta\"]\n",
    "tocopherol_alpha = data[!, \"tocopherol_alpha\"];"
   ]
  },
  {
   "cell_type": "markdown",
   "id": "103690a0",
   "metadata": {},
   "source": [
    "#### Amino Acids"
   ]
  },
  {
   "cell_type": "code",
   "execution_count": 66,
   "id": "64352de5",
   "metadata": {},
   "outputs": [],
   "source": [
    "alanine = data[!, \"alanine\"]\n",
    "arginine = data[!, \"arginine\"]\n",
    "aspartic_acid = data[!, \"aspartic_acid\"]\n",
    "cystine = data[!, \"cystine\"]\n",
    "glutamic_acid = data[!, \"glutamic_acid\"]\n",
    "glycine = data[!, \"glycine\"]\n",
    "histidine = data[!, \"histidine\"]\n",
    "hydroxyproline = data[!, \"hydroxyproline\"]\n",
    "isoleucine = data[!, \"isoleucine\"]\n",
    "leucine = data[!, \"leucine\"]\n",
    "lysine = data[!, \"lysine\"]\n",
    "methionine = data[!, \"methionine\"]\n",
    "phenylalanine = data[!, \"phenylalanine\"]\n",
    "proline = data[!, \"proline\"]\n",
    "serine = data[!, \"serine\"]\n",
    "threonine = data[!, \"threonine\"]\n",
    "tryptophan = data[!, \"tryptophan\"]\n",
    "tyrosine = data[!, \"tyrosine\"]\n",
    "valine = data[!, \"valine\"];"
   ]
  },
  {
   "cell_type": "markdown",
   "id": "a67bd36e",
   "metadata": {},
   "source": [
    "#### Other nutrients"
   ]
  },
  {
   "cell_type": "code",
   "execution_count": 67,
   "id": "eabd49aa",
   "metadata": {},
   "outputs": [],
   "source": [
    "water = data[!, \"water\"]\n",
    "caffeine = data[!, \"caffeine\"]\n",
    "theobromine = data[!, \"theobromine\"]\n",
    "ash = data[!, \"ash\"]\n",
    "alcohol = data[!, \"alcohol\"];"
   ]
  },
  {
   "cell_type": "markdown",
   "id": "e251c1f5",
   "metadata": {},
   "source": [
    "# Creating model"
   ]
  },
  {
   "cell_type": "markdown",
   "id": "04500e76-7ed4-4160-8948-7b4f206cc8c1",
   "metadata": {},
   "source": [
    "## Auxiliary variables"
   ]
  },
  {
   "cell_type": "code",
   "execution_count": 68,
   "id": "e4de8364-7cd0-4377-8af6-74c0a8bb63d9",
   "metadata": {},
   "outputs": [],
   "source": [
    "# Define all food groups\n",
    "fish = [\"Fish (farmed)\", \"Shrimps (farmed)\"]\n",
    "fish_inds = [findfirst(isequal(item), food_products) for item in fish]\n",
    "\n",
    "meats = [\"Beef (beef herd)\", \"Beef (dairy herd)\", \"Lamb & Mutton\", \"Pork\", \"Chicken Meat\"]\n",
    "meat_inds = [findfirst(isequal(item), food_products) for item in meats]\n",
    "\n",
    "animal = [\"Beef (beef herd)\", \"Beef (dairy herd)\", \"Lamb & Mutton\", \"Pork\", \"Chicken Meat\", \"Milk\", \"Cheese\", \"Eggs\", \n",
    "    \"Fish (farmed)\", \"Shrimps (farmed)\"]\n",
    "animal_inds = [findfirst(isequal(item), food_products) for item in animal]\n",
    "\n",
    "dairy = [\"Milk\", \"Cheese\"]\n",
    "dairy_inds = [findfirst(isequal(item), food_products) for item in dairy]\n",
    "\n",
    "gluten = [\"Wheat & Rye (Bread)\", \"Barley (Beer)\"]\n",
    "gluten_inds = [findfirst(isequal(item), food_products) for item in gluten]\n",
    "\n",
    "alcohol = [\"Barley (Beer)\", \"Wine\"];\n",
    "alcohol_inds = [findfirst(isequal(item), food_products) for item in alcohol]\n",
    "\n",
    "nuts = [\"Nuts\", \"Peanuts\"]\n",
    "nuts_inds = [findfirst(isequal(item), food_products) for item in nuts]\n",
    "\n",
    "caffeine = [\"Coffee\"]\n",
    "caffeine_inds = [findfirst(isequal(item), food_products) for item in caffeine];"
   ]
  },
  {
   "cell_type": "code",
   "execution_count": 101,
   "id": "198089e7-cec4-481d-ad28-6fa1fb09d8e1",
   "metadata": {},
   "outputs": [],
   "source": [
    "# Big-M\n",
    "M = 10000;"
   ]
  },
  {
   "cell_type": "markdown",
   "id": "358886bf-27f7-4109-b8ce-bdc58a551ae5",
   "metadata": {},
   "source": [
    "## Optimize diet function"
   ]
  },
  {
   "cell_type": "code",
   "execution_count": 111,
   "id": "3eda189b-16ad-4310-90f8-06ff2ddd893a",
   "metadata": {},
   "outputs": [
    {
     "data": {
      "text/plain": [
       "optimize_diet (generic function with 2 methods)"
      ]
     },
     "execution_count": 111,
     "metadata": {},
     "output_type": "execute_result"
    }
   ],
   "source": [
    "function optimize_diet(lambda, vegetarian, vegan, fish, meat_low, meat_med, meat_high, \n",
    "        lactose_intolerant, gluten_intolerant, nuts_intolerant,\n",
    "        alcohol, caffeine)\n",
    "    \n",
    "    # Price sensitivity\n",
    "    lambda = 0;\n",
    "\n",
    "    # Dietary preferences\n",
    "    z_veg = vegetarian\n",
    "    z_vegan = vegan\n",
    "    z_fish = fish\n",
    "    z_meat_low = meat_low\n",
    "    z_meat_med = meat_med\n",
    "    z_meat_high = meat_high\n",
    "    \n",
    "    z_lactose = lactose_intolerant\n",
    "    z_gluten = gluten_intolerant\n",
    "    z_nuts = nuts_intolerant\n",
    "    \n",
    "    z_alc = alcohol\n",
    "    z_caffeine = caffeine;\n",
    "\n",
    "    # Create the model\n",
    "    model = Model(Gurobi.Optimizer);\n",
    "\n",
    "    # Define the decision variable\n",
    "    @variable(model, x[1:foods] >= 0);\n",
    "\n",
    "    # Define the dual objective function (to minimize total carbon emissions and cost)\n",
    "    @objective(model, Min, sum(emissions[i] * x[i] for i in 1:foods) \n",
    "        + lambda * sum(price[i] * x[i] for i in 1:foods));\n",
    "\n",
    "    # Ingredient limit constraints\n",
    "    @constraint(model, ingredient_limit[i=1:foods], x[i] <= 500);\n",
    "    @constraint(model, nuts_limit, x[findfirst(isequal(\"Nuts\"), food_products)] <= 100)\n",
    "    @constraint(model, turnips_limit, x[findfirst(isequal(\"Turnips\"), food_products)] <= 200)\n",
    "    @constraint(model, soymilk_limit, x[findfirst(isequal(\"Soymilk\"), food_products)] <= 300)\n",
    "    @constraint(model, mandarin_limit, x[findfirst(isequal(\"Mandarin Orange\"), food_products)] <= 400);\n",
    "\n",
    "    # Dietary preference constraints\n",
    "    @constraint(model, vegetarian_constraint[i in meat_inds], x[i] <= M * (1 - z_veg))\n",
    "    @constraint(model, vegan_constraint[i in animal_inds], x[i] <= M * (1 - z_vegan))\n",
    "    @constraint(model, lactose_constraint[i in dairy_inds], x[i] <= M * (1 - z_lactose))\n",
    "    @constraint(model, gluten_constraint[i in gluten_inds], x[i] <= M * (1 - z_gluten))\n",
    "    @constraint(model, nuts_constraint[i in nuts_inds], x[i] <= M * (1 - z_nuts))\n",
    "    \n",
    "    @constraint(model, alcohol_constraint, sum(x[i] for i in alcohol_inds) >= 50 * z_alc)\n",
    "    @constraint(model, caffeine_constraint, sum(x[i] for i in caffeine_inds) >= 10 * z_caffeine)\n",
    "    @constraint(model, fish_constraint, sum(x[i] for i in fish_inds) >= 100 * z_fish)\n",
    "    @constraint(model, meat_low_constraint, sum(x[i] for i in meat_inds) >= 100 * z_meat_low)\n",
    "    @constraint(model, meat_med_constraint, sum(x[i] for i in meat_inds) >= 200 * z_meat_med)\n",
    "    @constraint(model, meat_high_constraint, sum(x[i] for i in meat_inds) >= 300 * z_meat_high);\n",
    "\n",
    "    # Macro nutrient constraints\n",
    "    @constraint(model, sum(protein[i] * x[i] for i in 1:foods) >= 50)         # Protein minimum 50g\n",
    "    @constraint(model, sum(total_fat[i] * x[i] for i in 1:foods) >= 78)       # Fat minimum 78g\n",
    "    @constraint(model, sum(carbohydrate[i] * x[i] for i in 1:foods) >= 275);  # Carbohydrate minimum 275g\n",
    "\n",
    "    # Micro nutrient constraints\n",
    "    @constraint(model, sum(calcium[i] * x[i] for i in 1:foods) >= 1300)     # Calcium minimum 1300mg\n",
    "    @constraint(model, sum(iron[i] * x[i] for i in 1:foods) >= 18)          # Iron minimum 18mg\n",
    "    @constraint(model, sum(magnesium[i] * x[i] for i in 1:foods) >= 420)    # Magnesium minimum 420mg\n",
    "    @constraint(model, sum(phosphorous[i] * x[i] for i in 1:foods) >= 1250) # Phosphorus minimum 1250mg\n",
    "    @constraint(model, sum(potassium[i] * x[i] for i in 1:foods) >= 4700)   # Potassium minimum 4700mg\n",
    "    @constraint(model, sum(sodium[i] * x[i] for i in 1:foods) >= 2300)      # Sodium minimum 2300mg ***\n",
    "    @constraint(model, sum(zinc[i] * x[i] for i in 1:foods) >= 11)          # Zinc minimum 11mg\n",
    "    @constraint(model, sum(vitamin_a[i] * x[i] for i in 1:foods) >= 900)    # Vitamin A minimum 900mcg RAE\n",
    "    @constraint(model, sum(vitamin_c[i] * x[i] for i in 1:foods) >= 90)     # Vitamin C minimum 90mg\n",
    "    @constraint(model, sum(vitamin_d[i] * x[i] for i in 1:foods) >= 20)     # Vitamin D minimum 20mcg\n",
    "    @constraint(model, sum(vitamin_e[i] * x[i] for i in 1:foods) >= 15)     # Vitamin E minimum 15mg alpha-tocopherol\n",
    "    @constraint(model, sum(vitamin_k[i] * x[i] for i in 1:foods) >= 120)    # Vitamin K minimum 120mcg\n",
    "    @constraint(model, sum(riboflavin[i] * x[i] for i in 1:foods) >= 1.3)   # Riboflavin minimum 1.3mg\n",
    "    @constraint(model, sum(niacin[i] * x[i] for i in 1:foods) >= 16)        # Niacin minimum 16mg NE\n",
    "    @constraint(model, sum(folate[i] * x[i] for i in 1:foods) >= 400)       # Folate minimum 400mcg DFE\n",
    "    @constraint(model, sum(vitamin_b12[i] * x[i] for i in 1:foods) >= 2.4)  # Vitamin B12 minimum 2.4mcg\n",
    "    @constraint(model, sum(vitamin_b6[i] * x[i] for i in 1:foods) >= 1.7)   # Vitamin B6 minimum 1.7mg\n",
    "    @constraint(model, sum(choline[i] * x[i] for i in 1:foods) >= 550);     # Choline minimum 550mg\n",
    "\n",
    "    # Calorie constraints\n",
    "    @constraint(model, sum(calories[i] * x[i] for i in 1:foods) >= 2000); # Calories minimum at 2000\n",
    "    # @constraint(model, sum(calories[i] * x[i] for i in 1:foods) <= 2500) # Calories maximum at 2500\n",
    "\n",
    "    # Optimize\n",
    "    optimize!(model)\n",
    "\n",
    "    optimal_diet = Float64[]\n",
    "    total_emissions_optimal = 0.0\n",
    "    total_price_optimal = 0.0\n",
    "    \n",
    "    # Check if the model has a solution\n",
    "    if termination_status(model) == MOI.OPTIMAL || termination_status(model) == MOI.LOCALLY_SOLVED\n",
    "        \n",
    "        # Retrieve optimal values for decision variables\n",
    "        optimal_diet = value.(x)\n",
    "        \n",
    "        # Retrieve the objective function value\n",
    "        total_emissions_optimal = sum(optimal_diet[i] * emissions[i] for i in 1:foods)\n",
    "        total_price_optimal = sum(optimal_diet[i] * price[i] for i in 1:foods)\n",
    "        \n",
    "    else\n",
    "        println(\"No optimal solution found. Status: \", termination_status(model))\n",
    "    end\n",
    "\n",
    "    return optimal_diet, total_emissions_optimal, total_price_optimal\n",
    "    \n",
    "end"
   ]
  },
  {
   "cell_type": "markdown",
   "id": "f24707f2-53ff-4699-a2f0-12057b7f36e4",
   "metadata": {},
   "source": [
    "## Extract functions"
   ]
  },
  {
   "cell_type": "code",
   "execution_count": 112,
   "id": "3816461a-a2bd-4a3b-b85e-fc005d31f89f",
   "metadata": {},
   "outputs": [
    {
     "data": {
      "text/plain": [
       "extract_foods (generic function with 1 method)"
      ]
     },
     "execution_count": 112,
     "metadata": {},
     "output_type": "execute_result"
    }
   ],
   "source": [
    "function extract_foods(diet)\n",
    "    \n",
    "    println(\"\\nOptimal diet (grams of food):\\n\")\n",
    "    \n",
    "    for i in 1:length(diet)\n",
    "        if diet[i] > 0.0\n",
    "            println(food_products[i], \": \", round(diet[i], digits=2))\n",
    "        end\n",
    "    end\n",
    "    \n",
    "end"
   ]
  },
  {
   "cell_type": "code",
   "execution_count": 113,
   "id": "241f5e67-cfc2-4d76-9200-7af6dd06451f",
   "metadata": {},
   "outputs": [
    {
     "data": {
      "text/plain": [
       "extract_nutrients (generic function with 1 method)"
      ]
     },
     "execution_count": 113,
     "metadata": {},
     "output_type": "execute_result"
    }
   ],
   "source": [
    "function extract_nutrients(optimal_diet)\n",
    "    total_nutrients = Dict(\n",
    "        \"calories\" => sum(calories[i] * optimal_diet[i] for i in 1:foods),\n",
    "        \"protein\" => sum(protein[i] * optimal_diet[i] for i in 1:foods),\n",
    "        \"total_fat\" => sum(total_fat[i] * optimal_diet[i] for i in 1:foods),\n",
    "        \"carbohydrate\" => sum(carbohydrate[i] * optimal_diet[i] for i in 1:foods),\n",
    "        \"fiber\" => sum(fiber[i] * optimal_diet[i] for i in 1:foods),\n",
    "        \"sugars\" => sum(sugars[i] * optimal_diet[i] for i in 1:foods),\n",
    "        \"saturated_fatty_acids\" => sum(saturated_fatty_acids[i] * optimal_diet[i] for i in 1:foods),\n",
    "        \"monounsaturated_fatty_acids\" => sum(monounsaturated_fatty_acids[i] * optimal_diet[i] for i in 1:foods),\n",
    "        \"polyunsaturated_fatty_acids\" => sum(polyunsaturated_fatty_acids[i] * optimal_diet[i] for i in 1:foods),\n",
    "        \"fatty_acids_total_trans\" => sum(fatty_acids_total_trans[i] * optimal_diet[i] for i in 1:foods),\n",
    "        \"vitamin_a\" => sum(vitamin_a[i] * optimal_diet[i] for i in 1:foods),\n",
    "        \"vitamin_b6\" => sum(vitamin_b6[i] * optimal_diet[i] for i in 1:foods),\n",
    "        \"vitamin_b12\" => sum(vitamin_b12[i] * optimal_diet[i] for i in 1:foods),\n",
    "        \"vitamin_c\" => sum(vitamin_c[i] * optimal_diet[i] for i in 1:foods),\n",
    "        \"vitamin_d\" => sum(vitamin_d[i] * optimal_diet[i] for i in 1:foods),\n",
    "        \"vitamin_e\" => sum(vitamin_e[i] * optimal_diet[i] for i in 1:foods),\n",
    "        \"vitamin_k\" => sum(vitamin_k[i] * optimal_diet[i] for i in 1:foods),\n",
    "        \"thiamin\" => sum(thiamin[i] * optimal_diet[i] for i in 1:foods),\n",
    "        \"riboflavin\" => sum(riboflavin[i] * optimal_diet[i] for i in 1:foods),\n",
    "        \"niacin\" => sum(niacin[i] * optimal_diet[i] for i in 1:foods),\n",
    "        \"folate\" => sum(folate[i] * optimal_diet[i] for i in 1:foods),\n",
    "        \"pantothenic_acid\" => sum(pantothenic_acid[i] * optimal_diet[i] for i in 1:foods),\n",
    "        \"calcium\" => sum(calcium[i] * optimal_diet[i] for i in 1:foods),\n",
    "        \"iron\" => sum(iron[i] * optimal_diet[i] for i in 1:foods),\n",
    "        \"magnesium\" => sum(magnesium[i] * optimal_diet[i] for i in 1:foods),\n",
    "        \"phosphorous\" => sum(phosphorous[i] * optimal_diet[i] for i in 1:foods),\n",
    "        \"potassium\" => sum(potassium[i] * optimal_diet[i] for i in 1:foods),\n",
    "        \"sodium\" => sum(sodium[i] * optimal_diet[i] for i in 1:foods),\n",
    "        \"zinc\" => sum(zinc[i] * optimal_diet[i] for i in 1:foods),\n",
    "        \"copper\" => sum(copper[i] * optimal_diet[i] for i in 1:foods),\n",
    "        \"manganese\" => sum(manganese[i] * optimal_diet[i] for i in 1:foods),\n",
    "        \"selenium\" => sum(selenium[i] * optimal_diet[i] for i in 1:foods),\n",
    "        \"choline\" => sum(choline[i] * optimal_diet[i] for i in 1:foods),\n",
    "        \"lutein_zeaxanthin\" => sum(lutein_zeaxanthin[i] * optimal_diet[i] for i in 1:foods),\n",
    "        \"lucopene\" => sum(lucopene[i] * optimal_diet[i] for i in 1:foods),\n",
    "        \"carotene_beta\" => sum(carotene_beta[i] * optimal_diet[i] for i in 1:foods),\n",
    "        \"cryptoxanthin_beta\" => sum(cryptoxanthin_beta[i] * optimal_diet[i] for i in 1:foods),\n",
    "        \"tocopherol_alpha\" => sum(tocopherol_alpha[i] * optimal_diet[i] for i in 1:foods),\n",
    "        \"alanine\" => sum(alanine[i] * optimal_diet[i] for i in 1:foods),\n",
    "        \"arginine\" => sum(arginine[i] * optimal_diet[i] for i in 1:foods),\n",
    "        \"aspartic_acid\" => sum(aspartic_acid[i] * optimal_diet[i] for i in 1:foods),\n",
    "        \"cystine\" => sum(cystine[i] * optimal_diet[i] for i in 1:foods),\n",
    "        \"glutamic_acid\" => sum(glutamic_acid[i] * optimal_diet[i] for i in 1:foods),\n",
    "        \"glycine\" => sum(glycine[i] * optimal_diet[i] for i in 1:foods),\n",
    "        \"histidine\" => sum(histidine[i] * optimal_diet[i] for i in 1:foods),\n",
    "        \"hydroxyproline\" => sum(hydroxyproline[i] * optimal_diet[i] for i in 1:foods),\n",
    "        \"isoleucine\" => sum(isoleucine[i] * optimal_diet[i] for i in 1:foods),\n",
    "        \"leucine\" => sum(leucine[i] * optimal_diet[i] for i in 1:foods),\n",
    "        \"lysine\" => sum(lysine[i] * optimal_diet[i] for i in 1:foods),\n",
    "        \"methionine\" => sum(methionine[i] * optimal_diet[i] for i in 1:foods),\n",
    "        \"phenylalanine\" => sum(phenylalanine[i] * optimal_diet[i] for i in 1:foods),\n",
    "        \"proline\" => sum(proline[i] * optimal_diet[i] for i in 1:foods),\n",
    "        \"serine\" => sum(serine[i] * optimal_diet[i] for i in 1:foods),\n",
    "        \"threonine\" => sum(threonine[i] * optimal_diet[i] for i in 1:foods),\n",
    "        \"tryptophan\" => sum(tryptophan[i] * optimal_diet[i] for i in 1:foods),\n",
    "        \"tyrosine\" => sum(tyrosine[i] * optimal_diet[i] for i in 1:foods),\n",
    "        \"valine\" => sum(valine[i] * optimal_diet[i] for i in 1:foods)\n",
    "    )\n",
    "    \n",
    "    # Print the total nutrients rounded to 2 decimal places\n",
    "    println(\"\\nTotal nutrients in the optimized diet:\\n\")\n",
    "    for (nutrient, total) in total_nutrients\n",
    "        println(nutrient, \": \", round(total, digits=2))\n",
    "    end\n",
    "end"
   ]
  },
  {
   "cell_type": "markdown",
   "id": "605afdc9-be17-460b-ba06-9a70c47f6f02",
   "metadata": {},
   "source": [
    "# Using model"
   ]
  },
  {
   "cell_type": "markdown",
   "id": "145cab5c-7f21-44c8-8280-f1d9a77cdec3",
   "metadata": {},
   "source": [
    "## Tommy diet"
   ]
  },
  {
   "cell_type": "code",
   "execution_count": 114,
   "id": "29c9a536-d3ae-4364-98b5-5dc48beb6bd2",
   "metadata": {},
   "outputs": [
    {
     "name": "stdout",
     "output_type": "stream",
     "text": [
      "Set parameter Username\n",
      "Academic license - for non-commercial use only - expires 2024-08-22\n",
      "Gurobi Optimizer version 10.0.2 build v10.0.2rc0 (mac64[arm])\n",
      "\n",
      "CPU model: Apple M1\n",
      "Thread count: 8 physical cores, 8 logical processors, using up to 8 threads\n",
      "\n",
      "Optimize a model with 96 rows, 43 columns and 742 nonzeros\n",
      "Model fingerprint: 0x0e79e340\n",
      "Coefficient statistics:\n",
      "  Matrix range     [1e-04, 5e+01]\n",
      "  Objective range  [2e-04, 6e-02]\n",
      "  Bounds range     [0e+00, 0e+00]\n",
      "  RHS range        [1e+00, 1e+04]\n",
      "Presolve removed 72 rows and 0 columns\n",
      "Presolve time: 0.00s\n",
      "Presolved: 24 rows, 43 columns, 661 nonzeros\n",
      "\n",
      "Iteration    Objective       Primal Inf.    Dual Inf.      Time\n",
      "       0    8.0196414e-01   6.534720e+02   0.000000e+00      0s\n",
      "      14    3.0552760e+00   0.000000e+00   0.000000e+00      0s\n",
      "\n",
      "Solved in 14 iterations and 0.00 seconds (0.00 work units)\n",
      "Optimal objective  3.055275954e+00\n",
      "\n",
      "User-callback calls 57, time in user-callback 0.00 sec\n",
      "\n",
      "Optimal diet (grams of food):\n",
      "\n",
      "Wheat & Rye (Bread): 369.39\n",
      "Barley (Beer): 50.0\n",
      "Beans: 136.79\n",
      "Nuts: 100.0\n",
      "Soymilk: 295.89\n",
      "Soybean Oil: 48.36\n",
      "Rapeseed Oil: 25.19\n",
      "Turnips: 200.0\n",
      "Mandarin Orange: 400.0\n",
      "Coffee: 10.0\n",
      "Chicken Meat: 200.0\n",
      "\n",
      "Total emissions (kg CO2): 3.0552759542159613\n",
      "\n",
      "Total price (USD): $6.675972604089292\n"
     ]
    }
   ],
   "source": [
    "lambda = 0.1\n",
    "vegetarian = 0\n",
    "vegan = 0\n",
    "fish = 0\n",
    "meat_low = 0\n",
    "meat_med = 1\n",
    "meat_high = 0\n",
    "lactose_intolerant = 0\n",
    "gluten_intolerant = 0\n",
    "nuts_intolerant = 0\n",
    "alcohol = 1\n",
    "caffeine = 1\n",
    "\n",
    "diet_opt, emissions_opt, price_opt = optimize_diet(lambda, vegetarian, vegan, fish, meat_low, meat_med, \n",
    "    meat_high, lactose_intolerant, gluten_intolerant, nuts_intolerant, alcohol, caffeine);\n",
    "\n",
    "extract_foods(diet_opt)\n",
    "\n",
    "println(\"\\nTotal emissions (kg CO2): \", emissions_opt)\n",
    "println(\"\\nTotal price (USD): \\$\", price_opt)"
   ]
  },
  {
   "cell_type": "markdown",
   "id": "c5144ce4-2791-4bb0-985c-485dcf5726aa",
   "metadata": {},
   "source": [
    "## Vegetarian diet"
   ]
  },
  {
   "cell_type": "code",
   "execution_count": 115,
   "id": "81a42ccf-d02e-471f-b0a0-55b5e5c05e11",
   "metadata": {},
   "outputs": [
    {
     "name": "stdout",
     "output_type": "stream",
     "text": [
      "Set parameter Username\n",
      "Academic license - for non-commercial use only - expires 2024-08-22\n",
      "Gurobi Optimizer version 10.0.2 build v10.0.2rc0 (mac64[arm])\n",
      "\n",
      "CPU model: Apple M1\n",
      "Thread count: 8 physical cores, 8 logical processors, using up to 8 threads\n",
      "\n",
      "Optimize a model with 96 rows, 43 columns and 742 nonzeros\n",
      "Model fingerprint: 0xdbb731ac\n",
      "Coefficient statistics:\n",
      "  Matrix range     [1e-04, 5e+01]\n",
      "  Objective range  [2e-04, 6e-02]\n",
      "  Bounds range     [0e+00, 0e+00]\n",
      "  RHS range        [1e+00, 1e+04]\n",
      "Presolve removed 74 rows and 5 columns\n",
      "Presolve time: 0.00s\n",
      "Presolved: 22 rows, 38 columns, 560 nonzeros\n",
      "\n",
      "Iteration    Objective       Primal Inf.    Dual Inf.      Time\n",
      "       0    8.0196414e-01   6.168249e+02   0.000000e+00      0s\n",
      "      10    1.9407032e+00   0.000000e+00   0.000000e+00      0s\n",
      "\n",
      "Solved in 10 iterations and 0.00 seconds (0.00 work units)\n",
      "Optimal objective  1.940703192e+00\n",
      "\n",
      "User-callback calls 54, time in user-callback 0.00 sec\n",
      "\n",
      "Optimal diet (grams of food):\n",
      "\n",
      "Wheat & Rye (Bread): 400.76\n",
      "Beans: 220.17\n",
      "Nuts: 100.0\n",
      "Soymilk: 195.12\n",
      "Soybean Oil: 64.52\n",
      "Rapeseed Oil: 21.66\n",
      "Turnips: 200.0\n",
      "Mandarin Orange: 400.0\n",
      "Coffee: 10.0\n",
      "\n",
      "Total emissions (kg CO2): 1.9407031919734279\n",
      "\n",
      "Total price (USD): $5.002399347944121\n"
     ]
    }
   ],
   "source": [
    "lambda = 0.1\n",
    "vegetarian = 1\n",
    "vegan = 0\n",
    "fish = 0\n",
    "meat_low = 0\n",
    "meat_med = 0\n",
    "meat_high = 0\n",
    "lactose_intolerant = 0\n",
    "gluten_intolerant = 0\n",
    "nuts_intolerant = 0\n",
    "alcohol = 0\n",
    "caffeine = 1\n",
    "\n",
    "diet_opt, emissions_opt, price_opt = optimize_diet(lambda, vegetarian, vegan, fish, meat_low, meat_med, \n",
    "    meat_high, lactose_intolerant, gluten_intolerant, nuts_intolerant, alcohol, caffeine);\n",
    "\n",
    "extract_foods(diet_opt)\n",
    "\n",
    "println(\"\\nTotal emissions (kg CO2): \", emissions_opt)\n",
    "println(\"\\nTotal price (USD): \\$\", price_opt)"
   ]
  },
  {
   "cell_type": "markdown",
   "id": "17ff3082-0018-4388-b672-42011a5e2ad5",
   "metadata": {},
   "source": [
    "## Vegan diet"
   ]
  },
  {
   "cell_type": "code",
   "execution_count": 116,
   "id": "9e21a562-f810-4ffe-b32a-9d988dcdaed9",
   "metadata": {},
   "outputs": [
    {
     "name": "stdout",
     "output_type": "stream",
     "text": [
      "Set parameter Username\n",
      "Academic license - for non-commercial use only - expires 2024-08-22\n",
      "Gurobi Optimizer version 10.0.2 build v10.0.2rc0 (mac64[arm])\n",
      "\n",
      "CPU model: Apple M1\n",
      "Thread count: 8 physical cores, 8 logical processors, using up to 8 threads\n",
      "\n",
      "Optimize a model with 96 rows, 43 columns and 742 nonzeros\n",
      "Model fingerprint: 0x52ccea31\n",
      "Coefficient statistics:\n",
      "  Matrix range     [1e-04, 5e+01]\n",
      "  Objective range  [2e-04, 6e-02]\n",
      "  Bounds range     [0e+00, 0e+00]\n",
      "  RHS range        [1e+00, 1e+04]\n",
      "Presolve removed 76 rows and 10 columns\n",
      "Presolve time: 0.00s\n",
      "Presolved: 20 rows, 33 columns, 457 nonzeros\n",
      "\n",
      "Iteration    Objective       Primal Inf.    Dual Inf.      Time\n",
      "       0    8.9946614e-01   1.041317e+03   0.000000e+00      0s\n",
      "       8    1.9407032e+00   0.000000e+00   0.000000e+00      0s\n",
      "\n",
      "Solved in 8 iterations and 0.00 seconds (0.00 work units)\n",
      "Optimal objective  1.940703192e+00\n",
      "\n",
      "User-callback calls 53, time in user-callback 0.00 sec\n",
      "\n",
      "Optimal diet (grams of food):\n",
      "\n",
      "Wheat & Rye (Bread): 400.76\n",
      "Beans: 220.17\n",
      "Nuts: 100.0\n",
      "Soymilk: 195.12\n",
      "Soybean Oil: 64.52\n",
      "Rapeseed Oil: 21.66\n",
      "Turnips: 200.0\n",
      "Mandarin Orange: 400.0\n",
      "Coffee: 10.0\n",
      "\n",
      "Total emissions (kg CO2): 1.9407031919734279\n",
      "\n",
      "Total price (USD): $5.002399347944121\n"
     ]
    }
   ],
   "source": [
    "lambda = 0.1\n",
    "vegetarian = 1\n",
    "vegan = 1\n",
    "fish = 0\n",
    "meat_low = 0\n",
    "meat_med = 0\n",
    "meat_high = 0\n",
    "lactose_intolerant = 0\n",
    "gluten_intolerant = 0\n",
    "nuts_intolerant = 0\n",
    "alcohol = 0\n",
    "caffeine = 1\n",
    "\n",
    "diet_opt, emissions_opt, price_opt = optimize_diet(lambda, vegetarian, vegan, fish, meat_low, meat_med, \n",
    "    meat_high, lactose_intolerant, gluten_intolerant, nuts_intolerant, alcohol, caffeine);\n",
    "\n",
    "extract_foods(diet_opt)\n",
    "\n",
    "println(\"\\nTotal emissions (kg CO2): \", emissions_opt)\n",
    "println(\"\\nTotal price (USD): \\$\", price_opt)"
   ]
  }
 ],
 "metadata": {
  "kernelspec": {
   "display_name": "Julia 1.9.2",
   "language": "julia",
   "name": "julia-1.9"
  },
  "language_info": {
   "file_extension": ".jl",
   "mimetype": "application/julia",
   "name": "julia",
   "version": "1.9.2"
  }
 },
 "nbformat": 4,
 "nbformat_minor": 5
}
