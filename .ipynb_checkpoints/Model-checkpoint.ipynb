{
 "cells": [
  {
   "cell_type": "markdown",
   "id": "a9c5e1c6",
   "metadata": {},
   "source": [
    "# Reading in data"
   ]
  },
  {
   "cell_type": "code",
   "execution_count": 1,
   "id": "1cbfbfe4",
   "metadata": {},
   "outputs": [],
   "source": [
    "using Gurobi, StatsBase, CSV, DataFrames, JuMP, LinearAlgebra, Distributions, Random, GLMNet, Printf"
   ]
  },
  {
   "cell_type": "code",
   "execution_count": 2,
   "id": "88fb939f",
   "metadata": {},
   "outputs": [],
   "source": [
    "data = CSV.read(\"processed_no_units_gram.csv\", DataFrame);"
   ]
  },
  {
   "cell_type": "code",
   "execution_count": 3,
   "id": "44539f70",
   "metadata": {},
   "outputs": [
    {
     "data": {
      "text/html": [
       "<div><div style = \"float: left;\"><span>43×100 DataFrame</span></div><div style = \"float: right;\"><span style = \"font-style: italic;\">18 rows omitted</span></div><div style = \"clear: both;\"></div></div><div class = \"data-frame\" style = \"overflow-x: scroll;\"><table class = \"data-frame\" style = \"margin-bottom: 6px;\"><thead><tr class = \"header\"><th class = \"rowNumber\" style = \"font-weight: bold; text-align: right;\">Row</th><th style = \"text-align: left;\">Food product</th><th style = \"text-align: left;\">Land use change</th><th style = \"text-align: left;\">Animal Feed</th><th style = \"text-align: left;\">Farm</th><th style = \"text-align: left;\">Processing</th><th style = \"text-align: left;\">Transport</th><th style = \"text-align: left;\">Packging</th><th style = \"text-align: left;\">Retail</th><th style = \"text-align: left;\">Total_emissions</th><th style = \"text-align: left;\">Eutrophying emissions per 1000kcal (gPO₄eq per 1000kcal)</th><th style = \"text-align: left;\">Eutrophying emissions per kilogram (gPO₄eq per kilogram)</th><th style = \"text-align: left;\">Eutrophying emissions per 100g protein (gPO₄eq per 100 grams protein)</th><th style = \"text-align: left;\">Freshwater withdrawals per 1000kcal (liters per 1000kcal)</th><th style = \"text-align: left;\">Freshwater withdrawals per 100g protein (liters per 100g protein)</th><th style = \"text-align: left;\">Freshwater withdrawals per kilogram (liters per kilogram)</th><th style = \"text-align: left;\">Greenhouse gas emissions per 1000kcal (kgCO₂eq per 1000kcal)</th><th style = \"text-align: left;\">Greenhouse gas emissions per 100g protein (kgCO₂eq per 100g protein)</th><th style = \"text-align: left;\">Land use per 1000kcal (m² per 1000kcal)</th><th style = \"text-align: left;\">Land use per kilogram (m² per kilogram)</th><th style = \"text-align: left;\">Land use per 100g protein (m² per 100g protein)</th><th style = \"text-align: left;\">Scarcity-weighted water use per kilogram (liters per kilogram)</th><th style = \"text-align: left;\">Scarcity-weighted water use per 100g protein (liters per 100g protein)</th><th style = \"text-align: left;\">Scarcity-weighted water use per 1000kcal (liters per 1000 kilocalories)</th><th style = \"text-align: left;\">Matched_food_product</th><th style = \"text-align: left;\">name</th><th style = \"text-align: left;\">serving_size</th><th style = \"text-align: left;\">calories</th><th style = \"text-align: left;\">total_fat</th><th style = \"text-align: left;\">saturated_fat</th><th style = \"text-align: left;\">cholesterol</th><th style = \"text-align: left;\">sodium</th><th style = \"text-align: left;\">choline</th><th style = \"text-align: left;\">folate</th><th style = \"text-align: left;\">folic_acid</th><th style = \"text-align: left;\">niacin</th><th style = \"text-align: left;\">pantothenic_acid</th><th style = \"text-align: left;\">riboflavin</th><th style = \"text-align: left;\">thiamin</th><th style = \"text-align: left;\">vitamin_a</th><th style = \"text-align: left;\">vitamin_a_rae</th><th style = \"text-align: left;\">carotene_alpha</th><th style = \"text-align: left;\">carotene_beta</th><th style = \"text-align: left;\">cryptoxanthin_beta</th><th style = \"text-align: left;\">lutein_zeaxanthin</th><th style = \"text-align: left;\">lucopene</th><th style = \"text-align: left;\">vitamin_b12</th><th style = \"text-align: left;\">vitamin_b6</th><th style = \"text-align: left;\">vitamin_c</th><th style = \"text-align: left;\">vitamin_d</th><th style = \"text-align: left;\">vitamin_e</th><th style = \"text-align: left;\">tocopherol_alpha</th><th style = \"text-align: left;\">vitamin_k</th><th style = \"text-align: left;\">calcium</th><th style = \"text-align: left;\">copper</th><th style = \"text-align: left;\">irom</th><th style = \"text-align: left;\">magnesium</th><th style = \"text-align: left;\">manganese</th><th style = \"text-align: left;\">phosphorous</th><th style = \"text-align: left;\">potassium</th><th style = \"text-align: left;\">selenium</th><th style = \"text-align: left;\">zink</th><th style = \"text-align: left;\">protein</th><th style = \"text-align: left;\">alanine</th><th style = \"text-align: left;\">arginine</th><th style = \"text-align: left;\">aspartic_acid</th><th style = \"text-align: left;\">cystine</th><th style = \"text-align: left;\">glutamic_acid</th><th style = \"text-align: left;\">glycine</th><th style = \"text-align: left;\">histidine</th><th style = \"text-align: left;\">hydroxyproline</th><th style = \"text-align: left;\">isoleucine</th><th style = \"text-align: left;\">leucine</th><th style = \"text-align: left;\">lysine</th><th style = \"text-align: left;\">methionine</th><th style = \"text-align: left;\">phenylalanine</th><th style = \"text-align: left;\">proline</th><th style = \"text-align: left;\">serine</th><th style = \"text-align: left;\">threonine</th><th style = \"text-align: left;\">tryptophan</th><th style = \"text-align: left;\">tyrosine</th><th style = \"text-align: left;\">valine</th><th style = \"text-align: left;\">carbohydrate</th><th style = \"text-align: left;\">fiber</th><th style = \"text-align: left;\">sugars</th><th style = \"text-align: left;\">fructose</th><th style = \"text-align: left;\">galactose</th><th style = \"text-align: left;\">glucose</th><th style = \"text-align: left;\">lactose</th><th style = \"text-align: left;\">maltose</th><th style = \"text-align: left;\">sucrose</th><th style = \"text-align: left;\">fat</th><th style = \"text-align: left;\">saturated_fatty_acids</th><th style = \"text-align: left;\">monounsaturated_fatty_acids</th><th style = \"text-align: left;\">polyunsaturated_fatty_acids</th><th style = \"text-align: left;\">fatty_acids_total_trans</th><th style = \"text-align: left;\">alcohol</th><th style = \"text-align: left;\">ash</th><th style = \"text-align: left;\">caffeine</th><th style = \"text-align: left;\">theobromine</th><th style = \"text-align: left;\">water</th></tr><tr class = \"subheader headerLastRow\"><th class = \"rowNumber\" style = \"font-weight: bold; text-align: right;\"></th><th title = \"String31\" style = \"text-align: left;\">String31</th><th title = \"Float64\" style = \"text-align: left;\">Float64</th><th title = \"Float64\" style = \"text-align: left;\">Float64</th><th title = \"Float64\" style = \"text-align: left;\">Float64</th><th title = \"Float64\" style = \"text-align: left;\">Float64</th><th title = \"Float64\" style = \"text-align: left;\">Float64</th><th title = \"Float64\" style = \"text-align: left;\">Float64</th><th title = \"Float64\" style = \"text-align: left;\">Float64</th><th title = \"Float64\" style = \"text-align: left;\">Float64</th><th title = \"Float64\" style = \"text-align: left;\">Float64</th><th title = \"Float64\" style = \"text-align: left;\">Float64</th><th title = \"Float64\" style = \"text-align: left;\">Float64</th><th title = \"Float64\" style = \"text-align: left;\">Float64</th><th title = \"Float64\" style = \"text-align: left;\">Float64</th><th title = \"Float64\" style = \"text-align: left;\">Float64</th><th title = \"Float64\" style = \"text-align: left;\">Float64</th><th title = \"Float64\" style = \"text-align: left;\">Float64</th><th title = \"Float64\" style = \"text-align: left;\">Float64</th><th title = \"Float64\" style = \"text-align: left;\">Float64</th><th title = \"Float64\" style = \"text-align: left;\">Float64</th><th title = \"Float64\" style = \"text-align: left;\">Float64</th><th title = \"Float64\" style = \"text-align: left;\">Float64</th><th title = \"Float64\" style = \"text-align: left;\">Float64</th><th title = \"String\" style = \"text-align: left;\">String</th><th title = \"Float64\" style = \"text-align: left;\">Float64</th><th title = \"Int64\" style = \"text-align: left;\">Int64</th><th title = \"Float64\" style = \"text-align: left;\">Float64</th><th title = \"Float64\" style = \"text-align: left;\">Float64</th><th title = \"Float64\" style = \"text-align: left;\">Float64</th><th title = \"Float64\" style = \"text-align: left;\">Float64</th><th title = \"Float64\" style = \"text-align: left;\">Float64</th><th title = \"Float64\" style = \"text-align: left;\">Float64</th><th title = \"Float64\" style = \"text-align: left;\">Float64</th><th title = \"Float64\" style = \"text-align: left;\">Float64</th><th title = \"Float64\" style = \"text-align: left;\">Float64</th><th title = \"Float64\" style = \"text-align: left;\">Float64</th><th title = \"Float64\" style = \"text-align: left;\">Float64</th><th title = \"Float64\" style = \"text-align: left;\">Float64</th><th title = \"Float64\" style = \"text-align: left;\">Float64</th><th title = \"Float64\" style = \"text-align: left;\">Float64</th><th title = \"Float64\" style = \"text-align: left;\">Float64</th><th title = \"Float64\" style = \"text-align: left;\">Float64</th><th title = \"Float64\" style = \"text-align: left;\">Float64</th><th title = \"Float64\" style = \"text-align: left;\">Float64</th><th title = \"Float64\" style = \"text-align: left;\">Float64</th><th title = \"Float64\" style = \"text-align: left;\">Float64</th><th title = \"Float64\" style = \"text-align: left;\">Float64</th><th title = \"Float64\" style = \"text-align: left;\">Float64</th><th title = \"Float64\" style = \"text-align: left;\">Float64</th><th title = \"Float64\" style = \"text-align: left;\">Float64</th><th title = \"Float64\" style = \"text-align: left;\">Float64</th><th title = \"Float64\" style = \"text-align: left;\">Float64</th><th title = \"Float64\" style = \"text-align: left;\">Float64</th><th title = \"Float64\" style = \"text-align: left;\">Float64</th><th title = \"Float64\" style = \"text-align: left;\">Float64</th><th title = \"Float64\" style = \"text-align: left;\">Float64</th><th title = \"Float64\" style = \"text-align: left;\">Float64</th><th title = \"Float64\" style = \"text-align: left;\">Float64</th><th title = \"Float64\" style = \"text-align: left;\">Float64</th><th title = \"Float64\" style = \"text-align: left;\">Float64</th><th title = \"Float64\" style = \"text-align: left;\">Float64</th><th title = \"Float64\" style = \"text-align: left;\">Float64</th><th title = \"Float64\" style = \"text-align: left;\">Float64</th><th title = \"Float64\" style = \"text-align: left;\">Float64</th><th title = \"Float64\" style = \"text-align: left;\">Float64</th><th title = \"Float64\" style = \"text-align: left;\">Float64</th><th title = \"Float64\" style = \"text-align: left;\">Float64</th><th title = \"Float64\" style = \"text-align: left;\">Float64</th><th title = \"Float64\" style = \"text-align: left;\">Float64</th><th title = \"Float64\" style = \"text-align: left;\">Float64</th><th title = \"Float64\" style = \"text-align: left;\">Float64</th><th title = \"Float64\" style = \"text-align: left;\">Float64</th><th title = \"Float64\" style = \"text-align: left;\">Float64</th><th title = \"Float64\" style = \"text-align: left;\">Float64</th><th title = \"Float64\" style = \"text-align: left;\">Float64</th><th title = \"Float64\" style = \"text-align: left;\">Float64</th><th title = \"Float64\" style = \"text-align: left;\">Float64</th><th title = \"Float64\" style = \"text-align: left;\">Float64</th><th title = \"Float64\" style = \"text-align: left;\">Float64</th><th title = \"Float64\" style = \"text-align: left;\">Float64</th><th title = \"Float64\" style = \"text-align: left;\">Float64</th><th title = \"Float64\" style = \"text-align: left;\">Float64</th><th title = \"Float64\" style = \"text-align: left;\">Float64</th><th title = \"Float64\" style = \"text-align: left;\">Float64</th><th title = \"Float64\" style = \"text-align: left;\">Float64</th><th title = \"Float64\" style = \"text-align: left;\">Float64</th><th title = \"Float64\" style = \"text-align: left;\">Float64</th><th title = \"Float64\" style = \"text-align: left;\">Float64</th><th title = \"Float64\" style = \"text-align: left;\">Float64</th><th title = \"Float64\" style = \"text-align: left;\">Float64</th><th title = \"Float64\" style = \"text-align: left;\">Float64</th><th title = \"Float64\" style = \"text-align: left;\">Float64</th><th title = \"Float64\" style = \"text-align: left;\">Float64</th><th title = \"Float64\" style = \"text-align: left;\">Float64</th><th title = \"Float64\" style = \"text-align: left;\">Float64</th><th title = \"Float64\" style = \"text-align: left;\">Float64</th><th title = \"Float64\" style = \"text-align: left;\">Float64</th><th title = \"Float64\" style = \"text-align: left;\">Float64</th><th title = \"Float64\" style = \"text-align: left;\">Float64</th><th title = \"Float64\" style = \"text-align: left;\">Float64</th></tr></thead><tbody><tr><td class = \"rowNumber\" style = \"font-weight: bold; text-align: right;\">1</td><td style = \"text-align: left;\">Wheat &amp; Rye (Bread)</td><td style = \"text-align: right;\">0.0001</td><td style = \"text-align: right;\">0.0</td><td style = \"text-align: right;\">0.0008</td><td style = \"text-align: right;\">0.0002</td><td style = \"text-align: right;\">0.0001</td><td style = \"text-align: right;\">0.0001</td><td style = \"text-align: right;\">0.0001</td><td style = \"text-align: right;\">0.0014</td><td style = \"text-align: right;\">0.0</td><td style = \"text-align: right;\">0.0</td><td style = \"text-align: right;\">0.0</td><td style = \"text-align: right;\">0.0</td><td style = \"text-align: right;\">0.0</td><td style = \"text-align: right;\">0.0</td><td style = \"text-align: right;\">0.0</td><td style = \"text-align: right;\">0.0</td><td style = \"text-align: right;\">0.0</td><td style = \"text-align: right;\">0.0</td><td style = \"text-align: right;\">0.0</td><td style = \"text-align: right;\">0.0</td><td style = \"text-align: right;\">0.0</td><td style = \"text-align: right;\">0.0</td><td style = \"text-align: left;\">Bread, wheat</td><td style = \"text-align: right;\">0.0</td><td style = \"text-align: right;\">100</td><td style = \"text-align: right;\">2.67</td><td style = \"text-align: right;\">0.032</td><td style = \"text-align: right;\">0.008</td><td style = \"text-align: right;\">0.0</td><td style = \"text-align: right;\">5.08</td><td style = \"text-align: right;\">0.187</td><td style = \"text-align: right;\">0.85</td><td style = \"text-align: right;\">0.2</td><td style = \"text-align: right;\">0.0562</td><td style = \"text-align: right;\">0.0</td><td style = \"text-align: right;\">0.00253</td><td style = \"text-align: right;\">0.00415</td><td style = \"text-align: right;\">0.02</td><td style = \"text-align: right;\">0.0</td><td style = \"text-align: right;\">0.0</td><td style = \"text-align: right;\">0.01</td><td style = \"text-align: right;\">0.0</td><td style = \"text-align: right;\">0.44</td><td style = \"text-align: right;\">0.0</td><td style = \"text-align: right;\">0.0</td><td style = \"text-align: right;\">0.00111</td><td style = \"text-align: right;\">0.002</td><td style = \"text-align: right;\">0.0</td><td style = \"text-align: right;\">0.0019</td><td style = \"text-align: right;\">0.0019</td><td style = \"text-align: right;\">0.049</td><td style = \"text-align: right;\">1.33</td><td style = \"text-align: right;\">0.00159</td><td style = \"text-align: right;\">0.0349</td><td style = \"text-align: right;\">0.45</td><td style = \"text-align: right;\">0.01177</td><td style = \"text-align: right;\">1.49</td><td style = \"text-align: right;\">1.77</td><td style = \"text-align: right;\">0.288</td><td style = \"text-align: right;\">0.0119</td><td style = \"text-align: right;\">0.1072</td><td style = \"text-align: right;\">0.0</td><td style = \"text-align: right;\">0.0</td><td style = \"text-align: right;\">0.0</td><td style = \"text-align: right;\">0.0</td><td style = \"text-align: right;\">0.0</td><td style = \"text-align: right;\">0.0</td><td style = \"text-align: right;\">0.0</td><td style = \"text-align: right;\">0.0</td><td style = \"text-align: right;\">0.0</td><td style = \"text-align: right;\">0.0</td><td style = \"text-align: right;\">0.0</td><td style = \"text-align: right;\">0.0</td><td style = \"text-align: right;\">0.0</td><td style = \"text-align: right;\">0.0</td><td style = \"text-align: right;\">0.0</td><td style = \"text-align: right;\">0.0</td><td style = \"text-align: right;\">0.0</td><td style = \"text-align: right;\">0.0</td><td style = \"text-align: right;\">0.0</td><td style = \"text-align: right;\">0.4868</td><td style = \"text-align: right;\">0.04</td><td style = \"text-align: right;\">0.0591</td><td style = \"text-align: right;\">0.0245</td><td style = \"text-align: right;\">0.0</td><td style = \"text-align: right;\">0.0178</td><td style = \"text-align: right;\">0.0</td><td style = \"text-align: right;\">0.0168</td><td style = \"text-align: right;\">0.0</td><td style = \"text-align: right;\">0.0324</td><td style = \"text-align: right;\">0.00777</td><td style = \"text-align: right;\">0.00607</td><td style = \"text-align: right;\">0.01499</td><td style = \"text-align: right;\">0.0</td><td style = \"text-align: right;\">0.0</td><td style = \"text-align: right;\">0.0216</td><td style = \"text-align: right;\">0.0</td><td style = \"text-align: right;\">0.0</td><td style = \"text-align: right;\">0.352</td></tr><tr><td class = \"rowNumber\" style = \"font-weight: bold; text-align: right;\">2</td><td style = \"text-align: left;\">Maize (Meal)</td><td style = \"text-align: right;\">0.0003</td><td style = \"text-align: right;\">0.0</td><td style = \"text-align: right;\">0.0005</td><td style = \"text-align: right;\">0.0001</td><td style = \"text-align: right;\">0.0001</td><td style = \"text-align: right;\">0.0001</td><td style = \"text-align: right;\">0.0</td><td style = \"text-align: right;\">0.0011</td><td style = \"text-align: right;\">0.0</td><td style = \"text-align: right;\">0.0</td><td style = \"text-align: right;\">0.0</td><td style = \"text-align: right;\">0.0</td><td style = \"text-align: right;\">0.0</td><td style = \"text-align: right;\">0.0</td><td style = \"text-align: right;\">0.0</td><td style = \"text-align: right;\">0.0</td><td style = \"text-align: right;\">0.0</td><td style = \"text-align: right;\">0.0</td><td style = \"text-align: right;\">0.0</td><td style = \"text-align: right;\">0.0</td><td style = \"text-align: right;\">0.0</td><td style = \"text-align: right;\">0.0</td><td style = \"text-align: left;\">Barley flour or meal</td><td style = \"text-align: right;\">0.0</td><td style = \"text-align: right;\">100</td><td style = \"text-align: right;\">3.45</td><td style = \"text-align: right;\">0.016</td><td style = \"text-align: right;\">0.003</td><td style = \"text-align: right;\">0.0</td><td style = \"text-align: right;\">0.04</td><td style = \"text-align: right;\">0.378</td><td style = \"text-align: right;\">0.08</td><td style = \"text-align: right;\">0.0</td><td style = \"text-align: right;\">0.06269</td><td style = \"text-align: right;\">0.00145</td><td style = \"text-align: right;\">0.00114</td><td style = \"text-align: right;\">0.0037</td><td style = \"text-align: right;\">0.0</td><td style = \"text-align: right;\">0.0</td><td style = \"text-align: right;\">0.0</td><td style = \"text-align: right;\">0.0</td><td style = \"text-align: right;\">0.0</td><td style = \"text-align: right;\">1.6</td><td style = \"text-align: right;\">0.0</td><td style = \"text-align: right;\">0.0</td><td style = \"text-align: right;\">0.00396</td><td style = \"text-align: right;\">0.0</td><td style = \"text-align: right;\">0.0</td><td style = \"text-align: right;\">0.0057</td><td style = \"text-align: right;\">0.0057</td><td style = \"text-align: right;\">0.022</td><td style = \"text-align: right;\">0.32</td><td style = \"text-align: right;\">0.00343</td><td style = \"text-align: right;\">0.0268</td><td style = \"text-align: right;\">0.96</td><td style = \"text-align: right;\">0.01034</td><td style = \"text-align: right;\">2.96</td><td style = \"text-align: right;\">3.09</td><td style = \"text-align: right;\">0.377</td><td style = \"text-align: right;\">0.02</td><td style = \"text-align: right;\">0.105</td><td style = \"text-align: right;\">0.00409</td><td style = \"text-align: right;\">0.00526</td><td style = \"text-align: right;\">0.00655</td><td style = \"text-align: right;\">0.00232</td><td style = \"text-align: right;\">0.02741</td><td style = \"text-align: right;\">0.0038</td><td style = \"text-align: right;\">0.00236</td><td style = \"text-align: right;\">0.0</td><td style = \"text-align: right;\">0.00383</td><td style = \"text-align: right;\">0.00713</td><td style = \"text-align: right;\">0.00391</td><td style = \"text-align: right;\">0.00202</td><td style = \"text-align: right;\">0.00589</td><td style = \"text-align: right;\">0.01247</td><td style = \"text-align: right;\">0.00443</td><td style = \"text-align: right;\">0.00356</td><td style = \"text-align: right;\">0.00175</td><td style = \"text-align: right;\">0.00301</td><td style = \"text-align: right;\">0.00515</td><td style = \"text-align: right;\">0.7452</td><td style = \"text-align: right;\">0.101</td><td style = \"text-align: right;\">0.008</td><td style = \"text-align: right;\">0.0</td><td style = \"text-align: right;\">0.0</td><td style = \"text-align: right;\">0.0</td><td style = \"text-align: right;\">0.0</td><td style = \"text-align: right;\">0.0</td><td style = \"text-align: right;\">0.0</td><td style = \"text-align: right;\">0.016</td><td style = \"text-align: right;\">0.00335</td><td style = \"text-align: right;\">0.00205</td><td style = \"text-align: right;\">0.00771</td><td style = \"text-align: right;\">0.0</td><td style = \"text-align: right;\">0.0</td><td style = \"text-align: right;\">0.0128</td><td style = \"text-align: right;\">0.0</td><td style = \"text-align: right;\">0.0</td><td style = \"text-align: right;\">0.1211</td></tr><tr><td class = \"rowNumber\" style = \"font-weight: bold; text-align: right;\">3</td><td style = \"text-align: left;\">Barley (Beer)</td><td style = \"text-align: right;\">0.0</td><td style = \"text-align: right;\">0.0</td><td style = \"text-align: right;\">0.0002</td><td style = \"text-align: right;\">0.0001</td><td style = \"text-align: right;\">0.0</td><td style = \"text-align: right;\">0.0005</td><td style = \"text-align: right;\">0.0003</td><td style = \"text-align: right;\">0.0011</td><td style = \"text-align: right;\">0.0</td><td style = \"text-align: right;\">0.0</td><td style = \"text-align: right;\">0.0</td><td style = \"text-align: right;\">0.0</td><td style = \"text-align: right;\">0.0</td><td style = \"text-align: right;\">0.0</td><td style = \"text-align: right;\">0.0</td><td style = \"text-align: right;\">0.0</td><td style = \"text-align: right;\">0.0</td><td style = \"text-align: right;\">0.0</td><td style = \"text-align: right;\">0.0</td><td style = \"text-align: right;\">0.0</td><td style = \"text-align: right;\">0.0</td><td style = \"text-align: right;\">0.0</td><td style = \"text-align: left;\">Alcoholic beverage, BUDWEISER, regular, beer</td><td style = \"text-align: right;\">0.0</td><td style = \"text-align: right;\">100</td><td style = \"text-align: right;\">0.41</td><td style = \"text-align: right;\">0.0</td><td style = \"text-align: right;\">0.0</td><td style = \"text-align: right;\">0.0</td><td style = \"text-align: right;\">0.0</td><td style = \"text-align: right;\">0.0</td><td style = \"text-align: right;\">0.0</td><td style = \"text-align: right;\">0.0</td><td style = \"text-align: right;\">0.0</td><td style = \"text-align: right;\">0.0</td><td style = \"text-align: right;\">0.0</td><td style = \"text-align: right;\">0.0</td><td style = \"text-align: right;\">0.0</td><td style = \"text-align: right;\">0.0</td><td style = \"text-align: right;\">0.0</td><td style = \"text-align: right;\">0.0</td><td style = \"text-align: right;\">0.0</td><td style = \"text-align: right;\">0.0</td><td style = \"text-align: right;\">0.0</td><td style = \"text-align: right;\">0.0</td><td style = \"text-align: right;\">0.0</td><td style = \"text-align: right;\">0.0</td><td style = \"text-align: right;\">0.0</td><td style = \"text-align: right;\">0.0</td><td style = \"text-align: right;\">0.0</td><td style = \"text-align: right;\">0.0</td><td style = \"text-align: right;\">0.0</td><td style = \"text-align: right;\">0.0</td><td style = \"text-align: right;\">0.0</td><td style = \"text-align: right;\">0.0</td><td style = \"text-align: right;\">0.0</td><td style = \"text-align: right;\">0.0</td><td style = \"text-align: right;\">0.0</td><td style = \"text-align: right;\">0.0</td><td style = \"text-align: right;\">0.0</td><td style = \"text-align: right;\">0.0036</td><td style = \"text-align: right;\">0.0</td><td style = \"text-align: right;\">0.0</td><td style = \"text-align: right;\">0.0</td><td style = \"text-align: right;\">0.0</td><td style = \"text-align: right;\">0.0</td><td style = \"text-align: right;\">0.0</td><td style = \"text-align: right;\">0.0</td><td style = \"text-align: right;\">0.0</td><td style = \"text-align: right;\">0.0</td><td style = \"text-align: right;\">0.0</td><td style = \"text-align: right;\">0.0</td><td style = \"text-align: right;\">0.0</td><td style = \"text-align: right;\">0.0</td><td style = \"text-align: right;\">0.0</td><td style = \"text-align: right;\">0.0</td><td style = \"text-align: right;\">0.0</td><td style = \"text-align: right;\">0.0</td><td style = \"text-align: right;\">0.0</td><td style = \"text-align: right;\">0.0</td><td style = \"text-align: right;\">0.0297</td><td style = \"text-align: right;\">0.0</td><td style = \"text-align: right;\">0.0</td><td style = \"text-align: right;\">0.0</td><td style = \"text-align: right;\">0.0</td><td style = \"text-align: right;\">0.0</td><td style = \"text-align: right;\">0.0</td><td style = \"text-align: right;\">0.0</td><td style = \"text-align: right;\">0.0</td><td style = \"text-align: right;\">0.0</td><td style = \"text-align: right;\">0.0</td><td style = \"text-align: right;\">0.0</td><td style = \"text-align: right;\">0.0</td><td style = \"text-align: right;\">0.0</td><td style = \"text-align: right;\">0.039</td><td style = \"text-align: right;\">0.0011</td><td style = \"text-align: right;\">0.0</td><td style = \"text-align: right;\">0.0</td><td style = \"text-align: right;\">0.9277</td></tr><tr><td class = \"rowNumber\" style = \"font-weight: bold; text-align: right;\">4</td><td style = \"text-align: left;\">Oats</td><td style = \"text-align: right;\">0.0</td><td style = \"text-align: right;\">0.0</td><td style = \"text-align: right;\">0.0014</td><td style = \"text-align: right;\">0.0</td><td style = \"text-align: right;\">0.0001</td><td style = \"text-align: right;\">0.0001</td><td style = \"text-align: right;\">0.0</td><td style = \"text-align: right;\">0.0016</td><td style = \"text-align: right;\">4.28136</td><td style = \"text-align: right;\">11.23</td><td style = \"text-align: right;\">8.63846</td><td style = \"text-align: right;\">183.912</td><td style = \"text-align: right;\">371.077</td><td style = \"text-align: right;\">482.4</td><td style = \"text-align: right;\">0.945482</td><td style = \"text-align: right;\">1.90769</td><td style = \"text-align: right;\">2.89745</td><td style = \"text-align: right;\">7.6</td><td style = \"text-align: right;\">5.84615</td><td style = \"text-align: right;\">18786.2</td><td style = \"text-align: right;\">14450.9</td><td style = \"text-align: right;\">7162.1</td><td style = \"text-align: left;\">Oats</td><td style = \"text-align: right;\">0.0</td><td style = \"text-align: right;\">100</td><td style = \"text-align: right;\">3.89</td><td style = \"text-align: right;\">0.069</td><td style = \"text-align: right;\">0.012</td><td style = \"text-align: right;\">0.0</td><td style = \"text-align: right;\">0.02</td><td style = \"text-align: right;\">0.0</td><td style = \"text-align: right;\">0.56</td><td style = \"text-align: right;\">0.0</td><td style = \"text-align: right;\">0.00961</td><td style = \"text-align: right;\">0.01349</td><td style = \"text-align: right;\">0.00139</td><td style = \"text-align: right;\">0.00763</td><td style = \"text-align: right;\">0.0</td><td style = \"text-align: right;\">0.0</td><td style = \"text-align: right;\">0.0</td><td style = \"text-align: right;\">0.0</td><td style = \"text-align: right;\">0.0</td><td style = \"text-align: right;\">0.0</td><td style = \"text-align: right;\">0.0</td><td style = \"text-align: right;\">0.0</td><td style = \"text-align: right;\">0.00119</td><td style = \"text-align: right;\">0.0</td><td style = \"text-align: right;\">0.0</td><td style = \"text-align: right;\">0.0</td><td style = \"text-align: right;\">0.0</td><td style = \"text-align: right;\">0.0</td><td style = \"text-align: right;\">0.54</td><td style = \"text-align: right;\">0.00626</td><td style = \"text-align: right;\">0.0472</td><td style = \"text-align: right;\">1.77</td><td style = \"text-align: right;\">0.04916</td><td style = \"text-align: right;\">5.23</td><td style = \"text-align: right;\">4.29</td><td style = \"text-align: right;\">0.0</td><td style = \"text-align: right;\">0.0397</td><td style = \"text-align: right;\">0.1689</td><td style = \"text-align: right;\">0.00881</td><td style = \"text-align: right;\">0.01192</td><td style = \"text-align: right;\">0.01448</td><td style = \"text-align: right;\">0.00408</td><td style = \"text-align: right;\">0.03712</td><td style = \"text-align: right;\">0.00841</td><td style = \"text-align: right;\">0.00405</td><td style = \"text-align: right;\">0.0</td><td style = \"text-align: right;\">0.00694</td><td style = \"text-align: right;\">0.01284</td><td style = \"text-align: right;\">0.00701</td><td style = \"text-align: right;\">0.00312</td><td style = \"text-align: right;\">0.00895</td><td style = \"text-align: right;\">0.00934</td><td style = \"text-align: right;\">0.0075</td><td style = \"text-align: right;\">0.00575</td><td style = \"text-align: right;\">0.00234</td><td style = \"text-align: right;\">0.00573</td><td style = \"text-align: right;\">0.00937</td><td style = \"text-align: right;\">0.6627</td><td style = \"text-align: right;\">0.106</td><td style = \"text-align: right;\">0.0</td><td style = \"text-align: right;\">0.0</td><td style = \"text-align: right;\">0.0</td><td style = \"text-align: right;\">0.0</td><td style = \"text-align: right;\">0.0</td><td style = \"text-align: right;\">0.0</td><td style = \"text-align: right;\">0.0</td><td style = \"text-align: right;\">0.069</td><td style = \"text-align: right;\">0.01217</td><td style = \"text-align: right;\">0.02178</td><td style = \"text-align: right;\">0.02535</td><td style = \"text-align: right;\">0.0</td><td style = \"text-align: right;\">0.0</td><td style = \"text-align: right;\">0.0172</td><td style = \"text-align: right;\">0.0</td><td style = \"text-align: right;\">0.0</td><td style = \"text-align: right;\">0.0822</td></tr><tr><td class = \"rowNumber\" style = \"font-weight: bold; text-align: right;\">5</td><td style = \"text-align: left;\">Rice</td><td style = \"text-align: right;\">0.0</td><td style = \"text-align: right;\">0.0</td><td style = \"text-align: right;\">0.0036</td><td style = \"text-align: right;\">0.0001</td><td style = \"text-align: right;\">0.0001</td><td style = \"text-align: right;\">0.0001</td><td style = \"text-align: right;\">0.0001</td><td style = \"text-align: right;\">0.004</td><td style = \"text-align: right;\">9.51438</td><td style = \"text-align: right;\">35.07</td><td style = \"text-align: right;\">49.3944</td><td style = \"text-align: right;\">609.984</td><td style = \"text-align: right;\">3166.76</td><td style = \"text-align: right;\">2248.4</td><td style = \"text-align: right;\">1.20727</td><td style = \"text-align: right;\">6.26761</td><td style = \"text-align: right;\">0.759631</td><td style = \"text-align: right;\">2.8</td><td style = \"text-align: right;\">3.94366</td><td style = \"text-align: right;\">49576.3</td><td style = \"text-align: right;\">69825.8</td><td style = \"text-align: right;\">13449.9</td><td style = \"text-align: left;\">Wild rice, raw</td><td style = \"text-align: right;\">0.0</td><td style = \"text-align: right;\">100</td><td style = \"text-align: right;\">3.57</td><td style = \"text-align: right;\">0.011</td><td style = \"text-align: right;\">0.002</td><td style = \"text-align: right;\">0.0</td><td style = \"text-align: right;\">0.07</td><td style = \"text-align: right;\">0.35</td><td style = \"text-align: right;\">0.95</td><td style = \"text-align: right;\">0.0</td><td style = \"text-align: right;\">0.06733</td><td style = \"text-align: right;\">0.01074</td><td style = \"text-align: right;\">0.00262</td><td style = \"text-align: right;\">0.00115</td><td style = \"text-align: right;\">0.19</td><td style = \"text-align: right;\">0.01</td><td style = \"text-align: right;\">0.0</td><td style = \"text-align: right;\">0.11</td><td style = \"text-align: right;\">0.0</td><td style = \"text-align: right;\">2.2</td><td style = \"text-align: right;\">0.0</td><td style = \"text-align: right;\">0.0</td><td style = \"text-align: right;\">0.00391</td><td style = \"text-align: right;\">0.0</td><td style = \"text-align: right;\">0.0</td><td style = \"text-align: right;\">0.0082</td><td style = \"text-align: right;\">0.0082</td><td style = \"text-align: right;\">0.019</td><td style = \"text-align: right;\">0.21</td><td style = \"text-align: right;\">0.00524</td><td style = \"text-align: right;\">0.0196</td><td style = \"text-align: right;\">1.77</td><td style = \"text-align: right;\">0.01329</td><td style = \"text-align: right;\">4.33</td><td style = \"text-align: right;\">4.27</td><td style = \"text-align: right;\">0.028</td><td style = \"text-align: right;\">0.0596</td><td style = \"text-align: right;\">0.1473</td><td style = \"text-align: right;\">0.00825</td><td style = \"text-align: right;\">0.01136</td><td style = \"text-align: right;\">0.01419</td><td style = \"text-align: right;\">0.00174</td><td style = \"text-align: right;\">0.02565</td><td style = \"text-align: right;\">0.00672</td><td style = \"text-align: right;\">0.00384</td><td style = \"text-align: right;\">0.0</td><td style = \"text-align: right;\">0.00618</td><td style = \"text-align: right;\">0.01018</td><td style = \"text-align: right;\">0.00629</td><td style = \"text-align: right;\">0.00438</td><td style = \"text-align: right;\">0.00721</td><td style = \"text-align: right;\">0.00519</td><td style = \"text-align: right;\">0.00778</td><td style = \"text-align: right;\">0.00469</td><td style = \"text-align: right;\">0.00179</td><td style = \"text-align: right;\">0.00622</td><td style = \"text-align: right;\">0.00858</td><td style = \"text-align: right;\">0.749</td><td style = \"text-align: right;\">0.062</td><td style = \"text-align: right;\">0.025</td><td style = \"text-align: right;\">0.0</td><td style = \"text-align: right;\">0.0</td><td style = \"text-align: right;\">0.0</td><td style = \"text-align: right;\">0.0</td><td style = \"text-align: right;\">0.0</td><td style = \"text-align: right;\">0.0067</td><td style = \"text-align: right;\">0.0108</td><td style = \"text-align: right;\">0.00156</td><td style = \"text-align: right;\">0.00159</td><td style = \"text-align: right;\">0.00676</td><td style = \"text-align: right;\">0.0</td><td style = \"text-align: right;\">0.0</td><td style = \"text-align: right;\">0.0153</td><td style = \"text-align: right;\">0.0</td><td style = \"text-align: right;\">0.0</td><td style = \"text-align: right;\">0.0776</td></tr><tr><td class = \"rowNumber\" style = \"font-weight: bold; text-align: right;\">6</td><td style = \"text-align: left;\">Potatoes</td><td style = \"text-align: right;\">0.0</td><td style = \"text-align: right;\">0.0</td><td style = \"text-align: right;\">0.0002</td><td style = \"text-align: right;\">0.0</td><td style = \"text-align: right;\">0.0001</td><td style = \"text-align: right;\">0.0</td><td style = \"text-align: right;\">0.0</td><td style = \"text-align: right;\">0.0003</td><td style = \"text-align: right;\">4.7541</td><td style = \"text-align: right;\">3.48</td><td style = \"text-align: right;\">20.4706</td><td style = \"text-align: right;\">80.7377</td><td style = \"text-align: right;\">347.647</td><td style = \"text-align: right;\">59.1</td><td style = \"text-align: right;\">0.628415</td><td style = \"text-align: right;\">2.70588</td><td style = \"text-align: right;\">1.20219</td><td style = \"text-align: right;\">0.88</td><td style = \"text-align: right;\">5.17647</td><td style = \"text-align: right;\">2754.2</td><td style = \"text-align: right;\">16201.2</td><td style = \"text-align: right;\">3762.57</td><td style = \"text-align: left;\">Potatoes, skin, raw</td><td style = \"text-align: right;\">0.0</td><td style = \"text-align: right;\">100</td><td style = \"text-align: right;\">0.58</td><td style = \"text-align: right;\">0.001</td><td style = \"text-align: right;\">0.0</td><td style = \"text-align: right;\">0.0</td><td style = \"text-align: right;\">0.1</td><td style = \"text-align: right;\">0.0</td><td style = \"text-align: right;\">0.17</td><td style = \"text-align: right;\">0.0</td><td style = \"text-align: right;\">0.01033</td><td style = \"text-align: right;\">0.00302</td><td style = \"text-align: right;\">0.00038</td><td style = \"text-align: right;\">0.00021</td><td style = \"text-align: right;\">0.0</td><td style = \"text-align: right;\">0.0</td><td style = \"text-align: right;\">0.0</td><td style = \"text-align: right;\">0.0</td><td style = \"text-align: right;\">0.0</td><td style = \"text-align: right;\">0.0</td><td style = \"text-align: right;\">0.0</td><td style = \"text-align: right;\">0.0</td><td style = \"text-align: right;\">0.00239</td><td style = \"text-align: right;\">0.114</td><td style = \"text-align: right;\">0.0</td><td style = \"text-align: right;\">0.0</td><td style = \"text-align: right;\">0.0</td><td style = \"text-align: right;\">0.0</td><td style = \"text-align: right;\">0.3</td><td style = \"text-align: right;\">0.00423</td><td style = \"text-align: right;\">0.0324</td><td style = \"text-align: right;\">0.23</td><td style = \"text-align: right;\">0.00602</td><td style = \"text-align: right;\">0.38</td><td style = \"text-align: right;\">4.13</td><td style = \"text-align: right;\">0.003</td><td style = \"text-align: right;\">0.0035</td><td style = \"text-align: right;\">0.0257</td><td style = \"text-align: right;\">0.0</td><td style = \"text-align: right;\">0.0</td><td style = \"text-align: right;\">0.0</td><td style = \"text-align: right;\">0.0</td><td style = \"text-align: right;\">0.0</td><td style = \"text-align: right;\">0.0</td><td style = \"text-align: right;\">0.0</td><td style = \"text-align: right;\">0.0</td><td style = \"text-align: right;\">0.0</td><td style = \"text-align: right;\">0.0</td><td style = \"text-align: right;\">0.0</td><td style = \"text-align: right;\">0.0</td><td style = \"text-align: right;\">0.0</td><td style = \"text-align: right;\">0.0</td><td style = \"text-align: right;\">0.0</td><td style = \"text-align: right;\">0.0</td><td style = \"text-align: right;\">0.0</td><td style = \"text-align: right;\">0.0</td><td style = \"text-align: right;\">0.0</td><td style = \"text-align: right;\">0.1244</td><td style = \"text-align: right;\">0.025</td><td style = \"text-align: right;\">0.0</td><td style = \"text-align: right;\">0.0</td><td style = \"text-align: right;\">0.0</td><td style = \"text-align: right;\">0.0</td><td style = \"text-align: right;\">0.0</td><td style = \"text-align: right;\">0.0</td><td style = \"text-align: right;\">0.0</td><td style = \"text-align: right;\">0.001</td><td style = \"text-align: right;\">0.00026</td><td style = \"text-align: right;\">2.0e-5</td><td style = \"text-align: right;\">0.00043</td><td style = \"text-align: right;\">0.0</td><td style = \"text-align: right;\">0.0</td><td style = \"text-align: right;\">0.0161</td><td style = \"text-align: right;\">0.0</td><td style = \"text-align: right;\">0.0</td><td style = \"text-align: right;\">0.8329</td></tr><tr><td class = \"rowNumber\" style = \"font-weight: bold; text-align: right;\">7</td><td style = \"text-align: left;\">Cassava</td><td style = \"text-align: right;\">0.0006</td><td style = \"text-align: right;\">0.0</td><td style = \"text-align: right;\">0.0002</td><td style = \"text-align: right;\">0.0</td><td style = \"text-align: right;\">0.0001</td><td style = \"text-align: right;\">0.0</td><td style = \"text-align: right;\">0.0</td><td style = \"text-align: right;\">0.0009</td><td style = \"text-align: right;\">0.708419</td><td style = \"text-align: right;\">0.69</td><td style = \"text-align: right;\">7.66667</td><td style = \"text-align: right;\">0.0</td><td style = \"text-align: right;\">0.0</td><td style = \"text-align: right;\">0.0</td><td style = \"text-align: right;\">1.35524</td><td style = \"text-align: right;\">14.6667</td><td style = \"text-align: right;\">1.85832</td><td style = \"text-align: right;\">1.81</td><td style = \"text-align: right;\">20.1111</td><td style = \"text-align: right;\">0.0</td><td style = \"text-align: right;\">0.0</td><td style = \"text-align: right;\">0.0</td><td style = \"text-align: left;\">Cassava, raw</td><td style = \"text-align: right;\">0.0</td><td style = \"text-align: right;\">100</td><td style = \"text-align: right;\">1.6</td><td style = \"text-align: right;\">0.003</td><td style = \"text-align: right;\">0.001</td><td style = \"text-align: right;\">0.0</td><td style = \"text-align: right;\">0.14</td><td style = \"text-align: right;\">0.237</td><td style = \"text-align: right;\">0.27</td><td style = \"text-align: right;\">0.0</td><td style = \"text-align: right;\">0.00854</td><td style = \"text-align: right;\">0.00107</td><td style = \"text-align: right;\">0.00048</td><td style = \"text-align: right;\">0.00087</td><td style = \"text-align: right;\">0.13</td><td style = \"text-align: right;\">0.01</td><td style = \"text-align: right;\">0.0</td><td style = \"text-align: right;\">0.08</td><td style = \"text-align: right;\">0.0</td><td style = \"text-align: right;\">0.0</td><td style = \"text-align: right;\">0.0</td><td style = \"text-align: right;\">0.0</td><td style = \"text-align: right;\">0.00088</td><td style = \"text-align: right;\">0.206</td><td style = \"text-align: right;\">0.0</td><td style = \"text-align: right;\">0.0019</td><td style = \"text-align: right;\">0.0019</td><td style = \"text-align: right;\">0.019</td><td style = \"text-align: right;\">0.16</td><td style = \"text-align: right;\">0.001</td><td style = \"text-align: right;\">0.0027</td><td style = \"text-align: right;\">0.21</td><td style = \"text-align: right;\">0.00384</td><td style = \"text-align: right;\">0.27</td><td style = \"text-align: right;\">2.71</td><td style = \"text-align: right;\">0.007</td><td style = \"text-align: right;\">0.0034</td><td style = \"text-align: right;\">0.0136</td><td style = \"text-align: right;\">0.00038</td><td style = \"text-align: right;\">0.00137</td><td style = \"text-align: right;\">0.00079</td><td style = \"text-align: right;\">0.00028</td><td style = \"text-align: right;\">0.00206</td><td style = \"text-align: right;\">0.00028</td><td style = \"text-align: right;\">0.0002</td><td style = \"text-align: right;\">0.0</td><td style = \"text-align: right;\">0.00027</td><td style = \"text-align: right;\">0.00039</td><td style = \"text-align: right;\">0.00044</td><td style = \"text-align: right;\">0.00011</td><td style = \"text-align: right;\">0.00026</td><td style = \"text-align: right;\">0.00033</td><td style = \"text-align: right;\">0.00033</td><td style = \"text-align: right;\">0.00028</td><td style = \"text-align: right;\">0.00019</td><td style = \"text-align: right;\">0.00017</td><td style = \"text-align: right;\">0.00035</td><td style = \"text-align: right;\">0.3806</td><td style = \"text-align: right;\">0.018</td><td style = \"text-align: right;\">0.017</td><td style = \"text-align: right;\">0.0</td><td style = \"text-align: right;\">0.0</td><td style = \"text-align: right;\">0.0</td><td style = \"text-align: right;\">0.0</td><td style = \"text-align: right;\">0.0</td><td style = \"text-align: right;\">0.0</td><td style = \"text-align: right;\">0.0028</td><td style = \"text-align: right;\">0.00074</td><td style = \"text-align: right;\">0.00075</td><td style = \"text-align: right;\">0.00048</td><td style = \"text-align: right;\">0.0</td><td style = \"text-align: right;\">0.0</td><td style = \"text-align: right;\">0.0062</td><td style = \"text-align: right;\">0.0</td><td style = \"text-align: right;\">0.0</td><td style = \"text-align: right;\">0.5968</td></tr><tr><td class = \"rowNumber\" style = \"font-weight: bold; text-align: right;\">8</td><td style = \"text-align: left;\">Cane Sugar</td><td style = \"text-align: right;\">0.0012</td><td style = \"text-align: right;\">0.0</td><td style = \"text-align: right;\">0.0005</td><td style = \"text-align: right;\">0.0</td><td style = \"text-align: right;\">0.0008</td><td style = \"text-align: right;\">0.0001</td><td style = \"text-align: right;\">0.0</td><td style = \"text-align: right;\">0.0026</td><td style = \"text-align: right;\">4.82051</td><td style = \"text-align: right;\">16.92</td><td style = \"text-align: right;\">0.0</td><td style = \"text-align: right;\">176.667</td><td style = \"text-align: right;\">0.0</td><td style = \"text-align: right;\">620.1</td><td style = \"text-align: right;\">0.911681</td><td style = \"text-align: right;\">0.0</td><td style = \"text-align: right;\">0.581197</td><td style = \"text-align: right;\">2.04</td><td style = \"text-align: right;\">0.0</td><td style = \"text-align: right;\">16438.6</td><td style = \"text-align: right;\">0.0</td><td style = \"text-align: right;\">4683.36</td><td style = \"text-align: left;\">Sugar, turbinado</td><td style = \"text-align: right;\">0.0</td><td style = \"text-align: right;\">100</td><td style = \"text-align: right;\">3.99</td><td style = \"text-align: right;\">0.0</td><td style = \"text-align: right;\">0.0</td><td style = \"text-align: right;\">0.0</td><td style = \"text-align: right;\">0.0</td><td style = \"text-align: right;\">0.0</td><td style = \"text-align: right;\">0.0</td><td style = \"text-align: right;\">0.0</td><td style = \"text-align: right;\">0.0</td><td style = \"text-align: right;\">0.0</td><td style = \"text-align: right;\">0.0</td><td style = \"text-align: right;\">0.0</td><td style = \"text-align: right;\">0.0</td><td style = \"text-align: right;\">0.0</td><td style = \"text-align: right;\">0.0</td><td style = \"text-align: right;\">0.0</td><td style = \"text-align: right;\">0.0</td><td style = \"text-align: right;\">0.0</td><td style = \"text-align: right;\">0.0</td><td style = \"text-align: right;\">0.0</td><td style = \"text-align: right;\">0.0</td><td style = \"text-align: right;\">0.0</td><td style = \"text-align: right;\">0.0</td><td style = \"text-align: right;\">0.0</td><td style = \"text-align: right;\">0.0</td><td style = \"text-align: right;\">0.0</td><td style = \"text-align: right;\">0.0</td><td style = \"text-align: right;\">0.0</td><td style = \"text-align: right;\">0.0</td><td style = \"text-align: right;\">0.0</td><td style = \"text-align: right;\">0.0</td><td style = \"text-align: right;\">0.0</td><td style = \"text-align: right;\">0.0</td><td style = \"text-align: right;\">0.0</td><td style = \"text-align: right;\">0.0</td><td style = \"text-align: right;\">0.0</td><td style = \"text-align: right;\">0.0</td><td style = \"text-align: right;\">0.0</td><td style = \"text-align: right;\">0.0</td><td style = \"text-align: right;\">0.0</td><td style = \"text-align: right;\">0.0</td><td style = \"text-align: right;\">0.0</td><td style = \"text-align: right;\">0.0</td><td style = \"text-align: right;\">0.0</td><td style = \"text-align: right;\">0.0</td><td style = \"text-align: right;\">0.0</td><td style = \"text-align: right;\">0.0</td><td style = \"text-align: right;\">0.0</td><td style = \"text-align: right;\">0.0</td><td style = \"text-align: right;\">0.0</td><td style = \"text-align: right;\">0.0</td><td style = \"text-align: right;\">0.0</td><td style = \"text-align: right;\">0.0</td><td style = \"text-align: right;\">0.0</td><td style = \"text-align: right;\">0.0</td><td style = \"text-align: right;\">0.998</td><td style = \"text-align: right;\">0.0</td><td style = \"text-align: right;\">0.9919</td><td style = \"text-align: right;\">0.0</td><td style = \"text-align: right;\">0.0</td><td style = \"text-align: right;\">0.0</td><td style = \"text-align: right;\">0.0</td><td style = \"text-align: right;\">0.0</td><td style = \"text-align: right;\">0.9919</td><td style = \"text-align: right;\">0.0</td><td style = \"text-align: right;\">0.0</td><td style = \"text-align: right;\">0.0</td><td style = \"text-align: right;\">0.0</td><td style = \"text-align: right;\">0.0</td><td style = \"text-align: right;\">0.0</td><td style = \"text-align: right;\">0.0017</td><td style = \"text-align: right;\">0.0</td><td style = \"text-align: right;\">0.0</td><td style = \"text-align: right;\">0.0003</td></tr><tr><td class = \"rowNumber\" style = \"font-weight: bold; text-align: right;\">9</td><td style = \"text-align: left;\">Beet Sugar</td><td style = \"text-align: right;\">0.0</td><td style = \"text-align: right;\">0.0</td><td style = \"text-align: right;\">0.0005</td><td style = \"text-align: right;\">0.0002</td><td style = \"text-align: right;\">0.0006</td><td style = \"text-align: right;\">0.0001</td><td style = \"text-align: right;\">0.0</td><td style = \"text-align: right;\">0.0014</td><td style = \"text-align: right;\">1.54131</td><td style = \"text-align: right;\">5.41</td><td style = \"text-align: right;\">0.0</td><td style = \"text-align: right;\">62.0228</td><td style = \"text-align: right;\">0.0</td><td style = \"text-align: right;\">217.7</td><td style = \"text-align: right;\">0.51567</td><td style = \"text-align: right;\">0.0</td><td style = \"text-align: right;\">0.521368</td><td style = \"text-align: right;\">1.83</td><td style = \"text-align: right;\">0.0</td><td style = \"text-align: right;\">9493.3</td><td style = \"text-align: right;\">0.0</td><td style = \"text-align: right;\">2704.64</td><td style = \"text-align: left;\">Sugar, turbinado</td><td style = \"text-align: right;\">0.0</td><td style = \"text-align: right;\">100</td><td style = \"text-align: right;\">3.99</td><td style = \"text-align: right;\">0.0</td><td style = \"text-align: right;\">0.0</td><td style = \"text-align: right;\">0.0</td><td style = \"text-align: right;\">0.0</td><td style = \"text-align: right;\">0.0</td><td style = \"text-align: right;\">0.0</td><td style = \"text-align: right;\">0.0</td><td style = \"text-align: right;\">0.0</td><td style = \"text-align: right;\">0.0</td><td style = \"text-align: right;\">0.0</td><td style = \"text-align: right;\">0.0</td><td style = \"text-align: right;\">0.0</td><td style = \"text-align: right;\">0.0</td><td style = \"text-align: right;\">0.0</td><td style = \"text-align: right;\">0.0</td><td style = \"text-align: right;\">0.0</td><td style = \"text-align: right;\">0.0</td><td style = \"text-align: right;\">0.0</td><td style = \"text-align: right;\">0.0</td><td style = \"text-align: right;\">0.0</td><td style = \"text-align: right;\">0.0</td><td style = \"text-align: right;\">0.0</td><td style = \"text-align: right;\">0.0</td><td style = \"text-align: right;\">0.0</td><td style = \"text-align: right;\">0.0</td><td style = \"text-align: right;\">0.0</td><td style = \"text-align: right;\">0.0</td><td style = \"text-align: right;\">0.0</td><td style = \"text-align: right;\">0.0</td><td style = \"text-align: right;\">0.0</td><td style = \"text-align: right;\">0.0</td><td style = \"text-align: right;\">0.0</td><td style = \"text-align: right;\">0.0</td><td style = \"text-align: right;\">0.0</td><td style = \"text-align: right;\">0.0</td><td style = \"text-align: right;\">0.0</td><td style = \"text-align: right;\">0.0</td><td style = \"text-align: right;\">0.0</td><td style = \"text-align: right;\">0.0</td><td style = \"text-align: right;\">0.0</td><td style = \"text-align: right;\">0.0</td><td style = \"text-align: right;\">0.0</td><td style = \"text-align: right;\">0.0</td><td style = \"text-align: right;\">0.0</td><td style = \"text-align: right;\">0.0</td><td style = \"text-align: right;\">0.0</td><td style = \"text-align: right;\">0.0</td><td style = \"text-align: right;\">0.0</td><td style = \"text-align: right;\">0.0</td><td style = \"text-align: right;\">0.0</td><td style = \"text-align: right;\">0.0</td><td style = \"text-align: right;\">0.0</td><td style = \"text-align: right;\">0.0</td><td style = \"text-align: right;\">0.0</td><td style = \"text-align: right;\">0.998</td><td style = \"text-align: right;\">0.0</td><td style = \"text-align: right;\">0.9919</td><td style = \"text-align: right;\">0.0</td><td style = \"text-align: right;\">0.0</td><td style = \"text-align: right;\">0.0</td><td style = \"text-align: right;\">0.0</td><td style = \"text-align: right;\">0.0</td><td style = \"text-align: right;\">0.9919</td><td style = \"text-align: right;\">0.0</td><td style = \"text-align: right;\">0.0</td><td style = \"text-align: right;\">0.0</td><td style = \"text-align: right;\">0.0</td><td style = \"text-align: right;\">0.0</td><td style = \"text-align: right;\">0.0</td><td style = \"text-align: right;\">0.0017</td><td style = \"text-align: right;\">0.0</td><td style = \"text-align: right;\">0.0</td><td style = \"text-align: right;\">0.0003</td></tr><tr><td class = \"rowNumber\" style = \"font-weight: bold; text-align: right;\">10</td><td style = \"text-align: left;\">Beans</td><td style = \"text-align: right;\">0.0</td><td style = \"text-align: right;\">0.0</td><td style = \"text-align: right;\">0.0011</td><td style = \"text-align: right;\">0.0</td><td style = \"text-align: right;\">0.0001</td><td style = \"text-align: right;\">0.0004</td><td style = \"text-align: right;\">0.0</td><td style = \"text-align: right;\">0.0016</td><td style = \"text-align: right;\">5.0088</td><td style = \"text-align: right;\">17.08</td><td style = \"text-align: right;\">7.97758</td><td style = \"text-align: right;\">0.0</td><td style = \"text-align: right;\">203.503</td><td style = \"text-align: right;\">435.7</td><td style = \"text-align: right;\">0.524927</td><td style = \"text-align: right;\">0.836058</td><td style = \"text-align: right;\">4.56598</td><td style = \"text-align: right;\">15.57</td><td style = \"text-align: right;\">7.2723</td><td style = \"text-align: right;\">22477.4</td><td style = \"text-align: right;\">10498.6</td><td style = \"text-align: right;\">0.0</td><td style = \"text-align: left;\">Beans, raw, mature seeds, pinto</td><td style = \"text-align: right;\">0.0</td><td style = \"text-align: right;\">100</td><td style = \"text-align: right;\">3.47</td><td style = \"text-align: right;\">0.012</td><td style = \"text-align: right;\">0.002</td><td style = \"text-align: right;\">0.0</td><td style = \"text-align: right;\">0.12</td><td style = \"text-align: right;\">0.662</td><td style = \"text-align: right;\">5.25</td><td style = \"text-align: right;\">0.0</td><td style = \"text-align: right;\">0.01174</td><td style = \"text-align: right;\">0.00785</td><td style = \"text-align: right;\">0.00212</td><td style = \"text-align: right;\">0.00713</td><td style = \"text-align: right;\">0.0</td><td style = \"text-align: right;\">0.0</td><td style = \"text-align: right;\">0.0</td><td style = \"text-align: right;\">0.0</td><td style = \"text-align: right;\">0.0</td><td style = \"text-align: right;\">0.0</td><td style = \"text-align: right;\">0.0</td><td style = \"text-align: right;\">0.0</td><td style = \"text-align: right;\">0.00474</td><td style = \"text-align: right;\">0.063</td><td style = \"text-align: right;\">0.0</td><td style = \"text-align: right;\">0.0021</td><td style = \"text-align: right;\">0.0021</td><td style = \"text-align: right;\">0.056</td><td style = \"text-align: right;\">1.13</td><td style = \"text-align: right;\">0.00893</td><td style = \"text-align: right;\">0.0507</td><td style = \"text-align: right;\">1.76</td><td style = \"text-align: right;\">0.01148</td><td style = \"text-align: right;\">4.11</td><td style = \"text-align: right;\">13.93</td><td style = \"text-align: right;\">0.279</td><td style = \"text-align: right;\">0.0228</td><td style = \"text-align: right;\">0.2142</td><td style = \"text-align: right;\">0.00872</td><td style = \"text-align: right;\">0.01096</td><td style = \"text-align: right;\">0.02268</td><td style = \"text-align: right;\">0.00187</td><td style = \"text-align: right;\">0.03027</td><td style = \"text-align: right;\">0.00796</td><td style = \"text-align: right;\">0.00556</td><td style = \"text-align: right;\">0.0</td><td style = \"text-align: right;\">0.00871</td><td style = \"text-align: right;\">0.01558</td><td style = \"text-align: right;\">0.01356</td><td style = \"text-align: right;\">0.00259</td><td style = \"text-align: right;\">0.01095</td><td style = \"text-align: right;\">0.01072</td><td style = \"text-align: right;\">0.01171</td><td style = \"text-align: right;\">0.0081</td><td style = \"text-align: right;\">0.00237</td><td style = \"text-align: right;\">0.00427</td><td style = \"text-align: right;\">0.00998</td><td style = \"text-align: right;\">0.6255</td><td style = \"text-align: right;\">0.155</td><td style = \"text-align: right;\">0.0211</td><td style = \"text-align: right;\">0.0</td><td style = \"text-align: right;\">0.0</td><td style = \"text-align: right;\">0.0013</td><td style = \"text-align: right;\">0.0</td><td style = \"text-align: right;\">0.0</td><td style = \"text-align: right;\">0.0198</td><td style = \"text-align: right;\">0.0123</td><td style = \"text-align: right;\">0.00235</td><td style = \"text-align: right;\">0.00229</td><td style = \"text-align: right;\">0.00407</td><td style = \"text-align: right;\">0.0</td><td style = \"text-align: right;\">0.0</td><td style = \"text-align: right;\">0.0346</td><td style = \"text-align: right;\">0.0</td><td style = \"text-align: right;\">0.0</td><td style = \"text-align: right;\">0.1133</td></tr><tr><td class = \"rowNumber\" style = \"font-weight: bold; text-align: right;\">11</td><td style = \"text-align: left;\">Peas</td><td style = \"text-align: right;\">0.0</td><td style = \"text-align: right;\">0.0</td><td style = \"text-align: right;\">0.0007</td><td style = \"text-align: right;\">0.0</td><td style = \"text-align: right;\">0.0001</td><td style = \"text-align: right;\">0.0</td><td style = \"text-align: right;\">0.0</td><td style = \"text-align: right;\">0.0008</td><td style = \"text-align: right;\">2.17341</td><td style = \"text-align: right;\">7.52</td><td style = \"text-align: right;\">3.38434</td><td style = \"text-align: right;\">0.0</td><td style = \"text-align: right;\">178.488</td><td style = \"text-align: right;\">396.6</td><td style = \"text-align: right;\">0.283237</td><td style = \"text-align: right;\">0.441044</td><td style = \"text-align: right;\">2.15607</td><td style = \"text-align: right;\">7.46</td><td style = \"text-align: right;\">3.35734</td><td style = \"text-align: right;\">27948.2</td><td style = \"text-align: right;\">12577.9</td><td style = \"text-align: right;\">0.0</td><td style = \"text-align: left;\">Peas, raw, green</td><td style = \"text-align: right;\">0.0</td><td style = \"text-align: right;\">100</td><td style = \"text-align: right;\">0.81</td><td style = \"text-align: right;\">0.004</td><td style = \"text-align: right;\">0.001</td><td style = \"text-align: right;\">0.0</td><td style = \"text-align: right;\">0.05</td><td style = \"text-align: right;\">0.284</td><td style = \"text-align: right;\">0.65</td><td style = \"text-align: right;\">0.0</td><td style = \"text-align: right;\">0.0209</td><td style = \"text-align: right;\">0.00104</td><td style = \"text-align: right;\">0.00132</td><td style = \"text-align: right;\">0.00266</td><td style = \"text-align: right;\">7.65</td><td style = \"text-align: right;\">0.38</td><td style = \"text-align: right;\">0.21</td><td style = \"text-align: right;\">4.49</td><td style = \"text-align: right;\">0.0</td><td style = \"text-align: right;\">24.77</td><td style = \"text-align: right;\">0.0</td><td style = \"text-align: right;\">0.0</td><td style = \"text-align: right;\">0.00169</td><td style = \"text-align: right;\">0.4</td><td style = \"text-align: right;\">0.0</td><td style = \"text-align: right;\">0.0013</td><td style = \"text-align: right;\">0.0013</td><td style = \"text-align: right;\">0.248</td><td style = \"text-align: right;\">0.25</td><td style = \"text-align: right;\">0.00176</td><td style = \"text-align: right;\">0.0147</td><td style = \"text-align: right;\">0.33</td><td style = \"text-align: right;\">0.0041</td><td style = \"text-align: right;\">1.08</td><td style = \"text-align: right;\">2.44</td><td style = \"text-align: right;\">0.018</td><td style = \"text-align: right;\">0.0124</td><td style = \"text-align: right;\">0.0542</td><td style = \"text-align: right;\">0.0024</td><td style = \"text-align: right;\">0.00428</td><td style = \"text-align: right;\">0.00496</td><td style = \"text-align: right;\">0.00032</td><td style = \"text-align: right;\">0.00741</td><td style = \"text-align: right;\">0.00184</td><td style = \"text-align: right;\">0.00107</td><td style = \"text-align: right;\">0.0</td><td style = \"text-align: right;\">0.00195</td><td style = \"text-align: right;\">0.00323</td><td style = \"text-align: right;\">0.00317</td><td style = \"text-align: right;\">0.00082</td><td style = \"text-align: right;\">0.002</td><td style = \"text-align: right;\">0.00173</td><td style = \"text-align: right;\">0.00181</td><td style = \"text-align: right;\">0.00203</td><td style = \"text-align: right;\">0.00037</td><td style = \"text-align: right;\">0.00114</td><td style = \"text-align: right;\">0.00235</td><td style = \"text-align: right;\">0.1445</td><td style = \"text-align: right;\">0.057</td><td style = \"text-align: right;\">0.0567</td><td style = \"text-align: right;\">0.0039</td><td style = \"text-align: right;\">0.0</td><td style = \"text-align: right;\">0.0012</td><td style = \"text-align: right;\">0.0</td><td style = \"text-align: right;\">0.0017</td><td style = \"text-align: right;\">0.0499</td><td style = \"text-align: right;\">0.004</td><td style = \"text-align: right;\">0.00071</td><td style = \"text-align: right;\">0.00035</td><td style = \"text-align: right;\">0.00187</td><td style = \"text-align: right;\">0.0</td><td style = \"text-align: right;\">0.0</td><td style = \"text-align: right;\">0.0087</td><td style = \"text-align: right;\">0.0</td><td style = \"text-align: right;\">0.0</td><td style = \"text-align: right;\">0.7886</td></tr><tr><td class = \"rowNumber\" style = \"font-weight: bold; text-align: right;\">12</td><td style = \"text-align: left;\">Nuts</td><td style = \"text-align: right;\">-0.0021</td><td style = \"text-align: right;\">0.0</td><td style = \"text-align: right;\">0.0021</td><td style = \"text-align: right;\">0.0</td><td style = \"text-align: right;\">0.0001</td><td style = \"text-align: right;\">0.0001</td><td style = \"text-align: right;\">0.0</td><td style = \"text-align: right;\">0.0002</td><td style = \"text-align: right;\">3.11382</td><td style = \"text-align: right;\">19.15</td><td style = \"text-align: right;\">11.7269</td><td style = \"text-align: right;\">672.163</td><td style = \"text-align: right;\">2531.41</td><td style = \"text-align: right;\">4133.8</td><td style = \"text-align: right;\">0.0699187</td><td style = \"text-align: right;\">0.263319</td><td style = \"text-align: right;\">2.10732</td><td style = \"text-align: right;\">12.96</td><td style = \"text-align: right;\">7.93631</td><td style = \"text-align: right;\">2.2989e5</td><td style = \"text-align: right;\">1.40778e5</td><td style = \"text-align: right;\">37380.5</td><td style = \"text-align: left;\">Nuts, pecans</td><td style = \"text-align: right;\">0.0</td><td style = \"text-align: right;\">100</td><td style = \"text-align: right;\">6.91</td><td style = \"text-align: right;\">0.72</td><td style = \"text-align: right;\">0.062</td><td style = \"text-align: right;\">0.0</td><td style = \"text-align: right;\">0.0</td><td style = \"text-align: right;\">0.405</td><td style = \"text-align: right;\">0.22</td><td style = \"text-align: right;\">0.0</td><td style = \"text-align: right;\">0.01167</td><td style = \"text-align: right;\">0.00863</td><td style = \"text-align: right;\">0.0013</td><td style = \"text-align: right;\">0.0066</td><td style = \"text-align: right;\">0.56</td><td style = \"text-align: right;\">0.03</td><td style = \"text-align: right;\">0.0</td><td style = \"text-align: right;\">0.29</td><td style = \"text-align: right;\">0.09</td><td style = \"text-align: right;\">0.17</td><td style = \"text-align: right;\">0.0</td><td style = \"text-align: right;\">0.0</td><td style = \"text-align: right;\">0.0021</td><td style = \"text-align: right;\">0.011</td><td style = \"text-align: right;\">0.0</td><td style = \"text-align: right;\">0.014</td><td style = \"text-align: right;\">0.014</td><td style = \"text-align: right;\">0.035</td><td style = \"text-align: right;\">0.7</td><td style = \"text-align: right;\">0.012</td><td style = \"text-align: right;\">0.0253</td><td style = \"text-align: right;\">1.21</td><td style = \"text-align: right;\">0.045</td><td style = \"text-align: right;\">2.77</td><td style = \"text-align: right;\">4.1</td><td style = \"text-align: right;\">0.038</td><td style = \"text-align: right;\">0.0453</td><td style = \"text-align: right;\">0.0917</td><td style = \"text-align: right;\">0.00397</td><td style = \"text-align: right;\">0.01177</td><td style = \"text-align: right;\">0.00929</td><td style = \"text-align: right;\">0.00152</td><td style = \"text-align: right;\">0.01829</td><td style = \"text-align: right;\">0.00453</td><td style = \"text-align: right;\">0.00262</td><td style = \"text-align: right;\">0.0</td><td style = \"text-align: right;\">0.00336</td><td style = \"text-align: right;\">0.00598</td><td style = \"text-align: right;\">0.00287</td><td style = \"text-align: right;\">0.00183</td><td style = \"text-align: right;\">0.00426</td><td style = \"text-align: right;\">0.00363</td><td style = \"text-align: right;\">0.00474</td><td style = \"text-align: right;\">0.00306</td><td style = \"text-align: right;\">0.00093</td><td style = \"text-align: right;\">0.00215</td><td style = \"text-align: right;\">0.00411</td><td style = \"text-align: right;\">0.1386</td><td style = \"text-align: right;\">0.096</td><td style = \"text-align: right;\">0.0397</td><td style = \"text-align: right;\">0.0004</td><td style = \"text-align: right;\">0.0</td><td style = \"text-align: right;\">0.0004</td><td style = \"text-align: right;\">0.0</td><td style = \"text-align: right;\">0.0</td><td style = \"text-align: right;\">0.039</td><td style = \"text-align: right;\">0.7197</td><td style = \"text-align: right;\">0.0618</td><td style = \"text-align: right;\">0.40801</td><td style = \"text-align: right;\">0.21614</td><td style = \"text-align: right;\">0.0</td><td style = \"text-align: right;\">0.0</td><td style = \"text-align: right;\">0.0149</td><td style = \"text-align: right;\">0.0</td><td style = \"text-align: right;\">0.0</td><td style = \"text-align: right;\">0.0352</td></tr><tr><td class = \"rowNumber\" style = \"font-weight: bold; text-align: right;\">13</td><td style = \"text-align: left;\">Peanuts</td><td style = \"text-align: right;\">0.0004</td><td style = \"text-align: right;\">0.0</td><td style = \"text-align: right;\">0.0014</td><td style = \"text-align: right;\">0.0004</td><td style = \"text-align: right;\">0.0001</td><td style = \"text-align: right;\">0.0001</td><td style = \"text-align: right;\">0.0</td><td style = \"text-align: right;\">0.0024</td><td style = \"text-align: right;\">2.43793</td><td style = \"text-align: right;\">14.14</td><td style = \"text-align: right;\">5.40107</td><td style = \"text-align: right;\">319.362</td><td style = \"text-align: right;\">707.525</td><td style = \"text-align: right;\">1852.3</td><td style = \"text-align: right;\">0.556897</td><td style = \"text-align: right;\">1.23377</td><td style = \"text-align: right;\">1.57069</td><td style = \"text-align: right;\">9.11</td><td style = \"text-align: right;\">3.47976</td><td style = \"text-align: right;\">61797.9</td><td style = \"text-align: right;\">23605.0</td><td style = \"text-align: right;\">10654.8</td><td style = \"text-align: left;\">Peanuts, raw, all types</td><td style = \"text-align: right;\">0.0</td><td style = \"text-align: right;\">100</td><td style = \"text-align: right;\">5.67</td><td style = \"text-align: right;\">0.49</td><td style = \"text-align: right;\">0.063</td><td style = \"text-align: right;\">0.0</td><td style = \"text-align: right;\">0.18</td><td style = \"text-align: right;\">0.525</td><td style = \"text-align: right;\">2.4</td><td style = \"text-align: right;\">0.0</td><td style = \"text-align: right;\">0.12066</td><td style = \"text-align: right;\">0.01767</td><td style = \"text-align: right;\">0.00135</td><td style = \"text-align: right;\">0.0064</td><td style = \"text-align: right;\">0.0</td><td style = \"text-align: right;\">0.0</td><td style = \"text-align: right;\">0.0</td><td style = \"text-align: right;\">0.0</td><td style = \"text-align: right;\">0.0</td><td style = \"text-align: right;\">0.0</td><td style = \"text-align: right;\">0.0</td><td style = \"text-align: right;\">0.0</td><td style = \"text-align: right;\">0.00348</td><td style = \"text-align: right;\">0.0</td><td style = \"text-align: right;\">0.0</td><td style = \"text-align: right;\">0.0833</td><td style = \"text-align: right;\">0.0833</td><td style = \"text-align: right;\">0.0</td><td style = \"text-align: right;\">0.92</td><td style = \"text-align: right;\">0.01144</td><td style = \"text-align: right;\">0.0458</td><td style = \"text-align: right;\">1.68</td><td style = \"text-align: right;\">0.01934</td><td style = \"text-align: right;\">3.76</td><td style = \"text-align: right;\">7.05</td><td style = \"text-align: right;\">0.072</td><td style = \"text-align: right;\">0.0327</td><td style = \"text-align: right;\">0.258</td><td style = \"text-align: right;\">0.01025</td><td style = \"text-align: right;\">0.03085</td><td style = \"text-align: right;\">0.03146</td><td style = \"text-align: right;\">0.00331</td><td style = \"text-align: right;\">0.0539</td><td style = \"text-align: right;\">0.01554</td><td style = \"text-align: right;\">0.00652</td><td style = \"text-align: right;\">0.0</td><td style = \"text-align: right;\">0.00907</td><td style = \"text-align: right;\">0.01672</td><td style = \"text-align: right;\">0.00926</td><td style = \"text-align: right;\">0.00317</td><td style = \"text-align: right;\">0.01377</td><td style = \"text-align: right;\">0.01138</td><td style = \"text-align: right;\">0.01271</td><td style = \"text-align: right;\">0.00883</td><td style = \"text-align: right;\">0.0025</td><td style = \"text-align: right;\">0.01049</td><td style = \"text-align: right;\">0.01082</td><td style = \"text-align: right;\">0.1613</td><td style = \"text-align: right;\">0.085</td><td style = \"text-align: right;\">0.0472</td><td style = \"text-align: right;\">0.0</td><td style = \"text-align: right;\">0.0</td><td style = \"text-align: right;\">0.0</td><td style = \"text-align: right;\">0.0</td><td style = \"text-align: right;\">0.0</td><td style = \"text-align: right;\">0.0</td><td style = \"text-align: right;\">0.4924</td><td style = \"text-align: right;\">0.06279</td><td style = \"text-align: right;\">0.24426</td><td style = \"text-align: right;\">0.15558</td><td style = \"text-align: right;\">0.0</td><td style = \"text-align: right;\">0.0</td><td style = \"text-align: right;\">0.0233</td><td style = \"text-align: right;\">0.0</td><td style = \"text-align: right;\">0.0</td><td style = \"text-align: right;\">0.065</td></tr><tr><td style = \"text-align: right;\">&vellip;</td><td style = \"text-align: right;\">&vellip;</td><td style = \"text-align: right;\">&vellip;</td><td style = \"text-align: right;\">&vellip;</td><td style = \"text-align: right;\">&vellip;</td><td style = \"text-align: right;\">&vellip;</td><td style = \"text-align: right;\">&vellip;</td><td style = \"text-align: right;\">&vellip;</td><td style = \"text-align: right;\">&vellip;</td><td style = \"text-align: right;\">&vellip;</td><td style = \"text-align: right;\">&vellip;</td><td style = \"text-align: right;\">&vellip;</td><td style = \"text-align: right;\">&vellip;</td><td style = \"text-align: right;\">&vellip;</td><td style = \"text-align: right;\">&vellip;</td><td style = \"text-align: right;\">&vellip;</td><td style = \"text-align: right;\">&vellip;</td><td style = \"text-align: right;\">&vellip;</td><td style = \"text-align: right;\">&vellip;</td><td style = \"text-align: right;\">&vellip;</td><td style = \"text-align: right;\">&vellip;</td><td style = \"text-align: right;\">&vellip;</td><td style = \"text-align: right;\">&vellip;</td><td style = \"text-align: right;\">&vellip;</td><td style = \"text-align: right;\">&vellip;</td><td style = \"text-align: right;\">&vellip;</td><td style = \"text-align: right;\">&vellip;</td><td style = \"text-align: right;\">&vellip;</td><td style = \"text-align: right;\">&vellip;</td><td style = \"text-align: right;\">&vellip;</td><td style = \"text-align: right;\">&vellip;</td><td style = \"text-align: right;\">&vellip;</td><td style = \"text-align: right;\">&vellip;</td><td style = \"text-align: right;\">&vellip;</td><td style = \"text-align: right;\">&vellip;</td><td style = \"text-align: right;\">&vellip;</td><td style = \"text-align: right;\">&vellip;</td><td style = \"text-align: right;\">&vellip;</td><td style = \"text-align: right;\">&vellip;</td><td style = \"text-align: right;\">&vellip;</td><td style = \"text-align: right;\">&vellip;</td><td style = \"text-align: right;\">&vellip;</td><td style = \"text-align: right;\">&vellip;</td><td style = \"text-align: right;\">&vellip;</td><td style = \"text-align: right;\">&vellip;</td><td style = \"text-align: right;\">&vellip;</td><td style = \"text-align: right;\">&vellip;</td><td style = \"text-align: right;\">&vellip;</td><td style = \"text-align: right;\">&vellip;</td><td style = \"text-align: right;\">&vellip;</td><td style = \"text-align: right;\">&vellip;</td><td style = \"text-align: right;\">&vellip;</td><td style = \"text-align: right;\">&vellip;</td><td style = \"text-align: right;\">&vellip;</td><td style = \"text-align: right;\">&vellip;</td><td style = \"text-align: right;\">&vellip;</td><td style = \"text-align: right;\">&vellip;</td><td style = \"text-align: right;\">&vellip;</td><td style = \"text-align: right;\">&vellip;</td><td style = \"text-align: right;\">&vellip;</td><td style = \"text-align: right;\">&vellip;</td><td style = \"text-align: right;\">&vellip;</td><td style = \"text-align: right;\">&vellip;</td><td style = \"text-align: right;\">&vellip;</td><td style = \"text-align: right;\">&vellip;</td><td style = \"text-align: right;\">&vellip;</td><td style = \"text-align: right;\">&vellip;</td><td style = \"text-align: right;\">&vellip;</td><td style = \"text-align: right;\">&vellip;</td><td style = \"text-align: right;\">&vellip;</td><td style = \"text-align: right;\">&vellip;</td><td style = \"text-align: right;\">&vellip;</td><td style = \"text-align: right;\">&vellip;</td><td style = \"text-align: right;\">&vellip;</td><td style = \"text-align: right;\">&vellip;</td><td style = \"text-align: right;\">&vellip;</td><td style = \"text-align: right;\">&vellip;</td><td style = \"text-align: right;\">&vellip;</td><td style = \"text-align: right;\">&vellip;</td><td style = \"text-align: right;\">&vellip;</td><td style = \"text-align: right;\">&vellip;</td><td style = \"text-align: right;\">&vellip;</td><td style = \"text-align: right;\">&vellip;</td><td style = \"text-align: right;\">&vellip;</td><td style = \"text-align: right;\">&vellip;</td><td style = \"text-align: right;\">&vellip;</td><td style = \"text-align: right;\">&vellip;</td><td style = \"text-align: right;\">&vellip;</td><td style = \"text-align: right;\">&vellip;</td><td style = \"text-align: right;\">&vellip;</td><td style = \"text-align: right;\">&vellip;</td><td style = \"text-align: right;\">&vellip;</td><td style = \"text-align: right;\">&vellip;</td><td style = \"text-align: right;\">&vellip;</td><td style = \"text-align: right;\">&vellip;</td><td style = \"text-align: right;\">&vellip;</td><td style = \"text-align: right;\">&vellip;</td><td style = \"text-align: right;\">&vellip;</td><td style = \"text-align: right;\">&vellip;</td><td style = \"text-align: right;\">&vellip;</td><td style = \"text-align: right;\">&vellip;</td></tr><tr><td class = \"rowNumber\" style = \"font-weight: bold; text-align: right;\">32</td><td style = \"text-align: left;\">Coffee</td><td style = \"text-align: right;\">0.0037</td><td style = \"text-align: right;\">0.0</td><td style = \"text-align: right;\">0.0104</td><td style = \"text-align: right;\">0.0006</td><td style = \"text-align: right;\">0.0001</td><td style = \"text-align: right;\">0.0016</td><td style = \"text-align: right;\">0.0001</td><td style = \"text-align: right;\">0.0165</td><td style = \"text-align: right;\">197.357</td><td style = \"text-align: right;\">110.52</td><td style = \"text-align: right;\">138.15</td><td style = \"text-align: right;\">46.25</td><td style = \"text-align: right;\">32.375</td><td style = \"text-align: right;\">25.9</td><td style = \"text-align: right;\">50.9464</td><td style = \"text-align: right;\">35.6625</td><td style = \"text-align: right;\">38.6071</td><td style = \"text-align: right;\">21.62</td><td style = \"text-align: right;\">27.025</td><td style = \"text-align: right;\">337.0</td><td style = \"text-align: right;\">421.25</td><td style = \"text-align: right;\">601.786</td><td style = \"text-align: left;\">Beverages, breakfast blend, brewed, coffee</td><td style = \"text-align: right;\">0.0</td><td style = \"text-align: right;\">100</td><td style = \"text-align: right;\">0.02</td><td style = \"text-align: right;\">0.0</td><td style = \"text-align: right;\">0.0</td><td style = \"text-align: right;\">0.0</td><td style = \"text-align: right;\">0.01</td><td style = \"text-align: right;\">0.0</td><td style = \"text-align: right;\">0.0</td><td style = \"text-align: right;\">0.0</td><td style = \"text-align: right;\">0.008</td><td style = \"text-align: right;\">0.0</td><td style = \"text-align: right;\">0.0</td><td style = \"text-align: right;\">0.0002</td><td style = \"text-align: right;\">0.0</td><td style = \"text-align: right;\">0.0</td><td style = \"text-align: right;\">0.0</td><td style = \"text-align: right;\">0.0</td><td style = \"text-align: right;\">0.0</td><td style = \"text-align: right;\">0.0</td><td style = \"text-align: right;\">0.0</td><td style = \"text-align: right;\">0.0</td><td style = \"text-align: right;\">0.0</td><td style = \"text-align: right;\">0.0</td><td style = \"text-align: right;\">0.0</td><td style = \"text-align: right;\">0.0</td><td style = \"text-align: right;\">0.0</td><td style = \"text-align: right;\">0.0</td><td style = \"text-align: right;\">0.02</td><td style = \"text-align: right;\">5.0e-5</td><td style = \"text-align: right;\">0.0002</td><td style = \"text-align: right;\">0.04</td><td style = \"text-align: right;\">0.00032</td><td style = \"text-align: right;\">0.03</td><td style = \"text-align: right;\">0.5</td><td style = \"text-align: right;\">0.0</td><td style = \"text-align: right;\">0.0002</td><td style = \"text-align: right;\">0.003</td><td style = \"text-align: right;\">0.0</td><td style = \"text-align: right;\">0.0</td><td style = \"text-align: right;\">0.0</td><td style = \"text-align: right;\">0.0</td><td style = \"text-align: right;\">0.0</td><td style = \"text-align: right;\">0.0</td><td style = \"text-align: right;\">0.0</td><td style = \"text-align: right;\">0.0</td><td style = \"text-align: right;\">0.0</td><td style = \"text-align: right;\">0.0</td><td style = \"text-align: right;\">0.0</td><td style = \"text-align: right;\">0.0</td><td style = \"text-align: right;\">0.0</td><td style = \"text-align: right;\">0.0</td><td style = \"text-align: right;\">0.0</td><td style = \"text-align: right;\">0.0</td><td style = \"text-align: right;\">0.0</td><td style = \"text-align: right;\">0.0</td><td style = \"text-align: right;\">0.0</td><td style = \"text-align: right;\">0.0023</td><td style = \"text-align: right;\">0.0</td><td style = \"text-align: right;\">0.0</td><td style = \"text-align: right;\">0.0</td><td style = \"text-align: right;\">0.0</td><td style = \"text-align: right;\">0.0</td><td style = \"text-align: right;\">0.0</td><td style = \"text-align: right;\">0.0</td><td style = \"text-align: right;\">0.0</td><td style = \"text-align: right;\">0.0</td><td style = \"text-align: right;\">0.0</td><td style = \"text-align: right;\">0.0</td><td style = \"text-align: right;\">0.0</td><td style = \"text-align: right;\">0.0</td><td style = \"text-align: right;\">0.0</td><td style = \"text-align: right;\">0.0</td><td style = \"text-align: right;\">0.0</td><td style = \"text-align: right;\">0.0</td><td style = \"text-align: right;\">0.9947</td></tr><tr><td class = \"rowNumber\" style = \"font-weight: bold; text-align: right;\">33</td><td style = \"text-align: left;\">Dark Chocolate</td><td style = \"text-align: right;\">0.0143</td><td style = \"text-align: right;\">0.0</td><td style = \"text-align: right;\">0.0037</td><td style = \"text-align: right;\">0.0002</td><td style = \"text-align: right;\">0.0001</td><td style = \"text-align: right;\">0.0004</td><td style = \"text-align: right;\">0.0</td><td style = \"text-align: right;\">0.0187</td><td style = \"text-align: right;\">16.8433</td><td style = \"text-align: right;\">87.08</td><td style = \"text-align: right;\">174.16</td><td style = \"text-align: right;\">104.565</td><td style = \"text-align: right;\">1081.2</td><td style = \"text-align: right;\">540.6</td><td style = \"text-align: right;\">9.02321</td><td style = \"text-align: right;\">93.3</td><td style = \"text-align: right;\">13.3385</td><td style = \"text-align: right;\">68.96</td><td style = \"text-align: right;\">137.92</td><td style = \"text-align: right;\">2879.2</td><td style = \"text-align: right;\">5758.4</td><td style = \"text-align: right;\">556.905</td><td style = \"text-align: left;\">Candies, SPECIAL DARK Chocolate Bar</td><td style = \"text-align: right;\">0.0</td><td style = \"text-align: right;\">100</td><td style = \"text-align: right;\">5.56</td><td style = \"text-align: right;\">0.32</td><td style = \"text-align: right;\">0.0</td><td style = \"text-align: right;\">0.05</td><td style = \"text-align: right;\">0.06</td><td style = \"text-align: right;\">0.0</td><td style = \"text-align: right;\">0.0</td><td style = \"text-align: right;\">0.0</td><td style = \"text-align: right;\">0.0</td><td style = \"text-align: right;\">0.0</td><td style = \"text-align: right;\">0.0001</td><td style = \"text-align: right;\">0.0</td><td style = \"text-align: right;\">0.0</td><td style = \"text-align: right;\">0.0</td><td style = \"text-align: right;\">0.0</td><td style = \"text-align: right;\">0.0</td><td style = \"text-align: right;\">0.0</td><td style = \"text-align: right;\">0.0</td><td style = \"text-align: right;\">0.0</td><td style = \"text-align: right;\">0.0</td><td style = \"text-align: right;\">0.0</td><td style = \"text-align: right;\">0.0</td><td style = \"text-align: right;\">0.0</td><td style = \"text-align: right;\">0.0</td><td style = \"text-align: right;\">0.0</td><td style = \"text-align: right;\">0.0</td><td style = \"text-align: right;\">0.3</td><td style = \"text-align: right;\">0.0002</td><td style = \"text-align: right;\">0.0213</td><td style = \"text-align: right;\">0.31</td><td style = \"text-align: right;\">0.0</td><td style = \"text-align: right;\">0.51</td><td style = \"text-align: right;\">5.02</td><td style = \"text-align: right;\">0.003</td><td style = \"text-align: right;\">0.0001</td><td style = \"text-align: right;\">0.0554</td><td style = \"text-align: right;\">0.0</td><td style = \"text-align: right;\">0.0</td><td style = \"text-align: right;\">0.0</td><td style = \"text-align: right;\">0.0</td><td style = \"text-align: right;\">0.0</td><td style = \"text-align: right;\">0.0</td><td style = \"text-align: right;\">0.0</td><td style = \"text-align: right;\">0.0</td><td style = \"text-align: right;\">0.0</td><td style = \"text-align: right;\">0.0</td><td style = \"text-align: right;\">0.0</td><td style = \"text-align: right;\">0.0</td><td style = \"text-align: right;\">0.0</td><td style = \"text-align: right;\">0.0</td><td style = \"text-align: right;\">0.0</td><td style = \"text-align: right;\">0.0</td><td style = \"text-align: right;\">0.0</td><td style = \"text-align: right;\">0.0</td><td style = \"text-align: right;\">0.0</td><td style = \"text-align: right;\">0.6049</td><td style = \"text-align: right;\">0.065</td><td style = \"text-align: right;\">0.4756</td><td style = \"text-align: right;\">0.0</td><td style = \"text-align: right;\">0.0</td><td style = \"text-align: right;\">0.0</td><td style = \"text-align: right;\">0.0</td><td style = \"text-align: right;\">0.0</td><td style = \"text-align: right;\">0.0</td><td style = \"text-align: right;\">0.324</td><td style = \"text-align: right;\">0.0</td><td style = \"text-align: right;\">0.0514</td><td style = \"text-align: right;\">0.0044</td><td style = \"text-align: right;\">0.05</td><td style = \"text-align: right;\">0.0</td><td style = \"text-align: right;\">0.0067</td><td style = \"text-align: right;\">0.0</td><td style = \"text-align: right;\">0.0</td><td style = \"text-align: right;\">0.009</td></tr><tr><td class = \"rowNumber\" style = \"font-weight: bold; text-align: right;\">34</td><td style = \"text-align: left;\">Beef (beef herd)</td><td style = \"text-align: right;\">0.0163</td><td style = \"text-align: right;\">0.0019</td><td style = \"text-align: right;\">0.0394</td><td style = \"text-align: right;\">0.0013</td><td style = \"text-align: right;\">0.0003</td><td style = \"text-align: right;\">0.0002</td><td style = \"text-align: right;\">0.0002</td><td style = \"text-align: right;\">0.0596</td><td style = \"text-align: right;\">110.407</td><td style = \"text-align: right;\">301.41</td><td style = \"text-align: right;\">151.158</td><td style = \"text-align: right;\">531.575</td><td style = \"text-align: right;\">727.783</td><td style = \"text-align: right;\">1451.2</td><td style = \"text-align: right;\">36.4396</td><td style = \"text-align: right;\">49.8897</td><td style = \"text-align: right;\">119.491</td><td style = \"text-align: right;\">326.21</td><td style = \"text-align: right;\">163.596</td><td style = \"text-align: right;\">34732.5</td><td style = \"text-align: right;\">17418.5</td><td style = \"text-align: right;\">12722.5</td><td style = \"text-align: left;\">Beef, raw, ground, grass-fed</td><td style = \"text-align: right;\">0.0</td><td style = \"text-align: right;\">100</td><td style = \"text-align: right;\">1.98</td><td style = \"text-align: right;\">0.13</td><td style = \"text-align: right;\">0.053</td><td style = \"text-align: right;\">0.62</td><td style = \"text-align: right;\">0.68</td><td style = \"text-align: right;\">0.674</td><td style = \"text-align: right;\">0.06</td><td style = \"text-align: right;\">0.0</td><td style = \"text-align: right;\">0.04818</td><td style = \"text-align: right;\">0.00576</td><td style = \"text-align: right;\">0.00154</td><td style = \"text-align: right;\">0.00049</td><td style = \"text-align: right;\">0.0</td><td style = \"text-align: right;\">0.0</td><td style = \"text-align: right;\">0.0</td><td style = \"text-align: right;\">0.0</td><td style = \"text-align: right;\">0.0</td><td style = \"text-align: right;\">0.0</td><td style = \"text-align: right;\">0.0</td><td style = \"text-align: right;\">0.0197</td><td style = \"text-align: right;\">0.00355</td><td style = \"text-align: right;\">0.0</td><td style = \"text-align: right;\">0.0</td><td style = \"text-align: right;\">0.0035</td><td style = \"text-align: right;\">0.0035</td><td style = \"text-align: right;\">0.011</td><td style = \"text-align: right;\">0.12</td><td style = \"text-align: right;\">0.00063</td><td style = \"text-align: right;\">0.0199</td><td style = \"text-align: right;\">0.19</td><td style = \"text-align: right;\">0.0001</td><td style = \"text-align: right;\">1.75</td><td style = \"text-align: right;\">2.89</td><td style = \"text-align: right;\">0.142</td><td style = \"text-align: right;\">0.0455</td><td style = \"text-align: right;\">0.1942</td><td style = \"text-align: right;\">0.0</td><td style = \"text-align: right;\">0.0</td><td style = \"text-align: right;\">0.0</td><td style = \"text-align: right;\">0.0</td><td style = \"text-align: right;\">0.0</td><td style = \"text-align: right;\">0.0</td><td style = \"text-align: right;\">0.0</td><td style = \"text-align: right;\">0.0</td><td style = \"text-align: right;\">0.0</td><td style = \"text-align: right;\">0.0</td><td style = \"text-align: right;\">0.0</td><td style = \"text-align: right;\">0.0</td><td style = \"text-align: right;\">0.0</td><td style = \"text-align: right;\">0.0</td><td style = \"text-align: right;\">0.0</td><td style = \"text-align: right;\">0.0</td><td style = \"text-align: right;\">0.0</td><td style = \"text-align: right;\">0.0</td><td style = \"text-align: right;\">0.0</td><td style = \"text-align: right;\">0.0</td><td style = \"text-align: right;\">0.0</td><td style = \"text-align: right;\">0.0</td><td style = \"text-align: right;\">0.0</td><td style = \"text-align: right;\">0.0</td><td style = \"text-align: right;\">0.0</td><td style = \"text-align: right;\">0.0</td><td style = \"text-align: right;\">0.0</td><td style = \"text-align: right;\">0.0</td><td style = \"text-align: right;\">0.1273</td><td style = \"text-align: right;\">0.05335</td><td style = \"text-align: right;\">0.048</td><td style = \"text-align: right;\">0.00532</td><td style = \"text-align: right;\">0.62</td><td style = \"text-align: right;\">0.0</td><td style = \"text-align: right;\">0.0171</td><td style = \"text-align: right;\">0.0</td><td style = \"text-align: right;\">0.0</td><td style = \"text-align: right;\">0.6713</td></tr><tr><td class = \"rowNumber\" style = \"font-weight: bold; text-align: right;\">35</td><td style = \"text-align: left;\">Beef (dairy herd)</td><td style = \"text-align: right;\">0.0009</td><td style = \"text-align: right;\">0.0025</td><td style = \"text-align: right;\">0.0157</td><td style = \"text-align: right;\">0.0011</td><td style = \"text-align: right;\">0.0004</td><td style = \"text-align: right;\">0.0003</td><td style = \"text-align: right;\">0.0002</td><td style = \"text-align: right;\">0.0211</td><td style = \"text-align: right;\">133.806</td><td style = \"text-align: right;\">365.29</td><td style = \"text-align: right;\">185.051</td><td style = \"text-align: right;\">994.249</td><td style = \"text-align: right;\">1375.03</td><td style = \"text-align: right;\">2714.3</td><td style = \"text-align: right;\">12.1978</td><td style = \"text-align: right;\">16.8693</td><td style = \"text-align: right;\">15.8388</td><td style = \"text-align: right;\">43.24</td><td style = \"text-align: right;\">21.9048</td><td style = \"text-align: right;\">1.19805e5</td><td style = \"text-align: right;\">60691.6</td><td style = \"text-align: right;\">43884.7</td><td style = \"text-align: left;\">Beef, raw, ground, grass-fed</td><td style = \"text-align: right;\">0.0</td><td style = \"text-align: right;\">100</td><td style = \"text-align: right;\">1.98</td><td style = \"text-align: right;\">0.13</td><td style = \"text-align: right;\">0.053</td><td style = \"text-align: right;\">0.62</td><td style = \"text-align: right;\">0.68</td><td style = \"text-align: right;\">0.674</td><td style = \"text-align: right;\">0.06</td><td style = \"text-align: right;\">0.0</td><td style = \"text-align: right;\">0.04818</td><td style = \"text-align: right;\">0.00576</td><td style = \"text-align: right;\">0.00154</td><td style = \"text-align: right;\">0.00049</td><td style = \"text-align: right;\">0.0</td><td style = \"text-align: right;\">0.0</td><td style = \"text-align: right;\">0.0</td><td style = \"text-align: right;\">0.0</td><td style = \"text-align: right;\">0.0</td><td style = \"text-align: right;\">0.0</td><td style = \"text-align: right;\">0.0</td><td style = \"text-align: right;\">0.0197</td><td style = \"text-align: right;\">0.00355</td><td style = \"text-align: right;\">0.0</td><td style = \"text-align: right;\">0.0</td><td style = \"text-align: right;\">0.0035</td><td style = \"text-align: right;\">0.0035</td><td style = \"text-align: right;\">0.011</td><td style = \"text-align: right;\">0.12</td><td style = \"text-align: right;\">0.00063</td><td style = \"text-align: right;\">0.0199</td><td style = \"text-align: right;\">0.19</td><td style = \"text-align: right;\">0.0001</td><td style = \"text-align: right;\">1.75</td><td style = \"text-align: right;\">2.89</td><td style = \"text-align: right;\">0.142</td><td style = \"text-align: right;\">0.0455</td><td style = \"text-align: right;\">0.1942</td><td style = \"text-align: right;\">0.0</td><td style = \"text-align: right;\">0.0</td><td style = \"text-align: right;\">0.0</td><td style = \"text-align: right;\">0.0</td><td style = \"text-align: right;\">0.0</td><td style = \"text-align: right;\">0.0</td><td style = \"text-align: right;\">0.0</td><td style = \"text-align: right;\">0.0</td><td style = \"text-align: right;\">0.0</td><td style = \"text-align: right;\">0.0</td><td style = \"text-align: right;\">0.0</td><td style = \"text-align: right;\">0.0</td><td style = \"text-align: right;\">0.0</td><td style = \"text-align: right;\">0.0</td><td style = \"text-align: right;\">0.0</td><td style = \"text-align: right;\">0.0</td><td style = \"text-align: right;\">0.0</td><td style = \"text-align: right;\">0.0</td><td style = \"text-align: right;\">0.0</td><td style = \"text-align: right;\">0.0</td><td style = \"text-align: right;\">0.0</td><td style = \"text-align: right;\">0.0</td><td style = \"text-align: right;\">0.0</td><td style = \"text-align: right;\">0.0</td><td style = \"text-align: right;\">0.0</td><td style = \"text-align: right;\">0.0</td><td style = \"text-align: right;\">0.0</td><td style = \"text-align: right;\">0.0</td><td style = \"text-align: right;\">0.1273</td><td style = \"text-align: right;\">0.05335</td><td style = \"text-align: right;\">0.048</td><td style = \"text-align: right;\">0.00532</td><td style = \"text-align: right;\">0.62</td><td style = \"text-align: right;\">0.0</td><td style = \"text-align: right;\">0.0171</td><td style = \"text-align: right;\">0.0</td><td style = \"text-align: right;\">0.0</td><td style = \"text-align: right;\">0.6713</td></tr><tr><td class = \"rowNumber\" style = \"font-weight: bold; text-align: right;\">36</td><td style = \"text-align: left;\">Lamb &amp; Mutton</td><td style = \"text-align: right;\">0.0005</td><td style = \"text-align: right;\">0.0024</td><td style = \"text-align: right;\">0.0195</td><td style = \"text-align: right;\">0.0011</td><td style = \"text-align: right;\">0.0005</td><td style = \"text-align: right;\">0.0003</td><td style = \"text-align: right;\">0.0002</td><td style = \"text-align: right;\">0.0245</td><td style = \"text-align: right;\">30.6404</td><td style = \"text-align: right;\">97.13</td><td style = \"text-align: right;\">48.5407</td><td style = \"text-align: right;\">568.707</td><td style = \"text-align: right;\">900.95</td><td style = \"text-align: right;\">1802.8</td><td style = \"text-align: right;\">12.53</td><td style = \"text-align: right;\">19.8501</td><td style = \"text-align: right;\">116.659</td><td style = \"text-align: right;\">369.81</td><td style = \"text-align: right;\">184.813</td><td style = \"text-align: right;\">141925.0</td><td style = \"text-align: right;\">70927.0</td><td style = \"text-align: right;\">44771.3</td><td style = \"text-align: left;\">Lamb, broiled, cooked, ground</td><td style = \"text-align: right;\">0.0</td><td style = \"text-align: right;\">100</td><td style = \"text-align: right;\">2.83</td><td style = \"text-align: right;\">0.2</td><td style = \"text-align: right;\">0.081</td><td style = \"text-align: right;\">0.97</td><td style = \"text-align: right;\">0.81</td><td style = \"text-align: right;\">0.934</td><td style = \"text-align: right;\">0.19</td><td style = \"text-align: right;\">0.0</td><td style = \"text-align: right;\">0.067</td><td style = \"text-align: right;\">0.0066</td><td style = \"text-align: right;\">0.0025</td><td style = \"text-align: right;\">0.001</td><td style = \"text-align: right;\">0.0</td><td style = \"text-align: right;\">0.0</td><td style = \"text-align: right;\">0.0</td><td style = \"text-align: right;\">0.0</td><td style = \"text-align: right;\">0.0</td><td style = \"text-align: right;\">0.0</td><td style = \"text-align: right;\">0.0</td><td style = \"text-align: right;\">0.0261</td><td style = \"text-align: right;\">0.0014</td><td style = \"text-align: right;\">0.0</td><td style = \"text-align: right;\">0.02</td><td style = \"text-align: right;\">0.0014</td><td style = \"text-align: right;\">0.0014</td><td style = \"text-align: right;\">0.053</td><td style = \"text-align: right;\">0.22</td><td style = \"text-align: right;\">0.00128</td><td style = \"text-align: right;\">0.0179</td><td style = \"text-align: right;\">0.24</td><td style = \"text-align: right;\">0.00024</td><td style = \"text-align: right;\">2.01</td><td style = \"text-align: right;\">3.39</td><td style = \"text-align: right;\">0.277</td><td style = \"text-align: right;\">0.0467</td><td style = \"text-align: right;\">0.2475</td><td style = \"text-align: right;\">0.01488</td><td style = \"text-align: right;\">0.0147</td><td style = \"text-align: right;\">0.02178</td><td style = \"text-align: right;\">0.00295</td><td style = \"text-align: right;\">0.03591</td><td style = \"text-align: right;\">0.01209</td><td style = \"text-align: right;\">0.00784</td><td style = \"text-align: right;\">0.0</td><td style = \"text-align: right;\">0.01194</td><td style = \"text-align: right;\">0.01925</td><td style = \"text-align: right;\">0.02186</td><td style = \"text-align: right;\">0.00635</td><td style = \"text-align: right;\">0.01008</td><td style = \"text-align: right;\">0.01038</td><td style = \"text-align: right;\">0.0092</td><td style = \"text-align: right;\">0.01059</td><td style = \"text-align: right;\">0.00289</td><td style = \"text-align: right;\">0.00832</td><td style = \"text-align: right;\">0.01335</td><td style = \"text-align: right;\">0.0</td><td style = \"text-align: right;\">0.0</td><td style = \"text-align: right;\">0.0</td><td style = \"text-align: right;\">0.0</td><td style = \"text-align: right;\">0.0</td><td style = \"text-align: right;\">0.0</td><td style = \"text-align: right;\">0.0</td><td style = \"text-align: right;\">0.0</td><td style = \"text-align: right;\">0.0</td><td style = \"text-align: right;\">0.1965</td><td style = \"text-align: right;\">0.0812</td><td style = \"text-align: right;\">0.0832</td><td style = \"text-align: right;\">0.014</td><td style = \"text-align: right;\">0.97</td><td style = \"text-align: right;\">0.0</td><td style = \"text-align: right;\">0.0114</td><td style = \"text-align: right;\">0.0</td><td style = \"text-align: right;\">0.0</td><td style = \"text-align: right;\">0.5509</td></tr><tr><td class = \"rowNumber\" style = \"font-weight: bold; text-align: right;\">37</td><td style = \"text-align: left;\">Pork</td><td style = \"text-align: right;\">0.0015</td><td style = \"text-align: right;\">0.0029</td><td style = \"text-align: right;\">0.0017</td><td style = \"text-align: right;\">0.0003</td><td style = \"text-align: right;\">0.0003</td><td style = \"text-align: right;\">0.0003</td><td style = \"text-align: right;\">0.0002</td><td style = \"text-align: right;\">0.0072</td><td style = \"text-align: right;\">31.9582</td><td style = \"text-align: right;\">76.38</td><td style = \"text-align: right;\">47.2064</td><td style = \"text-align: right;\">751.381</td><td style = \"text-align: right;\">1109.89</td><td style = \"text-align: right;\">1795.8</td><td style = \"text-align: right;\">5.15063</td><td style = \"text-align: right;\">7.60816</td><td style = \"text-align: right;\">7.2636</td><td style = \"text-align: right;\">17.36</td><td style = \"text-align: right;\">10.7293</td><td style = \"text-align: right;\">66867.4</td><td style = \"text-align: right;\">41327.2</td><td style = \"text-align: right;\">27978.0</td><td style = \"text-align: left;\">Pork, cooked, ground, fresh</td><td style = \"text-align: right;\">0.0</td><td style = \"text-align: right;\">100</td><td style = \"text-align: right;\">2.97</td><td style = \"text-align: right;\">0.21</td><td style = \"text-align: right;\">0.077</td><td style = \"text-align: right;\">0.94</td><td style = \"text-align: right;\">0.73</td><td style = \"text-align: right;\">0.883</td><td style = \"text-align: right;\">0.06</td><td style = \"text-align: right;\">0.0</td><td style = \"text-align: right;\">0.04206</td><td style = \"text-align: right;\">0.0052</td><td style = \"text-align: right;\">0.0022</td><td style = \"text-align: right;\">0.00706</td><td style = \"text-align: right;\">0.08</td><td style = \"text-align: right;\">0.02</td><td style = \"text-align: right;\">0.0</td><td style = \"text-align: right;\">0.0</td><td style = \"text-align: right;\">0.0</td><td style = \"text-align: right;\">0.0</td><td style = \"text-align: right;\">0.0</td><td style = \"text-align: right;\">0.0054</td><td style = \"text-align: right;\">0.00391</td><td style = \"text-align: right;\">0.007</td><td style = \"text-align: right;\">0.21</td><td style = \"text-align: right;\">0.0021</td><td style = \"text-align: right;\">0.0021</td><td style = \"text-align: right;\">0.0</td><td style = \"text-align: right;\">0.22</td><td style = \"text-align: right;\">0.00044</td><td style = \"text-align: right;\">0.0129</td><td style = \"text-align: right;\">0.24</td><td style = \"text-align: right;\">0.00011</td><td style = \"text-align: right;\">2.26</td><td style = \"text-align: right;\">3.62</td><td style = \"text-align: right;\">0.354</td><td style = \"text-align: right;\">0.0321</td><td style = \"text-align: right;\">0.2569</td><td style = \"text-align: right;\">0.01497</td><td style = \"text-align: right;\">0.01597</td><td style = \"text-align: right;\">0.02383</td><td style = \"text-align: right;\">0.00328</td><td style = \"text-align: right;\">0.04022</td><td style = \"text-align: right;\">0.0122</td><td style = \"text-align: right;\">0.01026</td><td style = \"text-align: right;\">0.0</td><td style = \"text-align: right;\">0.01203</td><td style = \"text-align: right;\">0.02061</td><td style = \"text-align: right;\">0.0231</td><td style = \"text-align: right;\">0.0068</td><td style = \"text-align: right;\">0.01025</td><td style = \"text-align: right;\">0.01032</td><td style = \"text-align: right;\">0.01061</td><td style = \"text-align: right;\">0.01173</td><td style = \"text-align: right;\">0.00326</td><td style = \"text-align: right;\">0.00895</td><td style = \"text-align: right;\">0.01394</td><td style = \"text-align: right;\">0.0</td><td style = \"text-align: right;\">0.0</td><td style = \"text-align: right;\">0.0</td><td style = \"text-align: right;\">0.0</td><td style = \"text-align: right;\">0.0</td><td style = \"text-align: right;\">0.0</td><td style = \"text-align: right;\">0.0</td><td style = \"text-align: right;\">0.0</td><td style = \"text-align: right;\">0.0</td><td style = \"text-align: right;\">0.2077</td><td style = \"text-align: right;\">0.0772</td><td style = \"text-align: right;\">0.0925</td><td style = \"text-align: right;\">0.0187</td><td style = \"text-align: right;\">0.94</td><td style = \"text-align: right;\">0.0</td><td style = \"text-align: right;\">0.0129</td><td style = \"text-align: right;\">0.0</td><td style = \"text-align: right;\">0.0</td><td style = \"text-align: right;\">0.5275</td></tr><tr><td class = \"rowNumber\" style = \"font-weight: bold; text-align: right;\">38</td><td style = \"text-align: left;\">Chicken Meat</td><td style = \"text-align: right;\">0.0025</td><td style = \"text-align: right;\">0.0018</td><td style = \"text-align: right;\">0.0007</td><td style = \"text-align: right;\">0.0004</td><td style = \"text-align: right;\">0.0003</td><td style = \"text-align: right;\">0.0002</td><td style = \"text-align: right;\">0.0002</td><td style = \"text-align: right;\">0.0061</td><td style = \"text-align: right;\">26.3243</td><td style = \"text-align: right;\">48.7</td><td style = \"text-align: right;\">28.1178</td><td style = \"text-align: right;\">356.757</td><td style = \"text-align: right;\">381.062</td><td style = \"text-align: right;\">660.0</td><td style = \"text-align: right;\">5.33514</td><td style = \"text-align: right;\">5.69861</td><td style = \"text-align: right;\">6.60541</td><td style = \"text-align: right;\">12.22</td><td style = \"text-align: right;\">7.05543</td><td style = \"text-align: right;\">14177.9</td><td style = \"text-align: right;\">8185.85</td><td style = \"text-align: right;\">7663.73</td><td style = \"text-align: left;\">Chicken, raw, ground</td><td style = \"text-align: right;\">0.0</td><td style = \"text-align: right;\">100</td><td style = \"text-align: right;\">1.43</td><td style = \"text-align: right;\">0.081</td><td style = \"text-align: right;\">0.023</td><td style = \"text-align: right;\">0.86</td><td style = \"text-align: right;\">0.6</td><td style = \"text-align: right;\">0.588</td><td style = \"text-align: right;\">0.01</td><td style = \"text-align: right;\">0.0</td><td style = \"text-align: right;\">0.05575</td><td style = \"text-align: right;\">0.01092</td><td style = \"text-align: right;\">0.00241</td><td style = \"text-align: right;\">0.00109</td><td style = \"text-align: right;\">0.0</td><td style = \"text-align: right;\">0.0</td><td style = \"text-align: right;\">0.0</td><td style = \"text-align: right;\">0.0</td><td style = \"text-align: right;\">0.0</td><td style = \"text-align: right;\">0.0</td><td style = \"text-align: right;\">0.0</td><td style = \"text-align: right;\">0.0056</td><td style = \"text-align: right;\">0.00512</td><td style = \"text-align: right;\">0.0</td><td style = \"text-align: right;\">0.0</td><td style = \"text-align: right;\">0.0027</td><td style = \"text-align: right;\">0.0027</td><td style = \"text-align: right;\">0.008</td><td style = \"text-align: right;\">0.06</td><td style = \"text-align: right;\">0.00065</td><td style = \"text-align: right;\">0.0082</td><td style = \"text-align: right;\">0.21</td><td style = \"text-align: right;\">0.00016</td><td style = \"text-align: right;\">1.78</td><td style = \"text-align: right;\">5.22</td><td style = \"text-align: right;\">0.102</td><td style = \"text-align: right;\">0.0147</td><td style = \"text-align: right;\">0.1744</td><td style = \"text-align: right;\">0.00991</td><td style = \"text-align: right;\">0.01128</td><td style = \"text-align: right;\">0.01616</td><td style = \"text-align: right;\">0.00188</td><td style = \"text-align: right;\">0.02611</td><td style = \"text-align: right;\">0.00838</td><td style = \"text-align: right;\">0.00529</td><td style = \"text-align: right;\">0.00094</td><td style = \"text-align: right;\">0.00794</td><td style = \"text-align: right;\">0.01361</td><td style = \"text-align: right;\">0.01509</td><td style = \"text-align: right;\">0.00446</td><td style = \"text-align: right;\">0.00683</td><td style = \"text-align: right;\">0.00658</td><td style = \"text-align: right;\">0.00731</td><td style = \"text-align: right;\">0.00727</td><td style = \"text-align: right;\">0.00147</td><td style = \"text-align: right;\">0.00604</td><td style = \"text-align: right;\">0.00826</td><td style = \"text-align: right;\">0.0004</td><td style = \"text-align: right;\">0.0</td><td style = \"text-align: right;\">0.0</td><td style = \"text-align: right;\">0.0</td><td style = \"text-align: right;\">0.0</td><td style = \"text-align: right;\">0.0</td><td style = \"text-align: right;\">0.0</td><td style = \"text-align: right;\">0.0</td><td style = \"text-align: right;\">0.0</td><td style = \"text-align: right;\">0.081</td><td style = \"text-align: right;\">0.02301</td><td style = \"text-align: right;\">0.03611</td><td style = \"text-align: right;\">0.01508</td><td style = \"text-align: right;\">0.86</td><td style = \"text-align: right;\">0.0</td><td style = \"text-align: right;\">0.0117</td><td style = \"text-align: right;\">0.0</td><td style = \"text-align: right;\">0.0</td><td style = \"text-align: right;\">0.7324</td></tr><tr><td class = \"rowNumber\" style = \"font-weight: bold; text-align: right;\">39</td><td style = \"text-align: left;\">Milk</td><td style = \"text-align: right;\">0.0005</td><td style = \"text-align: right;\">0.0002</td><td style = \"text-align: right;\">0.0015</td><td style = \"text-align: right;\">0.0001</td><td style = \"text-align: right;\">0.0001</td><td style = \"text-align: right;\">0.0001</td><td style = \"text-align: right;\">0.0003</td><td style = \"text-align: right;\">0.0028</td><td style = \"text-align: right;\">17.75</td><td style = \"text-align: right;\">10.65</td><td style = \"text-align: right;\">32.2727</td><td style = \"text-align: right;\">1047.0</td><td style = \"text-align: right;\">1903.64</td><td style = \"text-align: right;\">628.2</td><td style = \"text-align: right;\">5.25</td><td style = \"text-align: right;\">9.5</td><td style = \"text-align: right;\">14.9167</td><td style = \"text-align: right;\">8.95</td><td style = \"text-align: right;\">27.1212</td><td style = \"text-align: right;\">19786.3</td><td style = \"text-align: right;\">59958.5</td><td style = \"text-align: right;\">32977.2</td><td style = \"text-align: left;\">Milk, fluid, low sodium</td><td style = \"text-align: right;\">0.0</td><td style = \"text-align: right;\">100</td><td style = \"text-align: right;\">0.61</td><td style = \"text-align: right;\">0.035</td><td style = \"text-align: right;\">0.022</td><td style = \"text-align: right;\">0.14</td><td style = \"text-align: right;\">0.03</td><td style = \"text-align: right;\">0.16</td><td style = \"text-align: right;\">0.05</td><td style = \"text-align: right;\">0.0</td><td style = \"text-align: right;\">0.00043</td><td style = \"text-align: right;\">0.00304</td><td style = \"text-align: right;\">0.00105</td><td style = \"text-align: right;\">0.0002</td><td style = \"text-align: right;\">1.05</td><td style = \"text-align: right;\">0.29</td><td style = \"text-align: right;\">0.0</td><td style = \"text-align: right;\">0.07</td><td style = \"text-align: right;\">0.0</td><td style = \"text-align: right;\">0.0</td><td style = \"text-align: right;\">0.0</td><td style = \"text-align: right;\">0.0036</td><td style = \"text-align: right;\">0.00034</td><td style = \"text-align: right;\">0.009</td><td style = \"text-align: right;\">0.51</td><td style = \"text-align: right;\">0.0008</td><td style = \"text-align: right;\">0.0008</td><td style = \"text-align: right;\">0.003</td><td style = \"text-align: right;\">1.01</td><td style = \"text-align: right;\">0.0001</td><td style = \"text-align: right;\">0.0005</td><td style = \"text-align: right;\">0.05</td><td style = \"text-align: right;\">4.0e-5</td><td style = \"text-align: right;\">0.86</td><td style = \"text-align: right;\">2.53</td><td style = \"text-align: right;\">0.02</td><td style = \"text-align: right;\">0.0038</td><td style = \"text-align: right;\">0.031</td><td style = \"text-align: right;\">0.00107</td><td style = \"text-align: right;\">0.00112</td><td style = \"text-align: right;\">0.00235</td><td style = \"text-align: right;\">0.00029</td><td style = \"text-align: right;\">0.00649</td><td style = \"text-align: right;\">0.00066</td><td style = \"text-align: right;\">0.00084</td><td style = \"text-align: right;\">0.0</td><td style = \"text-align: right;\">0.00188</td><td style = \"text-align: right;\">0.00304</td><td style = \"text-align: right;\">0.00246</td><td style = \"text-align: right;\">0.00078</td><td style = \"text-align: right;\">0.0015</td><td style = \"text-align: right;\">0.003</td><td style = \"text-align: right;\">0.00169</td><td style = \"text-align: right;\">0.0014</td><td style = \"text-align: right;\">0.00044</td><td style = \"text-align: right;\">0.0015</td><td style = \"text-align: right;\">0.00207</td><td style = \"text-align: right;\">0.0446</td><td style = \"text-align: right;\">0.0</td><td style = \"text-align: right;\">0.0446</td><td style = \"text-align: right;\">0.0</td><td style = \"text-align: right;\">0.0</td><td style = \"text-align: right;\">0.0</td><td style = \"text-align: right;\">0.0</td><td style = \"text-align: right;\">0.0</td><td style = \"text-align: right;\">0.0</td><td style = \"text-align: right;\">0.0346</td><td style = \"text-align: right;\">0.02154</td><td style = \"text-align: right;\">0.00999</td><td style = \"text-align: right;\">0.00128</td><td style = \"text-align: right;\">0.14</td><td style = \"text-align: right;\">0.0</td><td style = \"text-align: right;\">0.0078</td><td style = \"text-align: right;\">0.0</td><td style = \"text-align: right;\">0.0</td><td style = \"text-align: right;\">0.882</td></tr><tr><td class = \"rowNumber\" style = \"font-weight: bold; text-align: right;\">40</td><td style = \"text-align: left;\">Cheese</td><td style = \"text-align: right;\">0.0045</td><td style = \"text-align: right;\">0.0023</td><td style = \"text-align: right;\">0.0131</td><td style = \"text-align: right;\">0.0007</td><td style = \"text-align: right;\">0.0001</td><td style = \"text-align: right;\">0.0002</td><td style = \"text-align: right;\">0.0003</td><td style = \"text-align: right;\">0.0212</td><td style = \"text-align: right;\">25.4186</td><td style = \"text-align: right;\">98.37</td><td style = \"text-align: right;\">44.5516</td><td style = \"text-align: right;\">1448.37</td><td style = \"text-align: right;\">2538.59</td><td style = \"text-align: right;\">5605.2</td><td style = \"text-align: right;\">6.17054</td><td style = \"text-align: right;\">10.8152</td><td style = \"text-align: right;\">22.6848</td><td style = \"text-align: right;\">87.79</td><td style = \"text-align: right;\">39.76</td><td style = \"text-align: right;\">1.80851e5</td><td style = \"text-align: right;\">81907.0</td><td style = \"text-align: right;\">46731.4</td><td style = \"text-align: left;\">Cheese, cheddar</td><td style = \"text-align: right;\">0.0</td><td style = \"text-align: right;\">100</td><td style = \"text-align: right;\">4.04</td><td style = \"text-align: right;\">0.33</td><td style = \"text-align: right;\">0.19</td><td style = \"text-align: right;\">0.99</td><td style = \"text-align: right;\">6.53</td><td style = \"text-align: right;\">0.165</td><td style = \"text-align: right;\">0.27</td><td style = \"text-align: right;\">0.0</td><td style = \"text-align: right;\">0.00059</td><td style = \"text-align: right;\">0.0041</td><td style = \"text-align: right;\">0.00428</td><td style = \"text-align: right;\">0.00029</td><td style = \"text-align: right;\">12.42</td><td style = \"text-align: right;\">3.3</td><td style = \"text-align: right;\">0.0</td><td style = \"text-align: right;\">0.85</td><td style = \"text-align: right;\">0.0</td><td style = \"text-align: right;\">0.0</td><td style = \"text-align: right;\">0.0</td><td style = \"text-align: right;\">0.011</td><td style = \"text-align: right;\">0.00066</td><td style = \"text-align: right;\">0.0</td><td style = \"text-align: right;\">0.24</td><td style = \"text-align: right;\">0.0071</td><td style = \"text-align: right;\">0.0071</td><td style = \"text-align: right;\">0.024</td><td style = \"text-align: right;\">7.1</td><td style = \"text-align: right;\">0.0003</td><td style = \"text-align: right;\">0.0014</td><td style = \"text-align: right;\">0.27</td><td style = \"text-align: right;\">0.00027</td><td style = \"text-align: right;\">4.55</td><td style = \"text-align: right;\">0.76</td><td style = \"text-align: right;\">0.285</td><td style = \"text-align: right;\">0.0364</td><td style = \"text-align: right;\">0.2287</td><td style = \"text-align: right;\">0.00751</td><td style = \"text-align: right;\">0.00547</td><td style = \"text-align: right;\">0.01734</td><td style = \"text-align: right;\">0.00123</td><td style = \"text-align: right;\">0.04735</td><td style = \"text-align: right;\">0.00547</td><td style = \"text-align: right;\">0.00547</td><td style = \"text-align: right;\">0.0</td><td style = \"text-align: right;\">0.01206</td><td style = \"text-align: right;\">0.01939</td><td style = \"text-align: right;\">0.01025</td><td style = \"text-align: right;\">0.00547</td><td style = \"text-align: right;\">0.01074</td><td style = \"text-align: right;\">0.02497</td><td style = \"text-align: right;\">0.0078</td><td style = \"text-align: right;\">0.01044</td><td style = \"text-align: right;\">0.00547</td><td style = \"text-align: right;\">0.01108</td><td style = \"text-align: right;\">0.01404</td><td style = \"text-align: right;\">0.0309</td><td style = \"text-align: right;\">0.0</td><td style = \"text-align: right;\">0.0048</td><td style = \"text-align: right;\">0.0</td><td style = \"text-align: right;\">0.001</td><td style = \"text-align: right;\">0.0026</td><td style = \"text-align: right;\">0.0012</td><td style = \"text-align: right;\">0.0</td><td style = \"text-align: right;\">0.0</td><td style = \"text-align: right;\">0.3331</td><td style = \"text-align: right;\">0.18867</td><td style = \"text-align: right;\">0.09246</td><td style = \"text-align: right;\">0.01421</td><td style = \"text-align: right;\">0.99</td><td style = \"text-align: right;\">0.0</td><td style = \"text-align: right;\">0.0371</td><td style = \"text-align: right;\">0.0</td><td style = \"text-align: right;\">0.0</td><td style = \"text-align: right;\">0.3702</td></tr><tr><td class = \"rowNumber\" style = \"font-weight: bold; text-align: right;\">41</td><td style = \"text-align: left;\">Eggs</td><td style = \"text-align: right;\">0.0007</td><td style = \"text-align: right;\">0.0022</td><td style = \"text-align: right;\">0.0013</td><td style = \"text-align: right;\">0.0</td><td style = \"text-align: right;\">0.0001</td><td style = \"text-align: right;\">0.0002</td><td style = \"text-align: right;\">0.0</td><td style = \"text-align: right;\">0.0045</td><td style = \"text-align: right;\">15.1111</td><td style = \"text-align: right;\">21.76</td><td style = \"text-align: right;\">19.6107</td><td style = \"text-align: right;\">401.181</td><td style = \"text-align: right;\">520.638</td><td style = \"text-align: right;\">577.7</td><td style = \"text-align: right;\">3.24306</td><td style = \"text-align: right;\">4.20872</td><td style = \"text-align: right;\">4.35417</td><td style = \"text-align: right;\">6.27</td><td style = \"text-align: right;\">5.65068</td><td style = \"text-align: right;\">17982.7</td><td style = \"text-align: right;\">16206.5</td><td style = \"text-align: right;\">12488.0</td><td style = \"text-align: left;\">Eggs, frozen mixture, scrambled</td><td style = \"text-align: right;\">0.0</td><td style = \"text-align: right;\">100</td><td style = \"text-align: right;\">1.31</td><td style = \"text-align: right;\">0.056</td><td style = \"text-align: right;\">0.011</td><td style = \"text-align: right;\">2.77</td><td style = \"text-align: right;\">1.62</td><td style = \"text-align: right;\">2.557</td><td style = \"text-align: right;\">0.17</td><td style = \"text-align: right;\">0.0</td><td style = \"text-align: right;\">0.0009</td><td style = \"text-align: right;\">0.0</td><td style = \"text-align: right;\">0.003</td><td style = \"text-align: right;\">0.0001</td><td style = \"text-align: right;\">4.1</td><td style = \"text-align: right;\">0.21</td><td style = \"text-align: right;\">0.0</td><td style = \"text-align: right;\">2.46</td><td style = \"text-align: right;\">0.0</td><td style = \"text-align: right;\">0.0</td><td style = \"text-align: right;\">0.0</td><td style = \"text-align: right;\">0.0017</td><td style = \"text-align: right;\">0.0001</td><td style = \"text-align: right;\">0.0</td><td style = \"text-align: right;\">0.72</td><td style = \"text-align: right;\">0.0084</td><td style = \"text-align: right;\">0.0084</td><td style = \"text-align: right;\">0.018</td><td style = \"text-align: right;\">0.17</td><td style = \"text-align: right;\">0.0003</td><td style = \"text-align: right;\">0.0023</td><td style = \"text-align: right;\">0.1</td><td style = \"text-align: right;\">0.0</td><td style = \"text-align: right;\">0.3</td><td style = \"text-align: right;\">1.47</td><td style = \"text-align: right;\">0.229</td><td style = \"text-align: right;\">0.0014</td><td style = \"text-align: right;\">0.131</td><td style = \"text-align: right;\">0.0</td><td style = \"text-align: right;\">0.0</td><td style = \"text-align: right;\">0.0</td><td style = \"text-align: right;\">0.0</td><td style = \"text-align: right;\">0.0</td><td style = \"text-align: right;\">0.0</td><td style = \"text-align: right;\">0.0</td><td style = \"text-align: right;\">0.0</td><td style = \"text-align: right;\">0.0</td><td style = \"text-align: right;\">0.0</td><td style = \"text-align: right;\">0.0</td><td style = \"text-align: right;\">0.0</td><td style = \"text-align: right;\">0.0</td><td style = \"text-align: right;\">0.0</td><td style = \"text-align: right;\">0.0</td><td style = \"text-align: right;\">0.0</td><td style = \"text-align: right;\">0.0</td><td style = \"text-align: right;\">0.0</td><td style = \"text-align: right;\">0.0</td><td style = \"text-align: right;\">0.075</td><td style = \"text-align: right;\">0.0</td><td style = \"text-align: right;\">0.075</td><td style = \"text-align: right;\">0.0</td><td style = \"text-align: right;\">0.0</td><td style = \"text-align: right;\">0.0</td><td style = \"text-align: right;\">0.0</td><td style = \"text-align: right;\">0.0</td><td style = \"text-align: right;\">0.0</td><td style = \"text-align: right;\">0.056</td><td style = \"text-align: right;\">0.01052</td><td style = \"text-align: right;\">0.02339</td><td style = \"text-align: right;\">0.01778</td><td style = \"text-align: right;\">2.77</td><td style = \"text-align: right;\">0.0</td><td style = \"text-align: right;\">0.011</td><td style = \"text-align: right;\">0.0</td><td style = \"text-align: right;\">0.0</td><td style = \"text-align: right;\">0.727</td></tr><tr><td class = \"rowNumber\" style = \"font-weight: bold; text-align: right;\">42</td><td style = \"text-align: left;\">Fish (farmed)</td><td style = \"text-align: right;\">0.0005</td><td style = \"text-align: right;\">0.0008</td><td style = \"text-align: right;\">0.0036</td><td style = \"text-align: right;\">0.0</td><td style = \"text-align: right;\">0.0001</td><td style = \"text-align: right;\">0.0001</td><td style = \"text-align: right;\">0.0</td><td style = \"text-align: right;\">0.0051</td><td style = \"text-align: right;\">131.352</td><td style = \"text-align: right;\">235.12</td><td style = \"text-align: right;\">103.1</td><td style = \"text-align: right;\">2062.18</td><td style = \"text-align: right;\">1618.64</td><td style = \"text-align: right;\">3691.3</td><td style = \"text-align: right;\">7.61453</td><td style = \"text-align: right;\">5.97676</td><td style = \"text-align: right;\">4.69832</td><td style = \"text-align: right;\">8.41</td><td style = \"text-align: right;\">3.68779</td><td style = \"text-align: right;\">41572.2</td><td style = \"text-align: right;\">18229.4</td><td style = \"text-align: right;\">23224.7</td><td style = \"text-align: left;\">Fish, raw, haddock</td><td style = \"text-align: right;\">0.0</td><td style = \"text-align: right;\">100</td><td style = \"text-align: right;\">0.74</td><td style = \"text-align: right;\">0.005</td><td style = \"text-align: right;\">0.001</td><td style = \"text-align: right;\">0.54</td><td style = \"text-align: right;\">2.13</td><td style = \"text-align: right;\">0.65</td><td style = \"text-align: right;\">0.12</td><td style = \"text-align: right;\">0.0</td><td style = \"text-align: right;\">0.03363</td><td style = \"text-align: right;\">0.00403</td><td style = \"text-align: right;\">0.00057</td><td style = \"text-align: right;\">0.0002</td><td style = \"text-align: right;\">0.57</td><td style = \"text-align: right;\">0.17</td><td style = \"text-align: right;\">0.0</td><td style = \"text-align: right;\">0.0</td><td style = \"text-align: right;\">0.0</td><td style = \"text-align: right;\">0.0</td><td style = \"text-align: right;\">0.0</td><td style = \"text-align: right;\">0.0183</td><td style = \"text-align: right;\">0.00281</td><td style = \"text-align: right;\">0.0</td><td style = \"text-align: right;\">0.18</td><td style = \"text-align: right;\">0.0045</td><td style = \"text-align: right;\">0.0045</td><td style = \"text-align: right;\">0.001</td><td style = \"text-align: right;\">0.11</td><td style = \"text-align: right;\">0.00021</td><td style = \"text-align: right;\">0.0017</td><td style = \"text-align: right;\">0.21</td><td style = \"text-align: right;\">0.00011</td><td style = \"text-align: right;\">2.27</td><td style = \"text-align: right;\">2.86</td><td style = \"text-align: right;\">0.259</td><td style = \"text-align: right;\">0.0032</td><td style = \"text-align: right;\">0.1632</td><td style = \"text-align: right;\">0.01143</td><td style = \"text-align: right;\">0.01131</td><td style = \"text-align: right;\">0.01936</td><td style = \"text-align: right;\">0.00203</td><td style = \"text-align: right;\">0.02822</td><td style = \"text-align: right;\">0.00908</td><td style = \"text-align: right;\">0.00557</td><td style = \"text-align: right;\">0.0</td><td style = \"text-align: right;\">0.00871</td><td style = \"text-align: right;\">0.01537</td><td style = \"text-align: right;\">0.01736</td><td style = \"text-align: right;\">0.0056</td><td style = \"text-align: right;\">0.00738</td><td style = \"text-align: right;\">0.00669</td><td style = \"text-align: right;\">0.00771</td><td style = \"text-align: right;\">0.00829</td><td style = \"text-align: right;\">0.00212</td><td style = \"text-align: right;\">0.00638</td><td style = \"text-align: right;\">0.00974</td><td style = \"text-align: right;\">0.0</td><td style = \"text-align: right;\">0.0</td><td style = \"text-align: right;\">0.0</td><td style = \"text-align: right;\">0.0</td><td style = \"text-align: right;\">0.0</td><td style = \"text-align: right;\">0.0</td><td style = \"text-align: right;\">0.0</td><td style = \"text-align: right;\">0.0</td><td style = \"text-align: right;\">0.0</td><td style = \"text-align: right;\">0.0045</td><td style = \"text-align: right;\">0.00091</td><td style = \"text-align: right;\">0.00061</td><td style = \"text-align: right;\">0.00166</td><td style = \"text-align: right;\">0.54</td><td style = \"text-align: right;\">0.0</td><td style = \"text-align: right;\">0.0128</td><td style = \"text-align: right;\">0.0</td><td style = \"text-align: right;\">0.0</td><td style = \"text-align: right;\">0.8338</td></tr><tr><td class = \"rowNumber\" style = \"font-weight: bold; text-align: right;\">43</td><td style = \"text-align: left;\">Shrimps (farmed)</td><td style = \"text-align: right;\">0.0002</td><td style = \"text-align: right;\">0.0025</td><td style = \"text-align: right;\">0.0084</td><td style = \"text-align: right;\">0.0</td><td style = \"text-align: right;\">0.0002</td><td style = \"text-align: right;\">0.0003</td><td style = \"text-align: right;\">0.0002</td><td style = \"text-align: right;\">0.0118</td><td style = \"text-align: right;\">0.0</td><td style = \"text-align: right;\">0.0</td><td style = \"text-align: right;\">0.0</td><td style = \"text-align: right;\">0.0</td><td style = \"text-align: right;\">0.0</td><td style = \"text-align: right;\">0.0</td><td style = \"text-align: right;\">0.0</td><td style = \"text-align: right;\">0.0</td><td style = \"text-align: right;\">0.0</td><td style = \"text-align: right;\">0.0</td><td style = \"text-align: right;\">0.0</td><td style = \"text-align: right;\">0.0</td><td style = \"text-align: right;\">0.0</td><td style = \"text-align: right;\">0.0</td><td style = \"text-align: left;\">Crustaceans, made from surimi, imitation, mixed species, shrimp</td><td style = \"text-align: right;\">0.0</td><td style = \"text-align: right;\">100</td><td style = \"text-align: right;\">1.01</td><td style = \"text-align: right;\">0.015</td><td style = \"text-align: right;\">0.003</td><td style = \"text-align: right;\">0.36</td><td style = \"text-align: right;\">7.05</td><td style = \"text-align: right;\">0.0</td><td style = \"text-align: right;\">0.02</td><td style = \"text-align: right;\">0.0</td><td style = \"text-align: right;\">0.0017</td><td style = \"text-align: right;\">0.0007</td><td style = \"text-align: right;\">0.00034</td><td style = \"text-align: right;\">0.00024</td><td style = \"text-align: right;\">0.66</td><td style = \"text-align: right;\">0.2</td><td style = \"text-align: right;\">0.0</td><td style = \"text-align: right;\">0.0</td><td style = \"text-align: right;\">0.0</td><td style = \"text-align: right;\">0.0</td><td style = \"text-align: right;\">0.0</td><td style = \"text-align: right;\">0.016</td><td style = \"text-align: right;\">0.0003</td><td style = \"text-align: right;\">0.0</td><td style = \"text-align: right;\">0.0</td><td style = \"text-align: right;\">0.0</td><td style = \"text-align: right;\">0.0</td><td style = \"text-align: right;\">0.0</td><td style = \"text-align: right;\">0.19</td><td style = \"text-align: right;\">0.00032</td><td style = \"text-align: right;\">0.006</td><td style = \"text-align: right;\">0.43</td><td style = \"text-align: right;\">0.00011</td><td style = \"text-align: right;\">2.82</td><td style = \"text-align: right;\">0.89</td><td style = \"text-align: right;\">0.229</td><td style = \"text-align: right;\">0.0033</td><td style = \"text-align: right;\">0.1239</td><td style = \"text-align: right;\">0.00727</td><td style = \"text-align: right;\">0.00823</td><td style = \"text-align: right;\">0.01239</td><td style = \"text-align: right;\">0.00133</td><td style = \"text-align: right;\">0.01956</td><td style = \"text-align: right;\">0.0048</td><td style = \"text-align: right;\">0.00285</td><td style = \"text-align: right;\">0.0</td><td style = \"text-align: right;\">0.00579</td><td style = \"text-align: right;\">0.00981</td><td style = \"text-align: right;\">0.01132</td><td style = \"text-align: right;\">0.0042</td><td style = \"text-align: right;\">0.00486</td><td style = \"text-align: right;\">0.00462</td><td style = \"text-align: right;\">0.00541</td><td style = \"text-align: right;\">0.00599</td><td style = \"text-align: right;\">0.00075</td><td style = \"text-align: right;\">0.00499</td><td style = \"text-align: right;\">0.00628</td><td style = \"text-align: right;\">0.0913</td><td style = \"text-align: right;\">0.0</td><td style = \"text-align: right;\">0.0</td><td style = \"text-align: right;\">0.0</td><td style = \"text-align: right;\">0.0</td><td style = \"text-align: right;\">0.0</td><td style = \"text-align: right;\">0.0</td><td style = \"text-align: right;\">0.0</td><td style = \"text-align: right;\">0.0</td><td style = \"text-align: right;\">0.0147</td><td style = \"text-align: right;\">0.0029</td><td style = \"text-align: right;\">0.0022</td><td style = \"text-align: right;\">0.0075</td><td style = \"text-align: right;\">0.36</td><td style = \"text-align: right;\">0.0</td><td style = \"text-align: right;\">0.0211</td><td style = \"text-align: right;\">0.0</td><td style = \"text-align: right;\">0.0</td><td style = \"text-align: right;\">0.7491</td></tr></tbody></table></div>"
      ],
      "text/latex": [
       "\\begin{tabular}{r|ccccccc}\n",
       "\t& Food product & Land use change & Animal Feed & Farm & Processing & Transport & \\\\\n",
       "\t\\hline\n",
       "\t& String31 & Float64 & Float64 & Float64 & Float64 & Float64 & \\\\\n",
       "\t\\hline\n",
       "\t1 & Wheat \\& Rye (Bread) & 0.0001 & 0.0 & 0.0008 & 0.0002 & 0.0001 & $\\dots$ \\\\\n",
       "\t2 & Maize (Meal) & 0.0003 & 0.0 & 0.0005 & 0.0001 & 0.0001 & $\\dots$ \\\\\n",
       "\t3 & Barley (Beer) & 0.0 & 0.0 & 0.0002 & 0.0001 & 0.0 & $\\dots$ \\\\\n",
       "\t4 & Oats & 0.0 & 0.0 & 0.0014 & 0.0 & 0.0001 & $\\dots$ \\\\\n",
       "\t5 & Rice & 0.0 & 0.0 & 0.0036 & 0.0001 & 0.0001 & $\\dots$ \\\\\n",
       "\t6 & Potatoes & 0.0 & 0.0 & 0.0002 & 0.0 & 0.0001 & $\\dots$ \\\\\n",
       "\t7 & Cassava & 0.0006 & 0.0 & 0.0002 & 0.0 & 0.0001 & $\\dots$ \\\\\n",
       "\t8 & Cane Sugar & 0.0012 & 0.0 & 0.0005 & 0.0 & 0.0008 & $\\dots$ \\\\\n",
       "\t9 & Beet Sugar & 0.0 & 0.0 & 0.0005 & 0.0002 & 0.0006 & $\\dots$ \\\\\n",
       "\t10 & Beans & 0.0 & 0.0 & 0.0011 & 0.0 & 0.0001 & $\\dots$ \\\\\n",
       "\t11 & Peas & 0.0 & 0.0 & 0.0007 & 0.0 & 0.0001 & $\\dots$ \\\\\n",
       "\t12 & Nuts & -0.0021 & 0.0 & 0.0021 & 0.0 & 0.0001 & $\\dots$ \\\\\n",
       "\t13 & Peanuts & 0.0004 & 0.0 & 0.0014 & 0.0004 & 0.0001 & $\\dots$ \\\\\n",
       "\t14 & Soymilk & 0.0002 & 0.0 & 0.0001 & 0.0002 & 0.0001 & $\\dots$ \\\\\n",
       "\t15 & Tofu & 0.001 & 0.0 & 0.0005 & 0.0008 & 0.0002 & $\\dots$ \\\\\n",
       "\t16 & Soybean Oil & 0.0031 & 0.0 & 0.0015 & 0.0003 & 0.0003 & $\\dots$ \\\\\n",
       "\t17 & Palm Oil & 0.0031 & 0.0 & 0.0021 & 0.0013 & 0.0002 & $\\dots$ \\\\\n",
       "\t18 & Sunflower Oil & 0.0001 & 0.0 & 0.0021 & 0.0002 & 0.0002 & $\\dots$ \\\\\n",
       "\t19 & Rapeseed Oil & 0.0002 & 0.0 & 0.0023 & 0.0002 & 0.0002 & $\\dots$ \\\\\n",
       "\t20 & Olive Oil & -0.0004 & 0.0 & 0.0043 & 0.0007 & 0.0005 & $\\dots$ \\\\\n",
       "\t21 & Tomatoes & 0.0004 & 0.0 & 0.0007 & 0.0 & 0.0002 & $\\dots$ \\\\\n",
       "\t22 & Onions \\& Leeks & 0.0 & 0.0 & 0.0002 & 0.0 & 0.0001 & $\\dots$ \\\\\n",
       "\t23 & Turnips & 0.0 & 0.0 & 0.0002 & 0.0 & 0.0001 & $\\dots$ \\\\\n",
       "\t24 & Cabbage & 0.0 & 0.0 & 0.0003 & 0.0 & 0.0001 & $\\dots$ \\\\\n",
       "\t25 & Other Vegetables & 0.0 & 0.0 & 0.0002 & 0.0001 & 0.0002 & $\\dots$ \\\\\n",
       "\t26 & Mandarin Orange & -0.0001 & 0.0 & 0.0003 & 0.0 & 0.0001 & $\\dots$ \\\\\n",
       "\t27 & Bananas & 0.0 & 0.0 & 0.0003 & 0.0001 & 0.0003 & $\\dots$ \\\\\n",
       "\t28 & Apples & 0.0 & 0.0 & 0.0002 & 0.0 & 0.0001 & $\\dots$ \\\\\n",
       "\t29 & Berries \\& Grapes & 0.0 & 0.0 & 0.0007 & 0.0 & 0.0002 & $\\dots$ \\\\\n",
       "\t30 & Wine & -0.0001 & 0.0 & 0.0006 & 0.0001 & 0.0001 & $\\dots$ \\\\\n",
       "\t$\\dots$ & $\\dots$ & $\\dots$ & $\\dots$ & $\\dots$ & $\\dots$ & $\\dots$ &  \\\\\n",
       "\\end{tabular}\n"
      ],
      "text/plain": [
       "\u001b[1m43×100 DataFrame\u001b[0m\n",
       "\u001b[1m Row \u001b[0m│\u001b[1m Food product        \u001b[0m\u001b[1m Land use change \u001b[0m\u001b[1m Animal Feed \u001b[0m\u001b[1m Farm    \u001b[0m\u001b[1m Processing \u001b[0m\u001b[1m\u001b[0m ⋯\n",
       "     │\u001b[90m String31            \u001b[0m\u001b[90m Float64         \u001b[0m\u001b[90m Float64     \u001b[0m\u001b[90m Float64 \u001b[0m\u001b[90m Float64    \u001b[0m\u001b[90m\u001b[0m ⋯\n",
       "─────┼──────────────────────────────────────────────────────────────────────────\n",
       "   1 │ Wheat & Rye (Bread)           0.0001       0.0      0.0008      0.0002  ⋯\n",
       "   2 │ Maize (Meal)                  0.0003       0.0      0.0005      0.0001\n",
       "   3 │ Barley (Beer)                 0.0          0.0      0.0002      0.0001\n",
       "   4 │ Oats                          0.0          0.0      0.0014      0.0\n",
       "   5 │ Rice                          0.0          0.0      0.0036      0.0001  ⋯\n",
       "   6 │ Potatoes                      0.0          0.0      0.0002      0.0\n",
       "   7 │ Cassava                       0.0006       0.0      0.0002      0.0\n",
       "   8 │ Cane Sugar                    0.0012       0.0      0.0005      0.0\n",
       "   9 │ Beet Sugar                    0.0          0.0      0.0005      0.0002  ⋯\n",
       "  10 │ Beans                         0.0          0.0      0.0011      0.0\n",
       "  11 │ Peas                          0.0          0.0      0.0007      0.0\n",
       "  ⋮  │          ⋮                  ⋮              ⋮          ⋮         ⋮       ⋱\n",
       "  34 │ Beef (beef herd)              0.0163       0.0019   0.0394      0.0013\n",
       "  35 │ Beef (dairy herd)             0.0009       0.0025   0.0157      0.0011  ⋯\n",
       "  36 │ Lamb & Mutton                 0.0005       0.0024   0.0195      0.0011\n",
       "  37 │ Pork                          0.0015       0.0029   0.0017      0.0003\n",
       "  38 │ Chicken Meat                  0.0025       0.0018   0.0007      0.0004\n",
       "  39 │ Milk                          0.0005       0.0002   0.0015      0.0001  ⋯\n",
       "  40 │ Cheese                        0.0045       0.0023   0.0131      0.0007\n",
       "  41 │ Eggs                          0.0007       0.0022   0.0013      0.0\n",
       "  42 │ Fish (farmed)                 0.0005       0.0008   0.0036      0.0\n",
       "  43 │ Shrimps (farmed)              0.0002       0.0025   0.0084      0.0     ⋯\n",
       "\u001b[36m                                                  95 columns and 22 rows omitted\u001b[0m"
      ]
     },
     "execution_count": 3,
     "metadata": {},
     "output_type": "execute_result"
    }
   ],
   "source": [
    "data"
   ]
  },
  {
   "cell_type": "code",
   "execution_count": 4,
   "id": "56188cc2",
   "metadata": {},
   "outputs": [
    {
     "name": "stdout",
     "output_type": "stream",
     "text": [
      "Missing values in water: 0\n",
      "Missing values in zink: 0\n",
      "Missing values in glycine: 0\n",
      "Missing values in histidine: 0\n",
      "Missing values in serine: 0\n",
      "Missing values in fatty_acids_total_trans: 0\n",
      "Missing values in Freshwater withdrawals per 100g protein (liters per 100g protein): 0\n",
      "Missing values in carotene_beta: 0\n",
      "Missing values in serving_size: 0\n",
      "Missing values in cryptoxanthin_beta: 0\n",
      "Missing values in glucose: 0\n",
      "Missing values in Freshwater withdrawals per 1000kcal (liters per 1000kcal): 0\n",
      "Missing values in irom: 0\n",
      "Missing values in vitamin_d: 0\n",
      "Missing values in arginine: 0\n",
      "Missing values in galactose: 0\n",
      "Missing values in niacin: 0\n",
      "Missing values in protein: 0\n",
      "Missing values in vitamin_a_rae: 0\n",
      "Missing values in Land use change: 0\n",
      "Missing values in copper: 0\n",
      "Missing values in magnesium: 0\n",
      "Missing values in cystine: 0\n",
      "Missing values in carbohydrate: 0\n",
      "Missing values in pantothenic_acid: 0\n",
      "Missing values in name: 0\n",
      "Missing values in Freshwater withdrawals per kilogram (liters per kilogram): 0\n",
      "Missing values in sucrose: 0\n",
      "Missing values in folate: 0\n",
      "Missing values in hydroxyproline: 0\n",
      "Missing values in monounsaturated_fatty_acids: 0\n",
      "Missing values in Scarcity-weighted water use per kilogram (liters per kilogram): 0\n",
      "Missing values in vitamin_k: 0\n",
      "Missing values in methionine: 0\n",
      "Missing values in glutamic_acid: 0\n",
      "Missing values in threonine: 0\n",
      "Missing values in calcium: 0\n",
      "Missing values in fiber: 0\n",
      "Missing values in fat: 0\n",
      "Missing values in isoleucine: 0\n",
      "Missing values in selenium: 0\n",
      "Missing values in caffeine: 0\n",
      "Missing values in saturated_fatty_acids: 0\n",
      "Missing values in polyunsaturated_fatty_acids: 0\n",
      "Missing values in Transport: 0\n",
      "Missing values in Matched_food_product: 0\n",
      "Missing values in Eutrophying emissions per kilogram (gPO₄eq per kilogram): 0\n",
      "Missing values in carotene_alpha: 0\n",
      "Missing values in lucopene: 0\n",
      "Missing values in phenylalanine: 0\n",
      "Missing values in theobromine: 0\n",
      "Missing values in Processing: 0\n",
      "Missing values in cholesterol: 0\n",
      "Missing values in calories: 0\n",
      "Missing values in riboflavin: 0\n",
      "Missing values in valine: 0\n",
      "Missing values in total_fat: 0\n",
      "Missing values in vitamin_b6: 0\n",
      "Missing values in tocopherol_alpha: 0\n",
      "Missing values in phosphorous: 0\n",
      "Missing values in Food product: 0\n",
      "Missing values in sodium: 0\n",
      "Missing values in Eutrophying emissions per 100g protein (gPO₄eq per 100 grams protein): 0\n",
      "Missing values in alcohol: 0\n",
      "Missing values in Land use per kilogram (m² per kilogram): 0\n",
      "Missing values in Scarcity-weighted water use per 100g protein (liters per 100g protein): 0\n",
      "Missing values in thiamin: 0\n",
      "Missing values in lutein_zeaxanthin: 0\n",
      "Missing values in aspartic_acid: 0\n",
      "Missing values in proline: 0\n",
      "Missing values in Retail: 0\n",
      "Missing values in vitamin_b12: 0\n",
      "Missing values in Land use per 100g protein (m² per 100g protein): 0\n",
      "Missing values in Eutrophying emissions per 1000kcal (gPO₄eq per 1000kcal): 0\n",
      "Missing values in lactose: 0\n",
      "Missing values in Packging: 0\n",
      "Missing values in vitamin_a: 0\n",
      "Missing values in fructose: 0\n",
      "Missing values in maltose: 0\n",
      "Missing values in Animal Feed: 0\n",
      "Missing values in Greenhouse gas emissions per 100g protein (kgCO₂eq per 100g protein): 0\n",
      "Missing values in saturated_fat: 0\n",
      "Missing values in choline: 0\n",
      "Missing values in folic_acid: 0\n",
      "Missing values in tryptophan: 0\n",
      "Missing values in ash: 0\n",
      "Missing values in sugars: 0\n",
      "Missing values in Greenhouse gas emissions per 1000kcal (kgCO₂eq per 1000kcal): 0\n",
      "Missing values in vitamin_e: 0\n",
      "Missing values in Total_emissions: 0\n",
      "Missing values in leucine: 0\n",
      "Missing values in vitamin_c: 0\n",
      "Missing values in tyrosine: 0\n",
      "Missing values in Scarcity-weighted water use per 1000kcal (liters per 1000 kilocalories): 0\n",
      "Missing values in alanine: 0\n",
      "Missing values in Farm: 0\n",
      "Missing values in manganese: 0\n",
      "Missing values in Land use per 1000kcal (m² per 1000kcal): 0\n",
      "Missing values in lysine: 0\n",
      "Missing values in potassium: 0\n"
     ]
    }
   ],
   "source": [
    "# Function to count missing values in each column\n",
    "function count_missing_values(df::DataFrame)\n",
    "    missing_counts = Dict{String, Int}()\n",
    "    for col in names(df)\n",
    "        missing_counts[string(col)] = sum(ismissing, df[!, col])\n",
    "    end\n",
    "    return missing_counts\n",
    "end\n",
    "\n",
    "# Count missing values in the DataFrame\n",
    "missing_values = count_missing_values(data)\n",
    "\n",
    "# Print missing value counts for each column\n",
    "for (col, count) in missing_values\n",
    "    println(\"Missing values in $col: $count\")\n",
    "end"
   ]
  },
  {
   "cell_type": "markdown",
   "id": "869602c8",
   "metadata": {},
   "source": [
    "## Food data"
   ]
  },
  {
   "cell_type": "code",
   "execution_count": 5,
   "id": "8d3918da",
   "metadata": {},
   "outputs": [],
   "source": [
    "food_product = data[!, \"Food product\"];"
   ]
  },
  {
   "cell_type": "code",
   "execution_count": 6,
   "id": "1d17a9e5",
   "metadata": {},
   "outputs": [],
   "source": [
    "foods = size(food_product, 1);"
   ]
  },
  {
   "cell_type": "markdown",
   "id": "c80dbf18",
   "metadata": {},
   "source": [
    "### Emissions data"
   ]
  },
  {
   "cell_type": "code",
   "execution_count": 7,
   "id": "dcc1f7a6",
   "metadata": {},
   "outputs": [],
   "source": [
    "land_use_change = data[!, \"Land use change\"]\n",
    "animal_feed = data[!, \"Animal Feed\"]\n",
    "farm = data[!, \"Farm\"]\n",
    "processing = data[!, \"Processing\"]\n",
    "transport = data[!, \"Transport\"]\n",
    "packaging = data[!, \"Packging\"]\n",
    "retail = data[!, \"Retail\"]\n",
    "total_emissions = data[!, \"Total_emissions\"];"
   ]
  },
  {
   "cell_type": "markdown",
   "id": "8c0a7bdc",
   "metadata": {},
   "source": [
    "### Nutritional data"
   ]
  },
  {
   "cell_type": "code",
   "execution_count": 8,
   "id": "1b9920fc",
   "metadata": {},
   "outputs": [],
   "source": [
    "calories = data[!, \"calories\"];"
   ]
  },
  {
   "cell_type": "markdown",
   "id": "4ca8c118",
   "metadata": {},
   "source": [
    "#### Macro nutrients"
   ]
  },
  {
   "cell_type": "code",
   "execution_count": 9,
   "id": "492e81ba",
   "metadata": {},
   "outputs": [],
   "source": [
    "protein = data[!, \"protein\"]\n",
    "total_fat = data[!, \"total_fat\"]\n",
    "carbohydrate = data[!, \"carbohydrate\"]\n",
    "fiber = data[!, \"fiber\"]\n",
    "sugars = data[!, \"sugars\"]\n",
    "saturated_fatty_acids = data[!, \"saturated_fatty_acids\"]\n",
    "monounsaturated_fatty_acids = data[!, \"monounsaturated_fatty_acids\"]\n",
    "polyunsaturated_fatty_acids = data[!, \"polyunsaturated_fatty_acids\"]\n",
    "fatty_acids_total_trans = data[!, \"fatty_acids_total_trans\"];"
   ]
  },
  {
   "cell_type": "markdown",
   "id": "361f456c",
   "metadata": {},
   "source": [
    "#### Macro nutrients"
   ]
  },
  {
   "cell_type": "code",
   "execution_count": 10,
   "id": "9094742c",
   "metadata": {},
   "outputs": [],
   "source": [
    "vitamin_a = data[!, \"vitamin_a\"]\n",
    "vitamin_b6 = data[!, \"vitamin_b6\"]\n",
    "vitamin_b12 = data[!, \"vitamin_b12\"]\n",
    "vitamin_c = data[!, \"vitamin_c\"]\n",
    "vitamin_d = data[!, \"vitamin_d\"]\n",
    "vitamin_e = data[!, \"vitamin_e\"]\n",
    "vitamin_k = data[!, \"vitamin_k\"]\n",
    "thiamin = data[!, \"thiamin\"]\n",
    "riboflavin = data[!, \"riboflavin\"]\n",
    "niacin = data[!, \"niacin\"]\n",
    "folate = data[!, \"folate\"]\n",
    "pantothenic_acid = data[!, \"pantothenic_acid\"]\n",
    "calcium = data[!, \"calcium\"]\n",
    "iron = data[!, \"irom\"]\n",
    "magnesium = data[!, \"magnesium\"]\n",
    "phosphorous = data[!, \"phosphorous\"]\n",
    "potassium = data[!, \"potassium\"]\n",
    "sodium = data[!, \"sodium\"]\n",
    "zinc = data[!, \"zink\"]\n",
    "copper = data[!, \"copper\"]\n",
    "manganese = data[!, \"manganese\"]\n",
    "selenium = data[!, \"selenium\"]\n",
    "choline = data[!, \"choline\"]\n",
    "lutein_zeaxanthin = data[!, \"lutein_zeaxanthin\"]\n",
    "lucopene = data[!, \"lucopene\"]\n",
    "carotene_beta = data[!, \"carotene_beta\"]\n",
    "cryptoxanthin_beta = data[!, \"cryptoxanthin_beta\"]\n",
    "tocopherol_alpha = data[!, \"tocopherol_alpha\"];"
   ]
  },
  {
   "cell_type": "markdown",
   "id": "103690a0",
   "metadata": {},
   "source": [
    "#### Amino Acids"
   ]
  },
  {
   "cell_type": "code",
   "execution_count": 11,
   "id": "64352de5",
   "metadata": {},
   "outputs": [],
   "source": [
    "alanine = data[!, \"alanine\"]\n",
    "arginine = data[!, \"arginine\"]\n",
    "aspartic_acid = data[!, \"aspartic_acid\"]\n",
    "cystine = data[!, \"cystine\"]\n",
    "glutamic_acid = data[!, \"glutamic_acid\"]\n",
    "glycine = data[!, \"glycine\"]\n",
    "histidine = data[!, \"histidine\"]\n",
    "hydroxyproline = data[!, \"hydroxyproline\"]\n",
    "isoleucine = data[!, \"isoleucine\"]\n",
    "leucine = data[!, \"leucine\"]\n",
    "lysine = data[!, \"lysine\"]\n",
    "methionine = data[!, \"methionine\"]\n",
    "phenylalanine = data[!, \"phenylalanine\"]\n",
    "proline = data[!, \"proline\"]\n",
    "serine = data[!, \"serine\"]\n",
    "threonine = data[!, \"threonine\"]\n",
    "tryptophan = data[!, \"tryptophan\"]\n",
    "tyrosine = data[!, \"tyrosine\"]\n",
    "valine = data[!, \"valine\"];"
   ]
  },
  {
   "cell_type": "markdown",
   "id": "a67bd36e",
   "metadata": {},
   "source": [
    "#### Other nutrients"
   ]
  },
  {
   "cell_type": "code",
   "execution_count": 12,
   "id": "eabd49aa",
   "metadata": {},
   "outputs": [],
   "source": [
    "water = data[!, \"water\"]\n",
    "caffeine = data[!, \"caffeine\"]\n",
    "theobromine = data[!, \"theobromine\"]\n",
    "ash = data[!, \"ash\"]\n",
    "alcohol = data[!, \"alcohol\"];"
   ]
  },
  {
   "cell_type": "markdown",
   "id": "e251c1f5",
   "metadata": {},
   "source": [
    "# Creating model"
   ]
  },
  {
   "cell_type": "code",
   "execution_count": 13,
   "id": "f2c036fe",
   "metadata": {},
   "outputs": [
    {
     "name": "stdout",
     "output_type": "stream",
     "text": [
      "Set parameter Username\r\n",
      "Academic license - for non-commercial use only - expires 2024-09-16\r\n"
     ]
    }
   ],
   "source": [
    "model = Model(Gurobi.Optimizer);"
   ]
  },
  {
   "cell_type": "markdown",
   "id": "1aa2c797",
   "metadata": {},
   "source": [
    "## Decision variables"
   ]
  },
  {
   "cell_type": "code",
   "execution_count": 14,
   "id": "c641ea33",
   "metadata": {},
   "outputs": [],
   "source": [
    "@variable(model, x[1:foods] >= 0);"
   ]
  },
  {
   "cell_type": "markdown",
   "id": "f81b49e2",
   "metadata": {},
   "source": [
    "## Objective"
   ]
  },
  {
   "cell_type": "code",
   "execution_count": 15,
   "id": "9828b2d0",
   "metadata": {},
   "outputs": [],
   "source": [
    "# Objective function (minimize total carbon emissions)\n",
    "@objective(model, Min, sum(total_emissions[i] * x[i] for i in 1:foods));"
   ]
  },
  {
   "cell_type": "markdown",
   "id": "dfc1fd7a",
   "metadata": {},
   "source": [
    "## Contraints"
   ]
  },
  {
   "cell_type": "markdown",
   "id": "4a0ee2dd",
   "metadata": {},
   "source": [
    "### Macro nutrient constraints"
   ]
  },
  {
   "cell_type": "code",
   "execution_count": 16,
   "id": "b5ad5ac6",
   "metadata": {
    "scrolled": true
   },
   "outputs": [],
   "source": [
    "@constraint(model, sum(protein[i] * x[i] for i in 1:foods) >= 50)   # Protein minimum 50g\n",
    "@constraint(model, sum(total_fat[i] * x[i] for i in 1:foods) <= 78)       # Fat maximum 78g\n",
    "@constraint(model, sum(carbohydrate[i] * x[i] for i in 1:foods) <= 275); # Carbohydrate maximum 275g"
   ]
  },
  {
   "cell_type": "markdown",
   "id": "c8cead49",
   "metadata": {},
   "source": [
    "### Micro nutrient constraints"
   ]
  },
  {
   "cell_type": "code",
   "execution_count": 37,
   "id": "2f0f2d6e",
   "metadata": {},
   "outputs": [],
   "source": [
    "@constraint(model, sum(calcium[i] * x[i] for i in 1:foods) <= 1300) # Calcium maximum 1300mg\n",
    "@constraint(model, sum(iron[i] * x[i] for i in 1:foods) >= 18)      # Iron minimum 18mg\n",
    "@constraint(model, sum(magnesium[i] * x[i] for i in 1:foods) <= 420) # Magnesium maximum 420mg\n",
    "@constraint(model, sum(phosphorous[i] * x[i] for i in 1:foods) <= 1250) # Phosphorus maximum 1250mg\n",
    "@constraint(model, sum(potassium[i] * x[i] for i in 1:foods) >= 4700) # Potassium minimum 4700mg\n",
    "@constraint(model, sum(sodium[i] * x[i] for i in 1:foods) <= 2300)  # Sodium maximum 2300mg\n",
    "@constraint(model, sum(zinc[i] * x[i] for i in 1:foods) <= 11)      # Zinc maximum 11mg\n",
    "@constraint(model, sum(vitamin_a[i] * x[i] for i in 1:foods) <= 900) # Vitamin A maximum 900mcg RAE\n",
    "@constraint(model, sum(vitamin_c[i] * x[i] for i in 1:foods) >= 90)  # Vitamin C minimum 90mg\n",
    "@constraint(model, sum(vitamin_d[i] * x[i] for i in 1:foods) >= 20)  # Vitamin D minimum 20mcg\n",
    "@constraint(model, sum(vitamin_e[i] * x[i] for i in 1:foods) <= 15)  # Vitamin E maximum 15mg alpha-tocopherol\n",
    "@constraint(model, sum(vitamin_k[i] * x[i] for i in 1:foods) >= 120) # Vitamin K minimum 120mcg\n",
    "@constraint(model, sum(riboflavin[i] * x[i] for i in 1:foods) <= 1.3) # Riboflavin maximum 1.3mg\n",
    "@constraint(model, sum(niacin[i] * x[i] for i in 1:foods) <= 16)    # Niacin maximum 16mg NE\n",
    "@constraint(model, sum(folate[i] * x[i] for i in 1:foods) <= 400)   # Folate maximum 400mcg DFE\n",
    "@constraint(model, sum(vitamin_b12[i] * x[i] for i in 1:foods) >= 2.4) # Vitamin B12 minimum 2.4mcg\n",
    "@constraint(model, sum(vitamin_b6[i] * x[i] for i in 1:foods) <= 1.7) # Vitamin B6 maximum 1.7mg\n",
    "@constraint(model, sum(choline[i] * x[i] for i in 1:foods) <= 550);  # Choline maximum 550mg"
   ]
  },
  {
   "cell_type": "markdown",
   "id": "19558fea",
   "metadata": {},
   "source": [
    "### Other Constraints"
   ]
  },
  {
   "cell_type": "code",
   "execution_count": 18,
   "id": "43a27205",
   "metadata": {},
   "outputs": [],
   "source": [
    "@constraint(model, sum(calories[i] * x[i] for i in 1:foods) <= 2500) # Calories maximum at 2500\n",
    "@constraint(model, sum(calories[i] * x[i] for i in 1:foods) >= 2000); # Calories minimum at 2000\n",
    "@constraint(model, sum(alcohol[i] * x[i] for i in 1:foods) <= 0); # No Alcohol"
   ]
  },
  {
   "cell_type": "markdown",
   "id": "a14f7797",
   "metadata": {},
   "source": [
    "## Solving"
   ]
  },
  {
   "cell_type": "code",
   "execution_count": 19,
   "id": "a3b4937b",
   "metadata": {},
   "outputs": [
    {
     "name": "stdout",
     "output_type": "stream",
     "text": [
      "Gurobi Optimizer version 10.0.3 build v10.0.3rc0 (win64)\r\n",
      "\r\n",
      "CPU model: 12th Gen Intel(R) Core(TM) i7-1255U, instruction set [SSE2|AVX|AVX2]\r\n",
      "Thread count: 10 physical cores, 12 logical processors, using up to 12 threads\r\n",
      "\r\n",
      "Optimize a model with 24 rows, 43 columns and 699 nonzeros\r\n",
      "Model fingerprint: 0xc3300283\r\n",
      "Coefficient statistics:\r\n",
      "  Matrix range     [1e-04, 5e+01]\r\n",
      "  Objective range  [2e-04, 6e-02]\r\n",
      "  Bounds range     [0e+00, 0e+00]\r\n",
      "  RHS range        [1e+00, 5e+03]\r\n",
      "Presolve removed 2 rows and 4 columns\r\n",
      "Presolve time: 0.00s\r\n",
      "Presolved: 22 rows, 40 columns, 617 nonzeros\r\n",
      "\r\n",
      "Iteration    Objective       Primal Inf.    Dual Inf.      Time\r\n",
      "       0    0.0000000e+00   6.849500e+02   0.000000e+00      0s\r\n",
      "      31    3.0908327e+00   0.000000e+00   0.000000e+00      0s\r\n",
      "\r\n",
      "Solved in 31 iterations and 0.01 seconds (0.00 work units)\r\n",
      "Optimal objective  3.090832696e+00\r\n",
      "\r\n",
      "User-callback calls 95, time in user-callback 0.00 sec\r\n"
     ]
    }
   ],
   "source": [
    "optimize!(model)"
   ]
  },
  {
   "cell_type": "code",
   "execution_count": 20,
   "id": "d30b7a77",
   "metadata": {},
   "outputs": [
    {
     "name": "stdout",
     "output_type": "stream",
     "text": [
      "Optimal diet: [0.0, 0.0, 0.0, 90.38589517079629, 0.0, 154.03929320428352, 205.10814538179642, 0.0, 0.0, 27.142797477887857, 0.0, 0.0, 0.0, 89.17421309092396, 226.27348394542494, 42.8894260265604, 0.0, 0.0, 0.0, 0.0, 0.0, 0.0, 568.8439343349382, 0.0, 0.0, 0.0, 0.0, 0.0, 231.72695611773585, 0.0, 0.0, 0.0, 0.0, 0.0, 0.0, 0.0, 0.0, 0.0, 436.10486287174024, 0.0, 0.0, 0.0, 0.0]\n",
      "\n",
      "Total emissions: 3.090832696200221\n"
     ]
    }
   ],
   "source": [
    "# Check if the model has a solution\n",
    "if termination_status(model) == MOI.OPTIMAL || termination_status(model) == MOI.LOCALLY_SOLVED\n",
    "    # Retrieve optimal values for decision variables\n",
    "    optimal_diet = value.(x)\n",
    "    # Retrieve the objective function value\n",
    "    total_emissions_optimal = objective_value(model)\n",
    "\n",
    "    # Print the results\n",
    "    println(\"Optimal diet: \", optimal_diet)\n",
    "    println(\"\\nTotal emissions: \", total_emissions_optimal)\n",
    "else\n",
    "    println(\"No optimal solution found. Status: \", termination_status(model))\n",
    "end"
   ]
  },
  {
   "cell_type": "code",
   "execution_count": 25,
   "id": "4df3d38a",
   "metadata": {},
   "outputs": [
    {
     "name": "stdout",
     "output_type": "stream",
     "text": [
      "Optimal diet (grams of food):\n",
      "\n",
      "Oats: 90.38589517079629\n",
      "Potatoes: 154.03929320428352\n",
      "Cassava: 205.10814538179642\n",
      "Beans: 27.142797477887857\n",
      "Soymilk: 89.17421309092396\n",
      "Tofu: 226.27348394542494\n",
      "Soybean Oil: 42.8894260265604\n",
      "Turnips: 568.8439343349382\n",
      "Berries & Grapes: 231.72695611773585\n",
      "Milk: 436.10486287174024\n",
      "\n",
      "Total emissions (kg CO2): 3.090832696200221\n"
     ]
    }
   ],
   "source": [
    "# Extract the 'Food product' column from the DataFrame\n",
    "food_product = data[!, \"Food product\"]\n",
    "\n",
    "# Check if the model has a solution\n",
    "if termination_status(model) == MOI.OPTIMAL || termination_status(model) == MOI.LOCALLY_SOLVED\n",
    "    # Retrieve optimal values for decision variables\n",
    "    optimal_diet = value.(x)\n",
    "    # Retrieve the objective function value\n",
    "    total_emissions = objective_value(model)\n",
    "\n",
    "    # Print the results\n",
    "    println(\"Optimal diet (grams of food):\\n\")\n",
    "    for i in 1:length(optimal_diet)\n",
    "        if optimal_diet[i] > 0\n",
    "            println(food_product[i], \": \", optimal_diet[i])\n",
    "        end\n",
    "    end\n",
    "    println(\"\\nTotal emissions (kg CO2): \", total_emissions)\n",
    "else\n",
    "    println(\"No optimal solution found. Status: \", termination_status(model))\n",
    "end"
   ]
  },
  {
   "cell_type": "code",
   "execution_count": 36,
   "id": "63066574",
   "metadata": {},
   "outputs": [
    {
     "name": "stdout",
     "output_type": "stream",
     "text": [
      "Total nutrients in the optimized diet:\n",
      "\n",
      "calories: 2000.0\n",
      "riboflavin: 1.288\n",
      "valine: 2.302\n",
      "total_fat: 78.0\n",
      "vitamin_b6: 1.7\n",
      "phosphorous: 1250.0\n",
      "tocopherol_alpha: 4.915\n",
      "glycine: 1.508\n",
      "histidine: 1.057\n",
      "fatty_acids_total_trans: 61.055\n",
      "serine: 2.035\n",
      "sodium: 566.393\n",
      "carotene_beta: 183.655\n",
      "cryptoxanthin_beta: 0.0\n",
      "thiamin: 1.622\n",
      "lutein_zeaxanthin: 166.843\n",
      "aspartic_acid: 3.648\n",
      "proline: 2.708\n",
      "vitamin_b12: 2.667\n",
      "vitamin_d: 266.109\n",
      "vitamin_a: 900.0\n",
      "arginine: 2.387\n",
      "niacin: 7.688\n",
      "protein: 75.204\n",
      "magnesium: 396.488\n",
      "copper: 2.285\n",
      "choline: 362.587\n",
      "cystine: 0.655\n",
      "tryptophan: 0.565\n",
      "sugars: 85.889\n",
      "carbohydrate: 275.0\n",
      "pantothenic_acid: 4.636\n",
      "iron: 18.0\n",
      "vitamin_e: 4.915\n",
      "folate: 400.0\n",
      "leucine: 3.207\n",
      "hydroxyproline: 0.0\n",
      "monounsaturated_fatty_acids: 13.514\n",
      "vitamin_c: 196.663\n",
      "zinc: 8.952\n",
      "tyrosine: 1.422\n",
      "vitamin_k: 120.0\n",
      "methionine: 0.826\n",
      "glutamic_acid: 8.473\n",
      "threonine: 1.589\n",
      "fiber: 36.049\n",
      "calcium: 1248.901\n",
      "isoleucine: 1.955\n",
      "selenium: 24.457\n",
      "saturated_fatty_acids: 19.302\n",
      "polyunsaturated_fatty_acids: 28.779\n",
      "alanine: 1.837\n",
      "lucopene: 0.0\n",
      "phenylalanine: 1.94\n",
      "manganese: 8.913\n",
      "lysine: 2.402\n",
      "potassium: 4700.0\n"
     ]
    }
   ],
   "source": [
    "# Calculate total nutrients in the optimized diet\n",
    "\n",
    "total_nutrients = Dict(\n",
    "    \"calories\" => sum(calories[i] * optimal_diet[i] for i in 1:foods),\n",
    "    \"protein\" => sum(protein[i] * optimal_diet[i] for i in 1:foods),\n",
    "    \"total_fat\" => sum(total_fat[i] * optimal_diet[i] for i in 1:foods),\n",
    "    \"carbohydrate\" => sum(carbohydrate[i] * optimal_diet[i] for i in 1:foods),\n",
    "    \"fiber\" => sum(fiber[i] * optimal_diet[i] for i in 1:foods),\n",
    "    \"sugars\" => sum(sugars[i] * optimal_diet[i] for i in 1:foods),\n",
    "    \"saturated_fatty_acids\" => sum(saturated_fatty_acids[i] * optimal_diet[i] for i in 1:foods),\n",
    "    \"monounsaturated_fatty_acids\" => sum(monounsaturated_fatty_acids[i] * optimal_diet[i] for i in 1:foods),\n",
    "    \"polyunsaturated_fatty_acids\" => sum(polyunsaturated_fatty_acids[i] * optimal_diet[i] for i in 1:foods),\n",
    "    \"fatty_acids_total_trans\" => sum(fatty_acids_total_trans[i] * optimal_diet[i] for i in 1:foods),\n",
    "    \"vitamin_a\" => sum(vitamin_a[i] * optimal_diet[i] for i in 1:foods),\n",
    "    \"vitamin_b6\" => sum(vitamin_b6[i] * optimal_diet[i] for i in 1:foods),\n",
    "    \"vitamin_b12\" => sum(vitamin_b12[i] * optimal_diet[i] for i in 1:foods),\n",
    "    \"vitamin_c\" => sum(vitamin_c[i] * optimal_diet[i] for i in 1:foods),\n",
    "    \"vitamin_d\" => sum(vitamin_d[i] * optimal_diet[i] for i in 1:foods),\n",
    "    \"vitamin_e\" => sum(vitamin_e[i] * optimal_diet[i] for i in 1:foods),\n",
    "    \"vitamin_k\" => sum(vitamin_k[i] * optimal_diet[i] for i in 1:foods),\n",
    "    \"thiamin\" => sum(thiamin[i] * optimal_diet[i] for i in 1:foods),\n",
    "    \"riboflavin\" => sum(riboflavin[i] * optimal_diet[i] for i in 1:foods),\n",
    "    \"niacin\" => sum(niacin[i] * optimal_diet[i] for i in 1:foods),\n",
    "    \"folate\" => sum(folate[i] * optimal_diet[i] for i in 1:foods),\n",
    "    \"pantothenic_acid\" => sum(pantothenic_acid[i] * optimal_diet[i] for i in 1:foods),\n",
    "    \"calcium\" => sum(calcium[i] * optimal_diet[i] for i in 1:foods),\n",
    "    \"iron\" => sum(iron[i] * optimal_diet[i] for i in 1:foods),\n",
    "    \"magnesium\" => sum(magnesium[i] * optimal_diet[i] for i in 1:foods),\n",
    "    \"phosphorous\" => sum(phosphorous[i] * optimal_diet[i] for i in 1:foods),\n",
    "    \"potassium\" => sum(potassium[i] * optimal_diet[i] for i in 1:foods),\n",
    "    \"sodium\" => sum(sodium[i] * optimal_diet[i] for i in 1:foods),\n",
    "    \"zinc\" => sum(zinc[i] * optimal_diet[i] for i in 1:foods),\n",
    "    \"copper\" => sum(copper[i] * optimal_diet[i] for i in 1:foods),\n",
    "    \"manganese\" => sum(manganese[i] * optimal_diet[i] for i in 1:foods),\n",
    "    \"selenium\" => sum(selenium[i] * optimal_diet[i] for i in 1:foods),\n",
    "    \"choline\" => sum(choline[i] * optimal_diet[i] for i in 1:foods),\n",
    "    \"lutein_zeaxanthin\" => sum(lutein_zeaxanthin[i] * optimal_diet[i] for i in 1:foods),\n",
    "    \"lucopene\" => sum(lucopene[i] * optimal_diet[i] for i in 1:foods),\n",
    "    \"carotene_beta\" => sum(carotene_beta[i] * optimal_diet[i] for i in 1:foods),\n",
    "    \"cryptoxanthin_beta\" => sum(cryptoxanthin_beta[i] * optimal_diet[i] for i in 1:foods),\n",
    "    \"tocopherol_alpha\" => sum(tocopherol_alpha[i] * optimal_diet[i] for i in 1:foods),\n",
    "    \"alanine\" => sum(alanine[i] * optimal_diet[i] for i in 1:foods),\n",
    "    \"arginine\" => sum(arginine[i] * optimal_diet[i] for i in 1:foods),\n",
    "    \"aspartic_acid\" => sum(aspartic_acid[i] * optimal_diet[i] for i in 1:foods),\n",
    "    \"cystine\" => sum(cystine[i] * optimal_diet[i] for i in 1:foods),\n",
    "    \"glutamic_acid\" => sum(glutamic_acid[i] * optimal_diet[i] for i in 1:foods),\n",
    "    \"glycine\" => sum(glycine[i] * optimal_diet[i] for i in 1:foods),\n",
    "    \"histidine\" => sum(histidine[i] * optimal_diet[i] for i in 1:foods),\n",
    "    \"hydroxyproline\" => sum(hydroxyproline[i] * optimal_diet[i] for i in 1:foods),\n",
    "    \"isoleucine\" => sum(isoleucine[i] * optimal_diet[i] for i in 1:foods),\n",
    "    \"leucine\" => sum(leucine[i] * optimal_diet[i] for i in 1:foods),\n",
    "    \"lysine\" => sum(lysine[i] * optimal_diet[i] for i in 1:foods),\n",
    "    \"methionine\" => sum(methionine[i] * optimal_diet[i] for i in 1:foods),\n",
    "    \"phenylalanine\" => sum(phenylalanine[i] * optimal_diet[i] for i in 1:foods),\n",
    "    \"proline\" => sum(proline[i] * optimal_diet[i] for i in 1:foods),\n",
    "    \"serine\" => sum(serine[i] * optimal_diet[i] for i in 1:foods),\n",
    "    \"threonine\" => sum(threonine[i] * optimal_diet[i] for i in 1:foods),\n",
    "    \"tryptophan\" => sum(tryptophan[i] * optimal_diet[i] for i in 1:foods),\n",
    "    \"tyrosine\" => sum(tyrosine[i] * optimal_diet[i] for i in 1:foods),\n",
    "    \"valine\" => sum(valine[i] * optimal_diet[i] for i in 1:foods)\n",
    ")\n",
    "\n",
    "# Print the total nutrients rounded to three decimal places\n",
    "println(\"Total nutrients in the optimized diet:\\n\")\n",
    "for (nutrient, total) in total_nutrients\n",
    "    println(nutrient, \": \", round(total, digits=3))\n",
    "end"
   ]
  }
 ],
 "metadata": {
  "kernelspec": {
   "display_name": "Julia (IAI) 1.9.2",
   "language": "julia",
   "name": "julia-_iai_-1.9"
  },
  "language_info": {
   "file_extension": ".jl",
   "mimetype": "application/julia",
   "name": "julia",
   "version": "1.9.2"
  }
 },
 "nbformat": 4,
 "nbformat_minor": 5
}
