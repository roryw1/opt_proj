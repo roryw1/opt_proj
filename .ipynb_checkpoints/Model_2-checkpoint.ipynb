{
 "cells": [
  {
   "cell_type": "markdown",
   "id": "a9c5e1c6",
   "metadata": {},
   "source": [
    "# Reading in data"
   ]
  },
  {
   "cell_type": "code",
   "execution_count": 4,
   "id": "1cbfbfe4",
   "metadata": {},
   "outputs": [],
   "source": [
    "using Gurobi, StatsBase, CSV, DataFrames, JuMP, LinearAlgebra, Distributions, Random, GLMNet, Printf"
   ]
  },
  {
   "cell_type": "code",
   "execution_count": 5,
   "id": "ed46d9be-5adf-4814-b60a-372a89549635",
   "metadata": {},
   "outputs": [],
   "source": [
    "data = CSV.read(\"final_df.csv\", DataFrame);"
   ]
  },
  {
   "cell_type": "code",
   "execution_count": 6,
   "id": "44539f70",
   "metadata": {},
   "outputs": [
    {
     "data": {
      "text/html": [
       "<div><div style = \"float: left;\"><span>5×78 DataFrame</span></div><div style = \"clear: both;\"></div></div><div class = \"data-frame\" style = \"overflow-x: scroll;\"><table class = \"data-frame\" style = \"margin-bottom: 6px;\"><thead><tr class = \"header\"><th class = \"rowNumber\" style = \"font-weight: bold; text-align: right;\">Row</th><th style = \"text-align: left;\">food</th><th style = \"text-align: left;\">emissions</th><th style = \"text-align: left;\">price</th><th style = \"text-align: left;\">serving_size</th><th style = \"text-align: left;\">calories</th><th style = \"text-align: left;\">total_fat</th><th style = \"text-align: left;\">saturated_fat</th><th style = \"text-align: left;\">cholesterol</th><th style = \"text-align: left;\">sodium</th><th style = \"text-align: left;\">choline</th><th style = \"text-align: left;\">folate</th><th style = \"text-align: left;\">folic_acid</th><th style = \"text-align: left;\">niacin</th><th style = \"text-align: left;\">pantothenic_acid</th><th style = \"text-align: left;\">riboflavin</th><th style = \"text-align: left;\">thiamin</th><th style = \"text-align: left;\">vitamin_a</th><th style = \"text-align: left;\">vitamin_a_rae</th><th style = \"text-align: left;\">carotene_alpha</th><th style = \"text-align: left;\">carotene_beta</th><th style = \"text-align: left;\">cryptoxanthin_beta</th><th style = \"text-align: left;\">lutein_zeaxanthin</th><th style = \"text-align: left;\">lucopene</th><th style = \"text-align: left;\">vitamin_b12</th><th style = \"text-align: left;\">vitamin_b6</th><th style = \"text-align: left;\">vitamin_c</th><th style = \"text-align: left;\">vitamin_d</th><th style = \"text-align: left;\">vitamin_e</th><th style = \"text-align: left;\">tocopherol_alpha</th><th style = \"text-align: left;\">vitamin_k</th><th style = \"text-align: left;\">calcium</th><th style = \"text-align: left;\">copper</th><th style = \"text-align: left;\">irom</th><th style = \"text-align: left;\">magnesium</th><th style = \"text-align: left;\">manganese</th><th style = \"text-align: left;\">phosphorous</th><th style = \"text-align: left;\">potassium</th><th style = \"text-align: left;\">selenium</th><th style = \"text-align: left;\">zink</th><th style = \"text-align: left;\">protein</th><th style = \"text-align: left;\">alanine</th><th style = \"text-align: left;\">arginine</th><th style = \"text-align: left;\">aspartic_acid</th><th style = \"text-align: left;\">cystine</th><th style = \"text-align: left;\">glutamic_acid</th><th style = \"text-align: left;\">glycine</th><th style = \"text-align: left;\">histidine</th><th style = \"text-align: left;\">hydroxyproline</th><th style = \"text-align: left;\">isoleucine</th><th style = \"text-align: left;\">leucine</th><th style = \"text-align: left;\">lysine</th><th style = \"text-align: left;\">methionine</th><th style = \"text-align: left;\">phenylalanine</th><th style = \"text-align: left;\">proline</th><th style = \"text-align: left;\">serine</th><th style = \"text-align: left;\">threonine</th><th style = \"text-align: left;\">tryptophan</th><th style = \"text-align: left;\">tyrosine</th><th style = \"text-align: left;\">valine</th><th style = \"text-align: left;\">carbohydrate</th><th style = \"text-align: left;\">fiber</th><th style = \"text-align: left;\">sugars</th><th style = \"text-align: left;\">fructose</th><th style = \"text-align: left;\">galactose</th><th style = \"text-align: left;\">glucose</th><th style = \"text-align: left;\">lactose</th><th style = \"text-align: left;\">maltose</th><th style = \"text-align: left;\">sucrose</th><th style = \"text-align: left;\">fat</th><th style = \"text-align: left;\">saturated_fatty_acids</th><th style = \"text-align: left;\">monounsaturated_fatty_acids</th><th style = \"text-align: left;\">polyunsaturated_fatty_acids</th><th style = \"text-align: left;\">fatty_acids_total_trans</th><th style = \"text-align: left;\">alcohol</th><th style = \"text-align: left;\">ash</th><th style = \"text-align: left;\">caffeine</th><th style = \"text-align: left;\">theobromine</th><th style = \"text-align: left;\">water</th></tr><tr class = \"subheader headerLastRow\"><th class = \"rowNumber\" style = \"font-weight: bold; text-align: right;\"></th><th title = \"String31\" style = \"text-align: left;\">String31</th><th title = \"Float64\" style = \"text-align: left;\">Float64</th><th title = \"Float64\" style = \"text-align: left;\">Float64</th><th title = \"Int64\" style = \"text-align: left;\">Int64</th><th title = \"Float64\" style = \"text-align: left;\">Float64</th><th title = \"Float64\" style = \"text-align: left;\">Float64</th><th title = \"Float64\" style = \"text-align: left;\">Float64</th><th title = \"Float64\" style = \"text-align: left;\">Float64</th><th title = \"Float64\" style = \"text-align: left;\">Float64</th><th title = \"Float64\" style = \"text-align: left;\">Float64</th><th title = \"Float64\" style = \"text-align: left;\">Float64</th><th title = \"Float64\" style = \"text-align: left;\">Float64</th><th title = \"Float64\" style = \"text-align: left;\">Float64</th><th title = \"Float64\" style = \"text-align: left;\">Float64</th><th title = \"Float64\" style = \"text-align: left;\">Float64</th><th title = \"Float64\" style = \"text-align: left;\">Float64</th><th title = \"Float64\" style = \"text-align: left;\">Float64</th><th title = \"Float64\" style = \"text-align: left;\">Float64</th><th title = \"Float64\" style = \"text-align: left;\">Float64</th><th title = \"Float64\" style = \"text-align: left;\">Float64</th><th title = \"Float64\" style = \"text-align: left;\">Float64</th><th title = \"Float64\" style = \"text-align: left;\">Float64</th><th title = \"Float64\" style = \"text-align: left;\">Float64</th><th title = \"Float64\" style = \"text-align: left;\">Float64</th><th title = \"Float64\" style = \"text-align: left;\">Float64</th><th title = \"Float64\" style = \"text-align: left;\">Float64</th><th title = \"Float64\" style = \"text-align: left;\">Float64</th><th title = \"Float64\" style = \"text-align: left;\">Float64</th><th title = \"Float64\" style = \"text-align: left;\">Float64</th><th title = \"Float64\" style = \"text-align: left;\">Float64</th><th title = \"Float64\" style = \"text-align: left;\">Float64</th><th title = \"Float64\" style = \"text-align: left;\">Float64</th><th title = \"Float64\" style = \"text-align: left;\">Float64</th><th title = \"Float64\" style = \"text-align: left;\">Float64</th><th title = \"Float64\" style = \"text-align: left;\">Float64</th><th title = \"Float64\" style = \"text-align: left;\">Float64</th><th title = \"Float64\" style = \"text-align: left;\">Float64</th><th title = \"Float64\" style = \"text-align: left;\">Float64</th><th title = \"Float64\" style = \"text-align: left;\">Float64</th><th title = \"Float64\" style = \"text-align: left;\">Float64</th><th title = \"Float64\" style = \"text-align: left;\">Float64</th><th title = \"Float64\" style = \"text-align: left;\">Float64</th><th title = \"Float64\" style = \"text-align: left;\">Float64</th><th title = \"Float64\" style = \"text-align: left;\">Float64</th><th title = \"Float64\" style = \"text-align: left;\">Float64</th><th title = \"Float64\" style = \"text-align: left;\">Float64</th><th title = \"Float64\" style = \"text-align: left;\">Float64</th><th title = \"Float64\" style = \"text-align: left;\">Float64</th><th title = \"Float64\" style = \"text-align: left;\">Float64</th><th title = \"Float64\" style = \"text-align: left;\">Float64</th><th title = \"Float64\" style = \"text-align: left;\">Float64</th><th title = \"Float64\" style = \"text-align: left;\">Float64</th><th title = \"Float64\" style = \"text-align: left;\">Float64</th><th title = \"Float64\" style = \"text-align: left;\">Float64</th><th title = \"Float64\" style = \"text-align: left;\">Float64</th><th title = \"Float64\" style = \"text-align: left;\">Float64</th><th title = \"Float64\" style = \"text-align: left;\">Float64</th><th title = \"Float64\" style = \"text-align: left;\">Float64</th><th title = \"Float64\" style = \"text-align: left;\">Float64</th><th title = \"Float64\" style = \"text-align: left;\">Float64</th><th title = \"Float64\" style = \"text-align: left;\">Float64</th><th title = \"Float64\" style = \"text-align: left;\">Float64</th><th title = \"Float64\" style = \"text-align: left;\">Float64</th><th title = \"Float64\" style = \"text-align: left;\">Float64</th><th title = \"Float64\" style = \"text-align: left;\">Float64</th><th title = \"Float64\" style = \"text-align: left;\">Float64</th><th title = \"Float64\" style = \"text-align: left;\">Float64</th><th title = \"Float64\" style = \"text-align: left;\">Float64</th><th title = \"Float64\" style = \"text-align: left;\">Float64</th><th title = \"Float64\" style = \"text-align: left;\">Float64</th><th title = \"Float64\" style = \"text-align: left;\">Float64</th><th title = \"Float64\" style = \"text-align: left;\">Float64</th><th title = \"Float64\" style = \"text-align: left;\">Float64</th><th title = \"Float64\" style = \"text-align: left;\">Float64</th><th title = \"Float64\" style = \"text-align: left;\">Float64</th><th title = \"Float64\" style = \"text-align: left;\">Float64</th><th title = \"Float64\" style = \"text-align: left;\">Float64</th><th title = \"Float64\" style = \"text-align: left;\">Float64</th></tr></thead><tbody><tr><td class = \"rowNumber\" style = \"font-weight: bold; text-align: right;\">1</td><td style = \"text-align: left;\">Wheat &amp; Rye (Bread)</td><td style = \"text-align: right;\">0.0014</td><td style = \"text-align: right;\">0.00145</td><td style = \"text-align: right;\">100</td><td style = \"text-align: right;\">2.67</td><td style = \"text-align: right;\">0.032</td><td style = \"text-align: right;\">0.008</td><td style = \"text-align: right;\">0.0</td><td style = \"text-align: right;\">5.08</td><td style = \"text-align: right;\">0.187</td><td style = \"text-align: right;\">0.85</td><td style = \"text-align: right;\">0.2</td><td style = \"text-align: right;\">0.0562</td><td style = \"text-align: right;\">0.0</td><td style = \"text-align: right;\">0.00253</td><td style = \"text-align: right;\">0.00415</td><td style = \"text-align: right;\">0.02</td><td style = \"text-align: right;\">0.0</td><td style = \"text-align: right;\">0.0</td><td style = \"text-align: right;\">0.01</td><td style = \"text-align: right;\">0.0</td><td style = \"text-align: right;\">0.44</td><td style = \"text-align: right;\">0.0</td><td style = \"text-align: right;\">0.0</td><td style = \"text-align: right;\">0.00111</td><td style = \"text-align: right;\">0.002</td><td style = \"text-align: right;\">0.0</td><td style = \"text-align: right;\">0.0019</td><td style = \"text-align: right;\">0.0019</td><td style = \"text-align: right;\">0.049</td><td style = \"text-align: right;\">1.33</td><td style = \"text-align: right;\">0.00159</td><td style = \"text-align: right;\">0.0349</td><td style = \"text-align: right;\">0.45</td><td style = \"text-align: right;\">0.01177</td><td style = \"text-align: right;\">1.49</td><td style = \"text-align: right;\">1.77</td><td style = \"text-align: right;\">0.288</td><td style = \"text-align: right;\">0.0119</td><td style = \"text-align: right;\">0.1072</td><td style = \"text-align: right;\">0.0</td><td style = \"text-align: right;\">0.0</td><td style = \"text-align: right;\">0.0</td><td style = \"text-align: right;\">0.0</td><td style = \"text-align: right;\">0.0</td><td style = \"text-align: right;\">0.0</td><td style = \"text-align: right;\">0.0</td><td style = \"text-align: right;\">0.0</td><td style = \"text-align: right;\">0.0</td><td style = \"text-align: right;\">0.0</td><td style = \"text-align: right;\">0.0</td><td style = \"text-align: right;\">0.0</td><td style = \"text-align: right;\">0.0</td><td style = \"text-align: right;\">0.0</td><td style = \"text-align: right;\">0.0</td><td style = \"text-align: right;\">0.0</td><td style = \"text-align: right;\">0.0</td><td style = \"text-align: right;\">0.0</td><td style = \"text-align: right;\">0.0</td><td style = \"text-align: right;\">0.4868</td><td style = \"text-align: right;\">0.04</td><td style = \"text-align: right;\">0.0591</td><td style = \"text-align: right;\">0.0245</td><td style = \"text-align: right;\">0.0</td><td style = \"text-align: right;\">0.0178</td><td style = \"text-align: right;\">0.0</td><td style = \"text-align: right;\">0.0168</td><td style = \"text-align: right;\">0.0</td><td style = \"text-align: right;\">0.0324</td><td style = \"text-align: right;\">0.00777</td><td style = \"text-align: right;\">0.00607</td><td style = \"text-align: right;\">0.01499</td><td style = \"text-align: right;\">0.0</td><td style = \"text-align: right;\">0.0</td><td style = \"text-align: right;\">0.0216</td><td style = \"text-align: right;\">0.0</td><td style = \"text-align: right;\">0.0</td><td style = \"text-align: right;\">0.352</td></tr><tr><td class = \"rowNumber\" style = \"font-weight: bold; text-align: right;\">2</td><td style = \"text-align: left;\">Maize (Meal)</td><td style = \"text-align: right;\">0.0011</td><td style = \"text-align: right;\">0.00064</td><td style = \"text-align: right;\">100</td><td style = \"text-align: right;\">3.45</td><td style = \"text-align: right;\">0.016</td><td style = \"text-align: right;\">0.003</td><td style = \"text-align: right;\">0.0</td><td style = \"text-align: right;\">0.04</td><td style = \"text-align: right;\">0.378</td><td style = \"text-align: right;\">0.08</td><td style = \"text-align: right;\">0.0</td><td style = \"text-align: right;\">0.06269</td><td style = \"text-align: right;\">0.00145</td><td style = \"text-align: right;\">0.00114</td><td style = \"text-align: right;\">0.0037</td><td style = \"text-align: right;\">0.0</td><td style = \"text-align: right;\">0.0</td><td style = \"text-align: right;\">0.0</td><td style = \"text-align: right;\">0.0</td><td style = \"text-align: right;\">0.0</td><td style = \"text-align: right;\">1.6</td><td style = \"text-align: right;\">0.0</td><td style = \"text-align: right;\">0.0</td><td style = \"text-align: right;\">0.00396</td><td style = \"text-align: right;\">0.0</td><td style = \"text-align: right;\">0.0</td><td style = \"text-align: right;\">0.0057</td><td style = \"text-align: right;\">0.0057</td><td style = \"text-align: right;\">0.022</td><td style = \"text-align: right;\">0.32</td><td style = \"text-align: right;\">0.00343</td><td style = \"text-align: right;\">0.0268</td><td style = \"text-align: right;\">0.96</td><td style = \"text-align: right;\">0.01034</td><td style = \"text-align: right;\">2.96</td><td style = \"text-align: right;\">3.09</td><td style = \"text-align: right;\">0.377</td><td style = \"text-align: right;\">0.02</td><td style = \"text-align: right;\">0.105</td><td style = \"text-align: right;\">0.00409</td><td style = \"text-align: right;\">0.00526</td><td style = \"text-align: right;\">0.00655</td><td style = \"text-align: right;\">0.00232</td><td style = \"text-align: right;\">0.02741</td><td style = \"text-align: right;\">0.0038</td><td style = \"text-align: right;\">0.00236</td><td style = \"text-align: right;\">0.0</td><td style = \"text-align: right;\">0.00383</td><td style = \"text-align: right;\">0.00713</td><td style = \"text-align: right;\">0.00391</td><td style = \"text-align: right;\">0.00202</td><td style = \"text-align: right;\">0.00589</td><td style = \"text-align: right;\">0.01247</td><td style = \"text-align: right;\">0.00443</td><td style = \"text-align: right;\">0.00356</td><td style = \"text-align: right;\">0.00175</td><td style = \"text-align: right;\">0.00301</td><td style = \"text-align: right;\">0.00515</td><td style = \"text-align: right;\">0.7452</td><td style = \"text-align: right;\">0.101</td><td style = \"text-align: right;\">0.008</td><td style = \"text-align: right;\">0.0</td><td style = \"text-align: right;\">0.0</td><td style = \"text-align: right;\">0.0</td><td style = \"text-align: right;\">0.0</td><td style = \"text-align: right;\">0.0</td><td style = \"text-align: right;\">0.0</td><td style = \"text-align: right;\">0.016</td><td style = \"text-align: right;\">0.00335</td><td style = \"text-align: right;\">0.00205</td><td style = \"text-align: right;\">0.00771</td><td style = \"text-align: right;\">0.0</td><td style = \"text-align: right;\">0.0</td><td style = \"text-align: right;\">0.0128</td><td style = \"text-align: right;\">0.0</td><td style = \"text-align: right;\">0.0</td><td style = \"text-align: right;\">0.1211</td></tr><tr><td class = \"rowNumber\" style = \"font-weight: bold; text-align: right;\">3</td><td style = \"text-align: left;\">Barley (Beer)</td><td style = \"text-align: right;\">0.0011</td><td style = \"text-align: right;\">0.00148</td><td style = \"text-align: right;\">100</td><td style = \"text-align: right;\">0.41</td><td style = \"text-align: right;\">0.0</td><td style = \"text-align: right;\">0.0</td><td style = \"text-align: right;\">0.0</td><td style = \"text-align: right;\">0.0</td><td style = \"text-align: right;\">0.0</td><td style = \"text-align: right;\">0.0</td><td style = \"text-align: right;\">0.0</td><td style = \"text-align: right;\">0.0</td><td style = \"text-align: right;\">0.0</td><td style = \"text-align: right;\">0.0</td><td style = \"text-align: right;\">0.0</td><td style = \"text-align: right;\">0.0</td><td style = \"text-align: right;\">0.0</td><td style = \"text-align: right;\">0.0</td><td style = \"text-align: right;\">0.0</td><td style = \"text-align: right;\">0.0</td><td style = \"text-align: right;\">0.0</td><td style = \"text-align: right;\">0.0</td><td style = \"text-align: right;\">0.0</td><td style = \"text-align: right;\">0.0</td><td style = \"text-align: right;\">0.0</td><td style = \"text-align: right;\">0.0</td><td style = \"text-align: right;\">0.0</td><td style = \"text-align: right;\">0.0</td><td style = \"text-align: right;\">0.0</td><td style = \"text-align: right;\">0.0</td><td style = \"text-align: right;\">0.0</td><td style = \"text-align: right;\">0.0</td><td style = \"text-align: right;\">0.0</td><td style = \"text-align: right;\">0.0</td><td style = \"text-align: right;\">0.0</td><td style = \"text-align: right;\">0.0</td><td style = \"text-align: right;\">0.0</td><td style = \"text-align: right;\">0.0</td><td style = \"text-align: right;\">0.0036</td><td style = \"text-align: right;\">0.0</td><td style = \"text-align: right;\">0.0</td><td style = \"text-align: right;\">0.0</td><td style = \"text-align: right;\">0.0</td><td style = \"text-align: right;\">0.0</td><td style = \"text-align: right;\">0.0</td><td style = \"text-align: right;\">0.0</td><td style = \"text-align: right;\">0.0</td><td style = \"text-align: right;\">0.0</td><td style = \"text-align: right;\">0.0</td><td style = \"text-align: right;\">0.0</td><td style = \"text-align: right;\">0.0</td><td style = \"text-align: right;\">0.0</td><td style = \"text-align: right;\">0.0</td><td style = \"text-align: right;\">0.0</td><td style = \"text-align: right;\">0.0</td><td style = \"text-align: right;\">0.0</td><td style = \"text-align: right;\">0.0</td><td style = \"text-align: right;\">0.0</td><td style = \"text-align: right;\">0.0297</td><td style = \"text-align: right;\">0.0</td><td style = \"text-align: right;\">0.0</td><td style = \"text-align: right;\">0.0</td><td style = \"text-align: right;\">0.0</td><td style = \"text-align: right;\">0.0</td><td style = \"text-align: right;\">0.0</td><td style = \"text-align: right;\">0.0</td><td style = \"text-align: right;\">0.0</td><td style = \"text-align: right;\">0.0</td><td style = \"text-align: right;\">0.0</td><td style = \"text-align: right;\">0.0</td><td style = \"text-align: right;\">0.0</td><td style = \"text-align: right;\">0.0</td><td style = \"text-align: right;\">0.039</td><td style = \"text-align: right;\">0.0011</td><td style = \"text-align: right;\">0.0</td><td style = \"text-align: right;\">0.0</td><td style = \"text-align: right;\">0.9277</td></tr><tr><td class = \"rowNumber\" style = \"font-weight: bold; text-align: right;\">4</td><td style = \"text-align: left;\">Oats</td><td style = \"text-align: right;\">0.0016</td><td style = \"text-align: right;\">0.00197</td><td style = \"text-align: right;\">100</td><td style = \"text-align: right;\">3.89</td><td style = \"text-align: right;\">0.069</td><td style = \"text-align: right;\">0.012</td><td style = \"text-align: right;\">0.0</td><td style = \"text-align: right;\">0.02</td><td style = \"text-align: right;\">0.0</td><td style = \"text-align: right;\">0.56</td><td style = \"text-align: right;\">0.0</td><td style = \"text-align: right;\">0.00961</td><td style = \"text-align: right;\">0.01349</td><td style = \"text-align: right;\">0.00139</td><td style = \"text-align: right;\">0.00763</td><td style = \"text-align: right;\">0.0</td><td style = \"text-align: right;\">0.0</td><td style = \"text-align: right;\">0.0</td><td style = \"text-align: right;\">0.0</td><td style = \"text-align: right;\">0.0</td><td style = \"text-align: right;\">0.0</td><td style = \"text-align: right;\">0.0</td><td style = \"text-align: right;\">0.0</td><td style = \"text-align: right;\">0.00119</td><td style = \"text-align: right;\">0.0</td><td style = \"text-align: right;\">0.0</td><td style = \"text-align: right;\">0.0</td><td style = \"text-align: right;\">0.0</td><td style = \"text-align: right;\">0.0</td><td style = \"text-align: right;\">0.54</td><td style = \"text-align: right;\">0.00626</td><td style = \"text-align: right;\">0.0472</td><td style = \"text-align: right;\">1.77</td><td style = \"text-align: right;\">0.04916</td><td style = \"text-align: right;\">5.23</td><td style = \"text-align: right;\">4.29</td><td style = \"text-align: right;\">0.0</td><td style = \"text-align: right;\">0.0397</td><td style = \"text-align: right;\">0.1689</td><td style = \"text-align: right;\">0.00881</td><td style = \"text-align: right;\">0.01192</td><td style = \"text-align: right;\">0.01448</td><td style = \"text-align: right;\">0.00408</td><td style = \"text-align: right;\">0.03712</td><td style = \"text-align: right;\">0.00841</td><td style = \"text-align: right;\">0.00405</td><td style = \"text-align: right;\">0.0</td><td style = \"text-align: right;\">0.00694</td><td style = \"text-align: right;\">0.01284</td><td style = \"text-align: right;\">0.00701</td><td style = \"text-align: right;\">0.00312</td><td style = \"text-align: right;\">0.00895</td><td style = \"text-align: right;\">0.00934</td><td style = \"text-align: right;\">0.0075</td><td style = \"text-align: right;\">0.00575</td><td style = \"text-align: right;\">0.00234</td><td style = \"text-align: right;\">0.00573</td><td style = \"text-align: right;\">0.00937</td><td style = \"text-align: right;\">0.6627</td><td style = \"text-align: right;\">0.106</td><td style = \"text-align: right;\">0.0</td><td style = \"text-align: right;\">0.0</td><td style = \"text-align: right;\">0.0</td><td style = \"text-align: right;\">0.0</td><td style = \"text-align: right;\">0.0</td><td style = \"text-align: right;\">0.0</td><td style = \"text-align: right;\">0.0</td><td style = \"text-align: right;\">0.069</td><td style = \"text-align: right;\">0.01217</td><td style = \"text-align: right;\">0.02178</td><td style = \"text-align: right;\">0.02535</td><td style = \"text-align: right;\">0.0</td><td style = \"text-align: right;\">0.0</td><td style = \"text-align: right;\">0.0172</td><td style = \"text-align: right;\">0.0</td><td style = \"text-align: right;\">0.0</td><td style = \"text-align: right;\">0.0822</td></tr><tr><td class = \"rowNumber\" style = \"font-weight: bold; text-align: right;\">5</td><td style = \"text-align: left;\">Rice</td><td style = \"text-align: right;\">0.004</td><td style = \"text-align: right;\">0.00134</td><td style = \"text-align: right;\">100</td><td style = \"text-align: right;\">3.57</td><td style = \"text-align: right;\">0.011</td><td style = \"text-align: right;\">0.002</td><td style = \"text-align: right;\">0.0</td><td style = \"text-align: right;\">0.07</td><td style = \"text-align: right;\">0.35</td><td style = \"text-align: right;\">0.95</td><td style = \"text-align: right;\">0.0</td><td style = \"text-align: right;\">0.06733</td><td style = \"text-align: right;\">0.01074</td><td style = \"text-align: right;\">0.00262</td><td style = \"text-align: right;\">0.00115</td><td style = \"text-align: right;\">0.19</td><td style = \"text-align: right;\">0.01</td><td style = \"text-align: right;\">0.0</td><td style = \"text-align: right;\">0.11</td><td style = \"text-align: right;\">0.0</td><td style = \"text-align: right;\">2.2</td><td style = \"text-align: right;\">0.0</td><td style = \"text-align: right;\">0.0</td><td style = \"text-align: right;\">0.00391</td><td style = \"text-align: right;\">0.0</td><td style = \"text-align: right;\">0.0</td><td style = \"text-align: right;\">0.0082</td><td style = \"text-align: right;\">0.0082</td><td style = \"text-align: right;\">0.019</td><td style = \"text-align: right;\">0.21</td><td style = \"text-align: right;\">0.00524</td><td style = \"text-align: right;\">0.0196</td><td style = \"text-align: right;\">1.77</td><td style = \"text-align: right;\">0.01329</td><td style = \"text-align: right;\">4.33</td><td style = \"text-align: right;\">4.27</td><td style = \"text-align: right;\">0.028</td><td style = \"text-align: right;\">0.0596</td><td style = \"text-align: right;\">0.1473</td><td style = \"text-align: right;\">0.00825</td><td style = \"text-align: right;\">0.01136</td><td style = \"text-align: right;\">0.01419</td><td style = \"text-align: right;\">0.00174</td><td style = \"text-align: right;\">0.02565</td><td style = \"text-align: right;\">0.00672</td><td style = \"text-align: right;\">0.00384</td><td style = \"text-align: right;\">0.0</td><td style = \"text-align: right;\">0.00618</td><td style = \"text-align: right;\">0.01018</td><td style = \"text-align: right;\">0.00629</td><td style = \"text-align: right;\">0.00438</td><td style = \"text-align: right;\">0.00721</td><td style = \"text-align: right;\">0.00519</td><td style = \"text-align: right;\">0.00778</td><td style = \"text-align: right;\">0.00469</td><td style = \"text-align: right;\">0.00179</td><td style = \"text-align: right;\">0.00622</td><td style = \"text-align: right;\">0.00858</td><td style = \"text-align: right;\">0.749</td><td style = \"text-align: right;\">0.062</td><td style = \"text-align: right;\">0.025</td><td style = \"text-align: right;\">0.0</td><td style = \"text-align: right;\">0.0</td><td style = \"text-align: right;\">0.0</td><td style = \"text-align: right;\">0.0</td><td style = \"text-align: right;\">0.0</td><td style = \"text-align: right;\">0.0067</td><td style = \"text-align: right;\">0.0108</td><td style = \"text-align: right;\">0.00156</td><td style = \"text-align: right;\">0.00159</td><td style = \"text-align: right;\">0.00676</td><td style = \"text-align: right;\">0.0</td><td style = \"text-align: right;\">0.0</td><td style = \"text-align: right;\">0.0153</td><td style = \"text-align: right;\">0.0</td><td style = \"text-align: right;\">0.0</td><td style = \"text-align: right;\">0.0776</td></tr></tbody></table></div>"
      ],
      "text/latex": [
       "\\begin{tabular}{r|cccccccc}\n",
       "\t& food & emissions & price & serving\\_size & calories & total\\_fat & saturated\\_fat & \\\\\n",
       "\t\\hline\n",
       "\t& String31 & Float64 & Float64 & Int64 & Float64 & Float64 & Float64 & \\\\\n",
       "\t\\hline\n",
       "\t1 & Wheat \\& Rye (Bread) & 0.0014 & 0.00145 & 100 & 2.67 & 0.032 & 0.008 & $\\dots$ \\\\\n",
       "\t2 & Maize (Meal) & 0.0011 & 0.00064 & 100 & 3.45 & 0.016 & 0.003 & $\\dots$ \\\\\n",
       "\t3 & Barley (Beer) & 0.0011 & 0.00148 & 100 & 0.41 & 0.0 & 0.0 & $\\dots$ \\\\\n",
       "\t4 & Oats & 0.0016 & 0.00197 & 100 & 3.89 & 0.069 & 0.012 & $\\dots$ \\\\\n",
       "\t5 & Rice & 0.004 & 0.00134 & 100 & 3.57 & 0.011 & 0.002 & $\\dots$ \\\\\n",
       "\\end{tabular}\n"
      ],
      "text/plain": [
       "\u001b[1m5×78 DataFrame\u001b[0m\n",
       "\u001b[1m Row \u001b[0m│\u001b[1m food                \u001b[0m\u001b[1m emissions \u001b[0m\u001b[1m price   \u001b[0m\u001b[1m serving_size \u001b[0m\u001b[1m calories \u001b[0m\u001b[1m total_\u001b[0m ⋯\n",
       "     │\u001b[90m String31            \u001b[0m\u001b[90m Float64   \u001b[0m\u001b[90m Float64 \u001b[0m\u001b[90m Int64        \u001b[0m\u001b[90m Float64  \u001b[0m\u001b[90m Float6\u001b[0m ⋯\n",
       "─────┼──────────────────────────────────────────────────────────────────────────\n",
       "   1 │ Wheat & Rye (Bread)     0.0014  0.00145           100      2.67      0. ⋯\n",
       "   2 │ Maize (Meal)            0.0011  0.00064           100      3.45      0.\n",
       "   3 │ Barley (Beer)           0.0011  0.00148           100      0.41      0.\n",
       "   4 │ Oats                    0.0016  0.00197           100      3.89      0.\n",
       "   5 │ Rice                    0.004   0.00134           100      3.57      0. ⋯\n",
       "\u001b[36m                                                              73 columns omitted\u001b[0m"
      ]
     },
     "execution_count": 6,
     "metadata": {},
     "output_type": "execute_result"
    }
   ],
   "source": [
    "first(data, 5)"
   ]
  },
  {
   "cell_type": "markdown",
   "id": "c0f7438e-a55d-4b58-a552-35ea45a2b016",
   "metadata": {},
   "source": [
    "## Price data"
   ]
  },
  {
   "cell_type": "code",
   "execution_count": 7,
   "id": "ca93e0f1-f7d7-45fb-8047-9e426eded7c4",
   "metadata": {},
   "outputs": [],
   "source": [
    "price = data[!, \"price\"];"
   ]
  },
  {
   "cell_type": "markdown",
   "id": "869602c8",
   "metadata": {},
   "source": [
    "## Food data"
   ]
  },
  {
   "cell_type": "code",
   "execution_count": 8,
   "id": "8d3918da",
   "metadata": {},
   "outputs": [],
   "source": [
    "food_products = data[!, \"food\"];"
   ]
  },
  {
   "cell_type": "code",
   "execution_count": 9,
   "id": "1d17a9e5",
   "metadata": {},
   "outputs": [],
   "source": [
    "foods = size(food_products, 1);"
   ]
  },
  {
   "cell_type": "markdown",
   "id": "c80dbf18",
   "metadata": {},
   "source": [
    "### Emissions data"
   ]
  },
  {
   "cell_type": "code",
   "execution_count": 10,
   "id": "dcc1f7a6",
   "metadata": {},
   "outputs": [],
   "source": [
    "emissions = data[!, \"emissions\"];"
   ]
  },
  {
   "cell_type": "markdown",
   "id": "8c0a7bdc",
   "metadata": {},
   "source": [
    "### Nutritional data"
   ]
  },
  {
   "cell_type": "code",
   "execution_count": 11,
   "id": "1b9920fc",
   "metadata": {},
   "outputs": [],
   "source": [
    "calories = data[!, \"calories\"];"
   ]
  },
  {
   "cell_type": "markdown",
   "id": "4ca8c118",
   "metadata": {},
   "source": [
    "#### Macro nutrients"
   ]
  },
  {
   "cell_type": "code",
   "execution_count": 12,
   "id": "492e81ba",
   "metadata": {},
   "outputs": [],
   "source": [
    "protein = data[!, \"protein\"]\n",
    "total_fat = data[!, \"total_fat\"]\n",
    "carbohydrate = data[!, \"carbohydrate\"]\n",
    "fiber = data[!, \"fiber\"]\n",
    "sugars = data[!, \"sugars\"]\n",
    "saturated_fatty_acids = data[!, \"saturated_fatty_acids\"]\n",
    "monounsaturated_fatty_acids = data[!, \"monounsaturated_fatty_acids\"]\n",
    "polyunsaturated_fatty_acids = data[!, \"polyunsaturated_fatty_acids\"]\n",
    "fatty_acids_total_trans = data[!, \"fatty_acids_total_trans\"];"
   ]
  },
  {
   "cell_type": "markdown",
   "id": "361f456c",
   "metadata": {},
   "source": [
    "#### Macro nutrients"
   ]
  },
  {
   "cell_type": "code",
   "execution_count": 13,
   "id": "9094742c",
   "metadata": {},
   "outputs": [],
   "source": [
    "vitamin_a = data[!, \"vitamin_a\"]\n",
    "vitamin_b6 = data[!, \"vitamin_b6\"]\n",
    "vitamin_b12 = data[!, \"vitamin_b12\"]\n",
    "vitamin_c = data[!, \"vitamin_c\"]\n",
    "vitamin_d = data[!, \"vitamin_d\"]\n",
    "vitamin_e = data[!, \"vitamin_e\"]\n",
    "vitamin_k = data[!, \"vitamin_k\"]\n",
    "thiamin = data[!, \"thiamin\"]\n",
    "riboflavin = data[!, \"riboflavin\"]\n",
    "niacin = data[!, \"niacin\"]\n",
    "folate = data[!, \"folate\"]\n",
    "pantothenic_acid = data[!, \"pantothenic_acid\"]\n",
    "calcium = data[!, \"calcium\"]\n",
    "iron = data[!, \"irom\"]\n",
    "magnesium = data[!, \"magnesium\"]\n",
    "phosphorous = data[!, \"phosphorous\"]\n",
    "potassium = data[!, \"potassium\"]\n",
    "sodium = data[!, \"sodium\"]\n",
    "zinc = data[!, \"zink\"]\n",
    "copper = data[!, \"copper\"]\n",
    "manganese = data[!, \"manganese\"]\n",
    "selenium = data[!, \"selenium\"]\n",
    "choline = data[!, \"choline\"]\n",
    "lutein_zeaxanthin = data[!, \"lutein_zeaxanthin\"]\n",
    "lucopene = data[!, \"lucopene\"]\n",
    "carotene_beta = data[!, \"carotene_beta\"]\n",
    "cryptoxanthin_beta = data[!, \"cryptoxanthin_beta\"]\n",
    "tocopherol_alpha = data[!, \"tocopherol_alpha\"];"
   ]
  },
  {
   "cell_type": "markdown",
   "id": "103690a0",
   "metadata": {},
   "source": [
    "#### Amino Acids"
   ]
  },
  {
   "cell_type": "code",
   "execution_count": 14,
   "id": "64352de5",
   "metadata": {},
   "outputs": [],
   "source": [
    "alanine = data[!, \"alanine\"]\n",
    "arginine = data[!, \"arginine\"]\n",
    "aspartic_acid = data[!, \"aspartic_acid\"]\n",
    "cystine = data[!, \"cystine\"]\n",
    "glutamic_acid = data[!, \"glutamic_acid\"]\n",
    "glycine = data[!, \"glycine\"]\n",
    "histidine = data[!, \"histidine\"]\n",
    "hydroxyproline = data[!, \"hydroxyproline\"]\n",
    "isoleucine = data[!, \"isoleucine\"]\n",
    "leucine = data[!, \"leucine\"]\n",
    "lysine = data[!, \"lysine\"]\n",
    "methionine = data[!, \"methionine\"]\n",
    "phenylalanine = data[!, \"phenylalanine\"]\n",
    "proline = data[!, \"proline\"]\n",
    "serine = data[!, \"serine\"]\n",
    "threonine = data[!, \"threonine\"]\n",
    "tryptophan = data[!, \"tryptophan\"]\n",
    "tyrosine = data[!, \"tyrosine\"]\n",
    "valine = data[!, \"valine\"];"
   ]
  },
  {
   "cell_type": "markdown",
   "id": "a67bd36e",
   "metadata": {},
   "source": [
    "#### Other nutrients"
   ]
  },
  {
   "cell_type": "code",
   "execution_count": 15,
   "id": "eabd49aa",
   "metadata": {},
   "outputs": [],
   "source": [
    "water = data[!, \"water\"]\n",
    "caffeine = data[!, \"caffeine\"]\n",
    "theobromine = data[!, \"theobromine\"]\n",
    "ash = data[!, \"ash\"]\n",
    "alcohol = data[!, \"alcohol\"];"
   ]
  },
  {
   "cell_type": "markdown",
   "id": "e251c1f5",
   "metadata": {},
   "source": [
    "# Creating model"
   ]
  },
  {
   "cell_type": "code",
   "execution_count": 176,
   "id": "e4de8364-7cd0-4377-8af6-74c0a8bb63d9",
   "metadata": {},
   "outputs": [],
   "source": [
    "# Define all food groups\n",
    "meats = [\"Beef (beef herd)\", \"Beef (dairy herd)\", \"Lamb & Mutton\", \"Pork\", \"Chicken Meat\", \"Fish (farmed)\", \"Shrimps (farmed)\"]\n",
    "meat_inds = [findfirst(isequal(item), food_products) for item in meats]\n",
    "\n",
    "animal = [\"Beef (beef herd)\", \"Beef (dairy herd)\", \"Lamb & Mutton\", \"Pork\", \"Chicken Meat\", \"Milk\", \"Cheese\", \"Eggs\", \n",
    "    \"Fish (farmed)\", \"Shrimps (farmed)\"]\n",
    "animal_inds = [findfirst(isequal(item), food_products) for item in animal]\n",
    "\n",
    "dairy = [\"Milk\", \"Cheese\"]\n",
    "dairy_inds = [findfirst(isequal(item), food_products) for item in dairy]\n",
    "\n",
    "gluten = [\"Wheat & Rye (Bread)\", \"Barley (Beer)\"]\n",
    "gluten_inds = [findfirst(isequal(item), food_products) for item in gluten]\n",
    "\n",
    "alcohol = [\"Barley (Beer)\", \"Wine\"];\n",
    "alcohol_inds = [findfirst(isequal(item), food_products) for item in alcohol]\n",
    "\n",
    "nuts = [\"Nuts\", \"Peanuts\"]\n",
    "nuts_inds = [findfirst(isequal(item), food_products) for item in nuts]\n",
    "\n",
    "caffeine = [\"Coffee\"]\n",
    "caffeine_inds = [findfirst(isequal(item), food_products) for item in caffeine];"
   ]
  },
  {
   "cell_type": "code",
   "execution_count": 177,
   "id": "9bd3cd73-9170-45ab-a31b-99a53dc0adf2",
   "metadata": {},
   "outputs": [],
   "source": [
    "# Price sensitivity\n",
    "lambda = 0.1;"
   ]
  },
  {
   "cell_type": "code",
   "execution_count": 178,
   "id": "198089e7-cec4-481d-ad28-6fa1fb09d8e1",
   "metadata": {},
   "outputs": [],
   "source": [
    "# Big-M\n",
    "M = 10000;"
   ]
  },
  {
   "cell_type": "code",
   "execution_count": 197,
   "id": "0ebbb7e6-2d29-4a53-b428-11d271b1e588",
   "metadata": {},
   "outputs": [],
   "source": [
    "# Dietary preferences\n",
    "z_veg = 0\n",
    "z_vegan = 0\n",
    "z_meat_low = 0\n",
    "z_meat_med = 0\n",
    "z_meat_high = 1\n",
    "\n",
    "z_lactose = 0\n",
    "z_gluten = 0\n",
    "z_nuts = 1\n",
    "\n",
    "z_alc = 1\n",
    "z_caffeine = 0;"
   ]
  },
  {
   "cell_type": "code",
   "execution_count": 198,
   "id": "f2c036fe",
   "metadata": {},
   "outputs": [
    {
     "name": "stdout",
     "output_type": "stream",
     "text": [
      "Set parameter Username\n",
      "Academic license - for non-commercial use only - expires 2024-08-22\n"
     ]
    }
   ],
   "source": [
    "model = Model(Gurobi.Optimizer);"
   ]
  },
  {
   "cell_type": "markdown",
   "id": "1aa2c797",
   "metadata": {},
   "source": [
    "## Decision variables"
   ]
  },
  {
   "cell_type": "code",
   "execution_count": 199,
   "id": "c641ea33",
   "metadata": {},
   "outputs": [],
   "source": [
    "@variable(model, x[1:foods] >= 0);"
   ]
  },
  {
   "cell_type": "markdown",
   "id": "f81b49e2",
   "metadata": {},
   "source": [
    "## Objective"
   ]
  },
  {
   "cell_type": "code",
   "execution_count": 200,
   "id": "9828b2d0",
   "metadata": {},
   "outputs": [],
   "source": [
    "# Dual objective function (minimize total carbon emissions and cost)\n",
    "@objective(model, Min, sum(emissions[i] * x[i] for i in 1:foods) \n",
    "    + lambda * sum(price[i] * x[i] for i in 1:foods));"
   ]
  },
  {
   "cell_type": "markdown",
   "id": "dfc1fd7a",
   "metadata": {},
   "source": [
    "## Contraints"
   ]
  },
  {
   "cell_type": "markdown",
   "id": "efe85dc3-322d-48d1-a27c-6435767956b8",
   "metadata": {},
   "source": [
    "### Ingredient limit constraint"
   ]
  },
  {
   "cell_type": "code",
   "execution_count": 201,
   "id": "54c4a822-b0a5-4bee-84c2-8fc984a066eb",
   "metadata": {},
   "outputs": [],
   "source": [
    "@constraint(model, ingredient_limit[i=1:foods], x[i] <= 500);"
   ]
  },
  {
   "cell_type": "markdown",
   "id": "fee238d8-2b48-465f-b108-0a0a3f998b4d",
   "metadata": {},
   "source": [
    "### Dietary preference constraints"
   ]
  },
  {
   "cell_type": "code",
   "execution_count": 202,
   "id": "8d0cf0d1-345a-459b-bcba-452dd8310da5",
   "metadata": {},
   "outputs": [],
   "source": [
    "@constraint(model, vegetarian_constraint[i in meat_inds], x[i] <= M * (1 - z_veg))\n",
    "@constraint(model, vegan_constraint[i in animal_inds], x[i] <= M * (1 - z_vegan))\n",
    "@constraint(model, lactose_constraint[i in dairy_inds], x[i] <= M * (1 - z_lactose))\n",
    "@constraint(model, gluten_constraint[i in gluten_inds], x[i] <= M * (1 - z_gluten))\n",
    "@constraint(model, nuts_constraint[i in nuts_inds], x[i] <= M * z_nuts)\n",
    "@constraint(model, alcohol_constraint[i in alcohol_inds], x[i] <= M * z_alc)\n",
    "@constraint(model, caffeine_constraint[i in caffeine_inds], x[i] <= M * z_caffeine)\n",
    "@constraint(model, meat_low_constraint, sum(x[i] for i in meat_inds) >= 100 * z_meat_low)\n",
    "@constraint(model, meat_med_constraint, sum(x[i] for i in meat_inds) >= 200 * z_meat_med)\n",
    "@constraint(model, meat_high_constraint, sum(x[i] for i in meat_inds) >= 300 * z_meat_high);"
   ]
  },
  {
   "cell_type": "markdown",
   "id": "4a0ee2dd",
   "metadata": {},
   "source": [
    "### Macro nutrient constraints"
   ]
  },
  {
   "cell_type": "code",
   "execution_count": 203,
   "id": "b5ad5ac6",
   "metadata": {
    "scrolled": true
   },
   "outputs": [],
   "source": [
    "@constraint(model, sum(protein[i] * x[i] for i in 1:foods) >= 50)   # Protein minimum 50g\n",
    "@constraint(model, sum(total_fat[i] * x[i] for i in 1:foods) <= 78)       # Fat maximum 78g\n",
    "@constraint(model, sum(carbohydrate[i] * x[i] for i in 1:foods) <= 275); # Carbohydrate maximum 275g"
   ]
  },
  {
   "cell_type": "markdown",
   "id": "c8cead49",
   "metadata": {},
   "source": [
    "### Micro nutrient constraints"
   ]
  },
  {
   "cell_type": "code",
   "execution_count": 204,
   "id": "2f0f2d6e",
   "metadata": {},
   "outputs": [],
   "source": [
    "@constraint(model, sum(calcium[i] * x[i] for i in 1:foods) <= 1300) # Calcium maximum 1300mg\n",
    "@constraint(model, sum(iron[i] * x[i] for i in 1:foods) >= 18)      # Iron minimum 18mg\n",
    "@constraint(model, sum(magnesium[i] * x[i] for i in 1:foods) <= 420) # Magnesium maximum 420mg\n",
    "@constraint(model, sum(phosphorous[i] * x[i] for i in 1:foods) <= 1250) # Phosphorus maximum 1250mg\n",
    "@constraint(model, sum(potassium[i] * x[i] for i in 1:foods) >= 4700) # Potassium minimum 4700mg\n",
    "@constraint(model, sum(sodium[i] * x[i] for i in 1:foods) <= 2300)  # Sodium maximum 2300mg\n",
    "@constraint(model, sum(zinc[i] * x[i] for i in 1:foods) <= 11)      # Zinc maximum 11mg\n",
    "@constraint(model, sum(vitamin_a[i] * x[i] for i in 1:foods) <= 900) # Vitamin A maximum 900mcg RAE\n",
    "@constraint(model, sum(vitamin_c[i] * x[i] for i in 1:foods) >= 90)  # Vitamin C minimum 90mg\n",
    "@constraint(model, sum(vitamin_d[i] * x[i] for i in 1:foods) >= 20)  # Vitamin D minimum 20mcg\n",
    "@constraint(model, sum(vitamin_e[i] * x[i] for i in 1:foods) <= 15)  # Vitamin E maximum 15mg alpha-tocopherol\n",
    "@constraint(model, sum(vitamin_k[i] * x[i] for i in 1:foods) >= 120) # Vitamin K minimum 120mcg\n",
    "@constraint(model, sum(riboflavin[i] * x[i] for i in 1:foods) <= 1.3) # Riboflavin maximum 1.3mg\n",
    "@constraint(model, sum(niacin[i] * x[i] for i in 1:foods) <= 16)    # Niacin maximum 16mg NE\n",
    "@constraint(model, sum(folate[i] * x[i] for i in 1:foods) <= 400)   # Folate maximum 400mcg DFE\n",
    "@constraint(model, sum(vitamin_b12[i] * x[i] for i in 1:foods) >= 2.4) # Vitamin B12 minimum 2.4mcg\n",
    "@constraint(model, sum(vitamin_b6[i] * x[i] for i in 1:foods) <= 1.7) # Vitamin B6 maximum 1.7mg\n",
    "@constraint(model, sum(choline[i] * x[i] for i in 1:foods) <= 550);  # Choline maximum 550mg"
   ]
  },
  {
   "cell_type": "markdown",
   "id": "19558fea",
   "metadata": {},
   "source": [
    "### Other Constraints"
   ]
  },
  {
   "cell_type": "code",
   "execution_count": 205,
   "id": "43a27205",
   "metadata": {},
   "outputs": [],
   "source": [
    "# @constraint(model, sum(calories[i] * x[i] for i in 1:foods) <= 2500) # Calories maximum at 2500\n",
    "@constraint(model, sum(calories[i] * x[i] for i in 1:foods) >= 2000); # Calories minimum at 2000"
   ]
  },
  {
   "cell_type": "markdown",
   "id": "a14f7797",
   "metadata": {},
   "source": [
    "## Solving"
   ]
  },
  {
   "cell_type": "code",
   "execution_count": 206,
   "id": "a3b4937b",
   "metadata": {},
   "outputs": [
    {
     "name": "stdout",
     "output_type": "stream",
     "text": [
      "Gurobi Optimizer version 10.0.2 build v10.0.2rc0 (mac64[arm])\n",
      "\n",
      "CPU model: Apple M1\n",
      "Thread count: 8 physical cores, 8 logical processors, using up to 8 threads\n",
      "\n",
      "Optimize a model with 94 rows, 43 columns and 744 nonzeros\n",
      "Model fingerprint: 0x9720ba2f\n",
      "Coefficient statistics:\n",
      "  Matrix range     [1e-04, 5e+01]\n",
      "  Objective range  [4e-04, 6e-02]\n",
      "  Bounds range     [0e+00, 0e+00]\n",
      "  RHS range        [1e+00, 1e+04]\n",
      "Presolve removed 71 rows and 3 columns\n",
      "Presolve time: 0.00s\n",
      "Presolved: 23 rows, 40 columns, 629 nonzeros\n",
      "\n",
      "Iteration    Objective       Primal Inf.    Dual Inf.      Time\n",
      "       0    0.0000000e+00   7.599500e+02   0.000000e+00      0s\n",
      "\n",
      "Solved in 15 iterations and 0.00 seconds (0.00 work units)\n",
      "Infeasible model\n",
      "\n",
      "User-callback calls 73, time in user-callback 0.00 sec\n"
     ]
    }
   ],
   "source": [
    "optimize!(model)"
   ]
  },
  {
   "cell_type": "code",
   "execution_count": 207,
   "id": "d30b7a77",
   "metadata": {},
   "outputs": [
    {
     "name": "stdout",
     "output_type": "stream",
     "text": [
      "No optimal solution found. Status: INFEASIBLE\n"
     ]
    }
   ],
   "source": [
    "# Check if the model has a solution\n",
    "if termination_status(model) == MOI.OPTIMAL || termination_status(model) == MOI.LOCALLY_SOLVED\n",
    "    # Retrieve optimal values for decision variables\n",
    "    optimal_diet = value.(x)\n",
    "    # Retrieve the objective function value\n",
    "    total_emissions_optimal = sum(optimal_diet[i] * emissions[i] for i in 1:foods)\n",
    "    total_price_optimal = sum(optimal_diet[i] * price[i] for i in 1:foods)\n",
    "\n",
    "    # Print the results\n",
    "    println(\"Optimal diet: \", optimal_diet)\n",
    "    println(\"\\nTotal emissions: \", total_emissions_optimal)\n",
    "    println(\"\\nTotal price: \", total_price_optimal)\n",
    "else\n",
    "    println(\"No optimal solution found. Status: \", termination_status(model))\n",
    "end"
   ]
  },
  {
   "cell_type": "code",
   "execution_count": 208,
   "id": "4df3d38a",
   "metadata": {},
   "outputs": [
    {
     "name": "stdout",
     "output_type": "stream",
     "text": [
      "No optimal solution found. Status: INFEASIBLE\n"
     ]
    }
   ],
   "source": [
    "# Extract the 'Food product' column from the DataFrame\n",
    "food_product = data[!, \"food\"]\n",
    "\n",
    "# Check if the model has a solution\n",
    "if termination_status(model) == MOI.OPTIMAL || termination_status(model) == MOI.LOCALLY_SOLVED\n",
    "    # Retrieve optimal values for decision variables\n",
    "    optimal_diet = value.(x)\n",
    "    # Retrieve the objective function value\n",
    "    total_emissions = objective_value(model)\n",
    "\n",
    "    # Print the results\n",
    "    println(\"Optimal diet (grams of food):\\n\")\n",
    "    for i in 1:length(optimal_diet)\n",
    "        if optimal_diet[i] > 0\n",
    "            println(food_product[i], \": \", optimal_diet[i])\n",
    "        end\n",
    "    end\n",
    "    println(\"\\nTotal emissions (kg CO2): \", total_emissions)\n",
    "else\n",
    "    println(\"No optimal solution found. Status: \", termination_status(model))\n",
    "end"
   ]
  },
  {
   "cell_type": "code",
   "execution_count": 209,
   "id": "63066574",
   "metadata": {},
   "outputs": [
    {
     "name": "stdout",
     "output_type": "stream",
     "text": [
      "Total nutrients in the optimized diet:\n",
      "\n",
      "calories: 2000.0\n",
      "riboflavin: 0.989\n",
      "valine: 2.385\n",
      "total_fat: 78.0\n",
      "vitamin_b6: 1.7\n",
      "phosphorous: 1250.0\n",
      "tocopherol_alpha: 5.925\n",
      "glycine: 1.522\n",
      "histidine: 1.107\n",
      "fatty_acids_total_trans: 97.663\n",
      "serine: 2.111\n",
      "sodium: 752.455\n",
      "carotene_beta: 78.263\n",
      "cryptoxanthin_beta: 0.0\n",
      "thiamin: 1.092\n",
      "lutein_zeaxanthin: 22.594\n",
      "aspartic_acid: 3.99\n",
      "proline: 2.609\n",
      "vitamin_b12: 3.151\n",
      "vitamin_d: 217.625\n",
      "vitamin_a: 900.0\n",
      "arginine: 2.696\n",
      "niacin: 9.604\n",
      "protein: 55.229\n",
      "magnesium: 374.784\n",
      "copper: 2.592\n",
      "choline: 400.412\n",
      "cystine: 0.589\n",
      "tryptophan: 0.523\n",
      "sugars: 33.061\n",
      "carbohydrate: 275.0\n",
      "pantothenic_acid: 3.687\n",
      "iron: 18.0\n",
      "vitamin_e: 5.925\n",
      "folate: 400.0\n",
      "leucine: 3.517\n",
      "hydroxyproline: 0.0\n",
      "monounsaturated_fatty_acids: 11.836\n",
      "vitamin_c: 147.474\n",
      "zinc: 6.953\n",
      "tyrosine: 1.579\n",
      "vitamin_k: 120.0\n",
      "methionine: 1.023\n",
      "glutamic_acid: 8.063\n",
      "threonine: 1.832\n",
      "fiber: 25.621\n",
      "calcium: 720.477\n",
      "isoleucine: 2.08\n",
      "selenium: 45.879\n",
      "saturated_fatty_acids: 18.838\n",
      "polyunsaturated_fatty_acids: 28.499\n",
      "alanine: 2.021\n",
      "lucopene: 0.0\n",
      "phenylalanine: 1.973\n",
      "manganese: 6.123\n",
      "lysine: 3.167\n",
      "potassium: 4700.0\n"
     ]
    }
   ],
   "source": [
    "# Calculate total nutrients in the optimized diet\n",
    "\n",
    "total_nutrients = Dict(\n",
    "    \"calories\" => sum(calories[i] * optimal_diet[i] for i in 1:foods),\n",
    "    \"protein\" => sum(protein[i] * optimal_diet[i] for i in 1:foods),\n",
    "    \"total_fat\" => sum(total_fat[i] * optimal_diet[i] for i in 1:foods),\n",
    "    \"carbohydrate\" => sum(carbohydrate[i] * optimal_diet[i] for i in 1:foods),\n",
    "    \"fiber\" => sum(fiber[i] * optimal_diet[i] for i in 1:foods),\n",
    "    \"sugars\" => sum(sugars[i] * optimal_diet[i] for i in 1:foods),\n",
    "    \"saturated_fatty_acids\" => sum(saturated_fatty_acids[i] * optimal_diet[i] for i in 1:foods),\n",
    "    \"monounsaturated_fatty_acids\" => sum(monounsaturated_fatty_acids[i] * optimal_diet[i] for i in 1:foods),\n",
    "    \"polyunsaturated_fatty_acids\" => sum(polyunsaturated_fatty_acids[i] * optimal_diet[i] for i in 1:foods),\n",
    "    \"fatty_acids_total_trans\" => sum(fatty_acids_total_trans[i] * optimal_diet[i] for i in 1:foods),\n",
    "    \"vitamin_a\" => sum(vitamin_a[i] * optimal_diet[i] for i in 1:foods),\n",
    "    \"vitamin_b6\" => sum(vitamin_b6[i] * optimal_diet[i] for i in 1:foods),\n",
    "    \"vitamin_b12\" => sum(vitamin_b12[i] * optimal_diet[i] for i in 1:foods),\n",
    "    \"vitamin_c\" => sum(vitamin_c[i] * optimal_diet[i] for i in 1:foods),\n",
    "    \"vitamin_d\" => sum(vitamin_d[i] * optimal_diet[i] for i in 1:foods),\n",
    "    \"vitamin_e\" => sum(vitamin_e[i] * optimal_diet[i] for i in 1:foods),\n",
    "    \"vitamin_k\" => sum(vitamin_k[i] * optimal_diet[i] for i in 1:foods),\n",
    "    \"thiamin\" => sum(thiamin[i] * optimal_diet[i] for i in 1:foods),\n",
    "    \"riboflavin\" => sum(riboflavin[i] * optimal_diet[i] for i in 1:foods),\n",
    "    \"niacin\" => sum(niacin[i] * optimal_diet[i] for i in 1:foods),\n",
    "    \"folate\" => sum(folate[i] * optimal_diet[i] for i in 1:foods),\n",
    "    \"pantothenic_acid\" => sum(pantothenic_acid[i] * optimal_diet[i] for i in 1:foods),\n",
    "    \"calcium\" => sum(calcium[i] * optimal_diet[i] for i in 1:foods),\n",
    "    \"iron\" => sum(iron[i] * optimal_diet[i] for i in 1:foods),\n",
    "    \"magnesium\" => sum(magnesium[i] * optimal_diet[i] for i in 1:foods),\n",
    "    \"phosphorous\" => sum(phosphorous[i] * optimal_diet[i] for i in 1:foods),\n",
    "    \"potassium\" => sum(potassium[i] * optimal_diet[i] for i in 1:foods),\n",
    "    \"sodium\" => sum(sodium[i] * optimal_diet[i] for i in 1:foods),\n",
    "    \"zinc\" => sum(zinc[i] * optimal_diet[i] for i in 1:foods),\n",
    "    \"copper\" => sum(copper[i] * optimal_diet[i] for i in 1:foods),\n",
    "    \"manganese\" => sum(manganese[i] * optimal_diet[i] for i in 1:foods),\n",
    "    \"selenium\" => sum(selenium[i] * optimal_diet[i] for i in 1:foods),\n",
    "    \"choline\" => sum(choline[i] * optimal_diet[i] for i in 1:foods),\n",
    "    \"lutein_zeaxanthin\" => sum(lutein_zeaxanthin[i] * optimal_diet[i] for i in 1:foods),\n",
    "    \"lucopene\" => sum(lucopene[i] * optimal_diet[i] for i in 1:foods),\n",
    "    \"carotene_beta\" => sum(carotene_beta[i] * optimal_diet[i] for i in 1:foods),\n",
    "    \"cryptoxanthin_beta\" => sum(cryptoxanthin_beta[i] * optimal_diet[i] for i in 1:foods),\n",
    "    \"tocopherol_alpha\" => sum(tocopherol_alpha[i] * optimal_diet[i] for i in 1:foods),\n",
    "    \"alanine\" => sum(alanine[i] * optimal_diet[i] for i in 1:foods),\n",
    "    \"arginine\" => sum(arginine[i] * optimal_diet[i] for i in 1:foods),\n",
    "    \"aspartic_acid\" => sum(aspartic_acid[i] * optimal_diet[i] for i in 1:foods),\n",
    "    \"cystine\" => sum(cystine[i] * optimal_diet[i] for i in 1:foods),\n",
    "    \"glutamic_acid\" => sum(glutamic_acid[i] * optimal_diet[i] for i in 1:foods),\n",
    "    \"glycine\" => sum(glycine[i] * optimal_diet[i] for i in 1:foods),\n",
    "    \"histidine\" => sum(histidine[i] * optimal_diet[i] for i in 1:foods),\n",
    "    \"hydroxyproline\" => sum(hydroxyproline[i] * optimal_diet[i] for i in 1:foods),\n",
    "    \"isoleucine\" => sum(isoleucine[i] * optimal_diet[i] for i in 1:foods),\n",
    "    \"leucine\" => sum(leucine[i] * optimal_diet[i] for i in 1:foods),\n",
    "    \"lysine\" => sum(lysine[i] * optimal_diet[i] for i in 1:foods),\n",
    "    \"methionine\" => sum(methionine[i] * optimal_diet[i] for i in 1:foods),\n",
    "    \"phenylalanine\" => sum(phenylalanine[i] * optimal_diet[i] for i in 1:foods),\n",
    "    \"proline\" => sum(proline[i] * optimal_diet[i] for i in 1:foods),\n",
    "    \"serine\" => sum(serine[i] * optimal_diet[i] for i in 1:foods),\n",
    "    \"threonine\" => sum(threonine[i] * optimal_diet[i] for i in 1:foods),\n",
    "    \"tryptophan\" => sum(tryptophan[i] * optimal_diet[i] for i in 1:foods),\n",
    "    \"tyrosine\" => sum(tyrosine[i] * optimal_diet[i] for i in 1:foods),\n",
    "    \"valine\" => sum(valine[i] * optimal_diet[i] for i in 1:foods)\n",
    ")\n",
    "\n",
    "# Print the total nutrients rounded to three decimal places\n",
    "println(\"Total nutrients in the optimized diet:\\n\")\n",
    "for (nutrient, total) in total_nutrients\n",
    "    println(nutrient, \": \", round(total, digits=3))\n",
    "end"
   ]
  },
  {
   "cell_type": "code",
   "execution_count": 210,
   "id": "f2fddcb8-0aee-4338-8832-ea7ee67e8d3a",
   "metadata": {},
   "outputs": [
    {
     "ename": "LoadError",
     "evalue": "Result index of attribute MathOptInterface.VariablePrimal(1) out of bounds. There are currently 0 solution(s) in the model.",
     "output_type": "error",
     "traceback": [
      "Result index of attribute MathOptInterface.VariablePrimal(1) out of bounds. There are currently 0 solution(s) in the model.",
      "",
      "Stacktrace:",
      "  [1] check_result_index_bounds",
      "    @ ~/.julia/packages/MathOptInterface/BlCD1/src/attributes.jl:207 [inlined]",
      "  [2] get(model::Gurobi.Optimizer, attr::MathOptInterface.VariablePrimal, x::MathOptInterface.VariableIndex)",
      "    @ Gurobi ~/.julia/packages/Gurobi/W2h9r/src/MOI_wrapper/MOI_wrapper.jl:2893",
      "  [3] get(b::MathOptInterface.Bridges.LazyBridgeOptimizer{Gurobi.Optimizer}, attr::MathOptInterface.VariablePrimal, index::MathOptInterface.VariableIndex)",
      "    @ MathOptInterface.Bridges ~/.julia/packages/MathOptInterface/BlCD1/src/Bridges/bridge_optimizer.jl:1195",
      "  [4] get(model::MathOptInterface.Utilities.CachingOptimizer{MathOptInterface.Bridges.LazyBridgeOptimizer{Gurobi.Optimizer}, MathOptInterface.Utilities.UniversalFallback{MathOptInterface.Utilities.Model{Float64}}}, attr::MathOptInterface.VariablePrimal, index::MathOptInterface.VariableIndex)",
      "    @ MathOptInterface.Utilities ~/.julia/packages/MathOptInterface/BlCD1/src/Utilities/cachingoptimizer.jl:911",
      "  [5] _moi_get_result(::MathOptInterface.Utilities.CachingOptimizer{MathOptInterface.Bridges.LazyBridgeOptimizer{Gurobi.Optimizer}, MathOptInterface.Utilities.UniversalFallback{MathOptInterface.Utilities.Model{Float64}}}, ::MathOptInterface.VariablePrimal, ::Vararg{Any})",
      "    @ JuMP ~/.julia/packages/JuMP/ptoff/src/optimizer_interface.jl:640",
      "  [6] get(model::Model, attr::MathOptInterface.VariablePrimal, v::VariableRef)",
      "    @ JuMP ~/.julia/packages/JuMP/ptoff/src/optimizer_interface.jl:680",
      "  [7] value(v::VariableRef; result::Int64)",
      "    @ JuMP ~/.julia/packages/JuMP/ptoff/src/variables.jl:1080",
      "  [8] value",
      "    @ ~/.julia/packages/JuMP/ptoff/src/variables.jl:1079 [inlined]",
      "  [9] _broadcast_getindex_evalf",
      "    @ ./broadcast.jl:683 [inlined]",
      " [10] _broadcast_getindex",
      "    @ ./broadcast.jl:656 [inlined]",
      " [11] getindex",
      "    @ ./broadcast.jl:610 [inlined]",
      " [12] macro expansion",
      "    @ ./broadcast.jl:974 [inlined]",
      " [13] macro expansion",
      "    @ ./simdloop.jl:77 [inlined]",
      " [14] copyto!",
      "    @ ./broadcast.jl:973 [inlined]",
      " [15] copyto!",
      "    @ ./broadcast.jl:926 [inlined]",
      " [16] copy",
      "    @ ./broadcast.jl:898 [inlined]",
      " [17] materialize(bc::Base.Broadcast.Broadcasted{Base.Broadcast.DefaultArrayStyle{1}, Nothing, typeof(value), Tuple{Vector{VariableRef}}})",
      "    @ Base.Broadcast ./broadcast.jl:873",
      " [18] top-level scope",
      "    @ In[210]:1"
     ]
    }
   ],
   "source": [
    "x = JuMP.value.(x)\n",
    "total_price = sum(x[i] * price[i] for i in 1:foods)\n",
    "total_emissions = sum(x[i] * emissions[i] for i in 1:foods)\n",
    "println(total_price)\n",
    "println(total_emissions)"
   ]
  },
  {
   "cell_type": "code",
   "execution_count": null,
   "id": "63746867-5e91-4432-bd37-70a15a2f149f",
   "metadata": {},
   "outputs": [],
   "source": []
  },
  {
   "cell_type": "code",
   "execution_count": null,
   "id": "417c39be-4ebf-479c-a3b7-2a2fc0eb694e",
   "metadata": {},
   "outputs": [],
   "source": []
  },
  {
   "cell_type": "code",
   "execution_count": null,
   "id": "240f6507-8c33-4489-b573-7446f91bfd2e",
   "metadata": {},
   "outputs": [],
   "source": []
  }
 ],
 "metadata": {
  "kernelspec": {
   "display_name": "Julia 1.9.2",
   "language": "julia",
   "name": "julia-1.9"
  },
  "language_info": {
   "file_extension": ".jl",
   "mimetype": "application/julia",
   "name": "julia",
   "version": "1.9.2"
  }
 },
 "nbformat": 4,
 "nbformat_minor": 5
}
