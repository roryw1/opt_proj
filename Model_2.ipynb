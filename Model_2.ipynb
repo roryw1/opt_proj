{
 "cells": [
  {
   "cell_type": "markdown",
   "id": "a9c5e1c6",
   "metadata": {},
   "source": [
    "# Reading in data"
   ]
  },
  {
   "cell_type": "code",
   "execution_count": 3,
   "id": "1cbfbfe4",
   "metadata": {},
   "outputs": [
    {
     "name": "stderr",
     "output_type": "stream",
     "text": [
      "\u001b[36m\u001b[1m[ \u001b[22m\u001b[39m\u001b[36m\u001b[1mInfo: \u001b[22m\u001b[39mPrecompiling Gurobi [2e9cd046-0924-5485-92f1-d5272153d98b]\n",
      "\u001b[36m\u001b[1m[ \u001b[22m\u001b[39m\u001b[36m\u001b[1mInfo: \u001b[22m\u001b[39mPrecompiling StatsBase [2913bbd2-ae8a-5f71-8c99-4fb6c76f3a91]\n",
      "\u001b[36m\u001b[1m[ \u001b[22m\u001b[39m\u001b[36m\u001b[1mInfo: \u001b[22m\u001b[39mPrecompiling CSV [336ed68f-0bac-5ca0-87d4-7b16caf5d00b]\n",
      "\u001b[36m\u001b[1m[ \u001b[22m\u001b[39m\u001b[36m\u001b[1mInfo: \u001b[22m\u001b[39mPrecompiling DataFrames [a93c6f00-e57d-5684-b7b6-d8193f3e46c0]\n",
      "\u001b[36m\u001b[1m[ \u001b[22m\u001b[39m\u001b[36m\u001b[1mInfo: \u001b[22m\u001b[39mPrecompiling JuMP [4076af6c-e467-56ae-b986-b466b2749572]\n",
      "\u001b[36m\u001b[1m[ \u001b[22m\u001b[39m\u001b[36m\u001b[1mInfo: \u001b[22m\u001b[39mPrecompiling Distributions [31c24e10-a181-5473-b8eb-7969acd0382f]\n",
      "\u001b[36m\u001b[1m[ \u001b[22m\u001b[39m\u001b[36m\u001b[1mInfo: \u001b[22m\u001b[39mPrecompiling GLMNet [8d5ece8b-de18-5317-b113-243142960cc6]\n"
     ]
    }
   ],
   "source": [
    "using Gurobi, StatsBase, CSV, DataFrames, JuMP, LinearAlgebra, Distributions, Random, GLMNet, Printf"
   ]
  },
  {
   "cell_type": "code",
   "execution_count": 47,
   "id": "ed46d9be-5adf-4814-b60a-372a89549635",
   "metadata": {},
   "outputs": [],
   "source": [
    "data = CSV.read(\"final_df.csv\", DataFrame);"
   ]
  },
  {
   "cell_type": "code",
   "execution_count": 48,
   "id": "44539f70",
   "metadata": {},
   "outputs": [
    {
     "data": {
      "text/html": [
       "<div><div style = \"float: left;\"><span>5×78 DataFrame</span></div><div style = \"clear: both;\"></div></div><div class = \"data-frame\" style = \"overflow-x: scroll;\"><table class = \"data-frame\" style = \"margin-bottom: 6px;\"><thead><tr class = \"header\"><th class = \"rowNumber\" style = \"font-weight: bold; text-align: right;\">Row</th><th style = \"text-align: left;\">food</th><th style = \"text-align: left;\">emissions</th><th style = \"text-align: left;\">price</th><th style = \"text-align: left;\">serving_size</th><th style = \"text-align: left;\">calories</th><th style = \"text-align: left;\">total_fat</th><th style = \"text-align: left;\">saturated_fat</th><th style = \"text-align: left;\">cholesterol</th><th style = \"text-align: left;\">sodium</th><th style = \"text-align: left;\">choline</th><th style = \"text-align: left;\">folate</th><th style = \"text-align: left;\">folic_acid</th><th style = \"text-align: left;\">niacin</th><th style = \"text-align: left;\">pantothenic_acid</th><th style = \"text-align: left;\">riboflavin</th><th style = \"text-align: left;\">thiamin</th><th style = \"text-align: left;\">vitamin_a</th><th style = \"text-align: left;\">vitamin_a_rae</th><th style = \"text-align: left;\">carotene_alpha</th><th style = \"text-align: left;\">carotene_beta</th><th style = \"text-align: left;\">cryptoxanthin_beta</th><th style = \"text-align: left;\">lutein_zeaxanthin</th><th style = \"text-align: left;\">lucopene</th><th style = \"text-align: left;\">vitamin_b12</th><th style = \"text-align: left;\">vitamin_b6</th><th style = \"text-align: left;\">vitamin_c</th><th style = \"text-align: left;\">vitamin_d</th><th style = \"text-align: left;\">vitamin_e</th><th style = \"text-align: left;\">tocopherol_alpha</th><th style = \"text-align: left;\">vitamin_k</th><th style = \"text-align: left;\">calcium</th><th style = \"text-align: left;\">copper</th><th style = \"text-align: left;\">irom</th><th style = \"text-align: left;\">magnesium</th><th style = \"text-align: left;\">manganese</th><th style = \"text-align: left;\">phosphorous</th><th style = \"text-align: left;\">potassium</th><th style = \"text-align: left;\">selenium</th><th style = \"text-align: left;\">zink</th><th style = \"text-align: left;\">protein</th><th style = \"text-align: left;\">alanine</th><th style = \"text-align: left;\">arginine</th><th style = \"text-align: left;\">aspartic_acid</th><th style = \"text-align: left;\">cystine</th><th style = \"text-align: left;\">glutamic_acid</th><th style = \"text-align: left;\">glycine</th><th style = \"text-align: left;\">histidine</th><th style = \"text-align: left;\">hydroxyproline</th><th style = \"text-align: left;\">isoleucine</th><th style = \"text-align: left;\">leucine</th><th style = \"text-align: left;\">lysine</th><th style = \"text-align: left;\">methionine</th><th style = \"text-align: left;\">phenylalanine</th><th style = \"text-align: left;\">proline</th><th style = \"text-align: left;\">serine</th><th style = \"text-align: left;\">threonine</th><th style = \"text-align: left;\">tryptophan</th><th style = \"text-align: left;\">tyrosine</th><th style = \"text-align: left;\">valine</th><th style = \"text-align: left;\">carbohydrate</th><th style = \"text-align: left;\">fiber</th><th style = \"text-align: left;\">sugars</th><th style = \"text-align: left;\">fructose</th><th style = \"text-align: left;\">galactose</th><th style = \"text-align: left;\">glucose</th><th style = \"text-align: left;\">lactose</th><th style = \"text-align: left;\">maltose</th><th style = \"text-align: left;\">sucrose</th><th style = \"text-align: left;\">fat</th><th style = \"text-align: left;\">saturated_fatty_acids</th><th style = \"text-align: left;\">monounsaturated_fatty_acids</th><th style = \"text-align: left;\">polyunsaturated_fatty_acids</th><th style = \"text-align: left;\">fatty_acids_total_trans</th><th style = \"text-align: left;\">alcohol</th><th style = \"text-align: left;\">ash</th><th style = \"text-align: left;\">caffeine</th><th style = \"text-align: left;\">theobromine</th><th style = \"text-align: left;\">water</th></tr><tr class = \"subheader headerLastRow\"><th class = \"rowNumber\" style = \"font-weight: bold; text-align: right;\"></th><th title = \"String31\" style = \"text-align: left;\">String31</th><th title = \"Float64\" style = \"text-align: left;\">Float64</th><th title = \"Float64\" style = \"text-align: left;\">Float64</th><th title = \"Int64\" style = \"text-align: left;\">Int64</th><th title = \"Float64\" style = \"text-align: left;\">Float64</th><th title = \"Float64\" style = \"text-align: left;\">Float64</th><th title = \"Float64\" style = \"text-align: left;\">Float64</th><th title = \"Float64\" style = \"text-align: left;\">Float64</th><th title = \"Float64\" style = \"text-align: left;\">Float64</th><th title = \"Float64\" style = \"text-align: left;\">Float64</th><th title = \"Float64\" style = \"text-align: left;\">Float64</th><th title = \"Float64\" style = \"text-align: left;\">Float64</th><th title = \"Float64\" style = \"text-align: left;\">Float64</th><th title = \"Float64\" style = \"text-align: left;\">Float64</th><th title = \"Float64\" style = \"text-align: left;\">Float64</th><th title = \"Float64\" style = \"text-align: left;\">Float64</th><th title = \"Float64\" style = \"text-align: left;\">Float64</th><th title = \"Float64\" style = \"text-align: left;\">Float64</th><th title = \"Float64\" style = \"text-align: left;\">Float64</th><th title = \"Float64\" style = \"text-align: left;\">Float64</th><th title = \"Float64\" style = \"text-align: left;\">Float64</th><th title = \"Float64\" style = \"text-align: left;\">Float64</th><th title = \"Float64\" style = \"text-align: left;\">Float64</th><th title = \"Float64\" style = \"text-align: left;\">Float64</th><th title = \"Float64\" style = \"text-align: left;\">Float64</th><th title = \"Float64\" style = \"text-align: left;\">Float64</th><th title = \"Float64\" style = \"text-align: left;\">Float64</th><th title = \"Float64\" style = \"text-align: left;\">Float64</th><th title = \"Float64\" style = \"text-align: left;\">Float64</th><th title = \"Float64\" style = \"text-align: left;\">Float64</th><th title = \"Float64\" style = \"text-align: left;\">Float64</th><th title = \"Float64\" style = \"text-align: left;\">Float64</th><th title = \"Float64\" style = \"text-align: left;\">Float64</th><th title = \"Float64\" style = \"text-align: left;\">Float64</th><th title = \"Float64\" style = \"text-align: left;\">Float64</th><th title = \"Float64\" style = \"text-align: left;\">Float64</th><th title = \"Float64\" style = \"text-align: left;\">Float64</th><th title = \"Float64\" style = \"text-align: left;\">Float64</th><th title = \"Float64\" style = \"text-align: left;\">Float64</th><th title = \"Float64\" style = \"text-align: left;\">Float64</th><th title = \"Float64\" style = \"text-align: left;\">Float64</th><th title = \"Float64\" style = \"text-align: left;\">Float64</th><th title = \"Float64\" style = \"text-align: left;\">Float64</th><th title = \"Float64\" style = \"text-align: left;\">Float64</th><th title = \"Float64\" style = \"text-align: left;\">Float64</th><th title = \"Float64\" style = \"text-align: left;\">Float64</th><th title = \"Float64\" style = \"text-align: left;\">Float64</th><th title = \"Float64\" style = \"text-align: left;\">Float64</th><th title = \"Float64\" style = \"text-align: left;\">Float64</th><th title = \"Float64\" style = \"text-align: left;\">Float64</th><th title = \"Float64\" style = \"text-align: left;\">Float64</th><th title = \"Float64\" style = \"text-align: left;\">Float64</th><th title = \"Float64\" style = \"text-align: left;\">Float64</th><th title = \"Float64\" style = \"text-align: left;\">Float64</th><th title = \"Float64\" style = \"text-align: left;\">Float64</th><th title = \"Float64\" style = \"text-align: left;\">Float64</th><th title = \"Float64\" style = \"text-align: left;\">Float64</th><th title = \"Float64\" style = \"text-align: left;\">Float64</th><th title = \"Float64\" style = \"text-align: left;\">Float64</th><th title = \"Float64\" style = \"text-align: left;\">Float64</th><th title = \"Float64\" style = \"text-align: left;\">Float64</th><th title = \"Float64\" style = \"text-align: left;\">Float64</th><th title = \"Float64\" style = \"text-align: left;\">Float64</th><th title = \"Float64\" style = \"text-align: left;\">Float64</th><th title = \"Float64\" style = \"text-align: left;\">Float64</th><th title = \"Float64\" style = \"text-align: left;\">Float64</th><th title = \"Float64\" style = \"text-align: left;\">Float64</th><th title = \"Float64\" style = \"text-align: left;\">Float64</th><th title = \"Float64\" style = \"text-align: left;\">Float64</th><th title = \"Float64\" style = \"text-align: left;\">Float64</th><th title = \"Float64\" style = \"text-align: left;\">Float64</th><th title = \"Float64\" style = \"text-align: left;\">Float64</th><th title = \"Float64\" style = \"text-align: left;\">Float64</th><th title = \"Float64\" style = \"text-align: left;\">Float64</th><th title = \"Float64\" style = \"text-align: left;\">Float64</th><th title = \"Float64\" style = \"text-align: left;\">Float64</th><th title = \"Float64\" style = \"text-align: left;\">Float64</th><th title = \"Float64\" style = \"text-align: left;\">Float64</th></tr></thead><tbody><tr><td class = \"rowNumber\" style = \"font-weight: bold; text-align: right;\">1</td><td style = \"text-align: left;\">Wheat &amp; Rye (Bread)</td><td style = \"text-align: right;\">0.0014</td><td style = \"text-align: right;\">0.00145</td><td style = \"text-align: right;\">100</td><td style = \"text-align: right;\">2.67</td><td style = \"text-align: right;\">0.032</td><td style = \"text-align: right;\">0.008</td><td style = \"text-align: right;\">0.0</td><td style = \"text-align: right;\">5.08</td><td style = \"text-align: right;\">0.187</td><td style = \"text-align: right;\">0.85</td><td style = \"text-align: right;\">0.2</td><td style = \"text-align: right;\">0.0562</td><td style = \"text-align: right;\">0.0</td><td style = \"text-align: right;\">0.00253</td><td style = \"text-align: right;\">0.00415</td><td style = \"text-align: right;\">0.02</td><td style = \"text-align: right;\">0.0</td><td style = \"text-align: right;\">0.0</td><td style = \"text-align: right;\">0.01</td><td style = \"text-align: right;\">0.0</td><td style = \"text-align: right;\">0.44</td><td style = \"text-align: right;\">0.0</td><td style = \"text-align: right;\">0.0</td><td style = \"text-align: right;\">0.00111</td><td style = \"text-align: right;\">0.002</td><td style = \"text-align: right;\">0.0</td><td style = \"text-align: right;\">0.0019</td><td style = \"text-align: right;\">0.0019</td><td style = \"text-align: right;\">0.049</td><td style = \"text-align: right;\">1.33</td><td style = \"text-align: right;\">0.00159</td><td style = \"text-align: right;\">0.0349</td><td style = \"text-align: right;\">0.45</td><td style = \"text-align: right;\">0.01177</td><td style = \"text-align: right;\">1.49</td><td style = \"text-align: right;\">1.77</td><td style = \"text-align: right;\">0.288</td><td style = \"text-align: right;\">0.0119</td><td style = \"text-align: right;\">0.1072</td><td style = \"text-align: right;\">0.0</td><td style = \"text-align: right;\">0.0</td><td style = \"text-align: right;\">0.0</td><td style = \"text-align: right;\">0.0</td><td style = \"text-align: right;\">0.0</td><td style = \"text-align: right;\">0.0</td><td style = \"text-align: right;\">0.0</td><td style = \"text-align: right;\">0.0</td><td style = \"text-align: right;\">0.0</td><td style = \"text-align: right;\">0.0</td><td style = \"text-align: right;\">0.0</td><td style = \"text-align: right;\">0.0</td><td style = \"text-align: right;\">0.0</td><td style = \"text-align: right;\">0.0</td><td style = \"text-align: right;\">0.0</td><td style = \"text-align: right;\">0.0</td><td style = \"text-align: right;\">0.0</td><td style = \"text-align: right;\">0.0</td><td style = \"text-align: right;\">0.0</td><td style = \"text-align: right;\">0.4868</td><td style = \"text-align: right;\">0.04</td><td style = \"text-align: right;\">0.0591</td><td style = \"text-align: right;\">0.0245</td><td style = \"text-align: right;\">0.0</td><td style = \"text-align: right;\">0.0178</td><td style = \"text-align: right;\">0.0</td><td style = \"text-align: right;\">0.0168</td><td style = \"text-align: right;\">0.0</td><td style = \"text-align: right;\">0.0324</td><td style = \"text-align: right;\">0.00777</td><td style = \"text-align: right;\">0.00607</td><td style = \"text-align: right;\">0.01499</td><td style = \"text-align: right;\">0.0</td><td style = \"text-align: right;\">0.0</td><td style = \"text-align: right;\">0.0216</td><td style = \"text-align: right;\">0.0</td><td style = \"text-align: right;\">0.0</td><td style = \"text-align: right;\">0.352</td></tr><tr><td class = \"rowNumber\" style = \"font-weight: bold; text-align: right;\">2</td><td style = \"text-align: left;\">Maize (Meal)</td><td style = \"text-align: right;\">0.0011</td><td style = \"text-align: right;\">0.00064</td><td style = \"text-align: right;\">100</td><td style = \"text-align: right;\">3.45</td><td style = \"text-align: right;\">0.016</td><td style = \"text-align: right;\">0.003</td><td style = \"text-align: right;\">0.0</td><td style = \"text-align: right;\">0.04</td><td style = \"text-align: right;\">0.378</td><td style = \"text-align: right;\">0.08</td><td style = \"text-align: right;\">0.0</td><td style = \"text-align: right;\">0.06269</td><td style = \"text-align: right;\">0.00145</td><td style = \"text-align: right;\">0.00114</td><td style = \"text-align: right;\">0.0037</td><td style = \"text-align: right;\">0.0</td><td style = \"text-align: right;\">0.0</td><td style = \"text-align: right;\">0.0</td><td style = \"text-align: right;\">0.0</td><td style = \"text-align: right;\">0.0</td><td style = \"text-align: right;\">1.6</td><td style = \"text-align: right;\">0.0</td><td style = \"text-align: right;\">0.0</td><td style = \"text-align: right;\">0.00396</td><td style = \"text-align: right;\">0.0</td><td style = \"text-align: right;\">0.0</td><td style = \"text-align: right;\">0.0057</td><td style = \"text-align: right;\">0.0057</td><td style = \"text-align: right;\">0.022</td><td style = \"text-align: right;\">0.32</td><td style = \"text-align: right;\">0.00343</td><td style = \"text-align: right;\">0.0268</td><td style = \"text-align: right;\">0.96</td><td style = \"text-align: right;\">0.01034</td><td style = \"text-align: right;\">2.96</td><td style = \"text-align: right;\">3.09</td><td style = \"text-align: right;\">0.377</td><td style = \"text-align: right;\">0.02</td><td style = \"text-align: right;\">0.105</td><td style = \"text-align: right;\">0.00409</td><td style = \"text-align: right;\">0.00526</td><td style = \"text-align: right;\">0.00655</td><td style = \"text-align: right;\">0.00232</td><td style = \"text-align: right;\">0.02741</td><td style = \"text-align: right;\">0.0038</td><td style = \"text-align: right;\">0.00236</td><td style = \"text-align: right;\">0.0</td><td style = \"text-align: right;\">0.00383</td><td style = \"text-align: right;\">0.00713</td><td style = \"text-align: right;\">0.00391</td><td style = \"text-align: right;\">0.00202</td><td style = \"text-align: right;\">0.00589</td><td style = \"text-align: right;\">0.01247</td><td style = \"text-align: right;\">0.00443</td><td style = \"text-align: right;\">0.00356</td><td style = \"text-align: right;\">0.00175</td><td style = \"text-align: right;\">0.00301</td><td style = \"text-align: right;\">0.00515</td><td style = \"text-align: right;\">0.7452</td><td style = \"text-align: right;\">0.101</td><td style = \"text-align: right;\">0.008</td><td style = \"text-align: right;\">0.0</td><td style = \"text-align: right;\">0.0</td><td style = \"text-align: right;\">0.0</td><td style = \"text-align: right;\">0.0</td><td style = \"text-align: right;\">0.0</td><td style = \"text-align: right;\">0.0</td><td style = \"text-align: right;\">0.016</td><td style = \"text-align: right;\">0.00335</td><td style = \"text-align: right;\">0.00205</td><td style = \"text-align: right;\">0.00771</td><td style = \"text-align: right;\">0.0</td><td style = \"text-align: right;\">0.0</td><td style = \"text-align: right;\">0.0128</td><td style = \"text-align: right;\">0.0</td><td style = \"text-align: right;\">0.0</td><td style = \"text-align: right;\">0.1211</td></tr><tr><td class = \"rowNumber\" style = \"font-weight: bold; text-align: right;\">3</td><td style = \"text-align: left;\">Barley (Beer)</td><td style = \"text-align: right;\">0.0011</td><td style = \"text-align: right;\">0.00148</td><td style = \"text-align: right;\">100</td><td style = \"text-align: right;\">0.41</td><td style = \"text-align: right;\">0.0</td><td style = \"text-align: right;\">0.0</td><td style = \"text-align: right;\">0.0</td><td style = \"text-align: right;\">0.0</td><td style = \"text-align: right;\">0.0</td><td style = \"text-align: right;\">0.0</td><td style = \"text-align: right;\">0.0</td><td style = \"text-align: right;\">0.0</td><td style = \"text-align: right;\">0.0</td><td style = \"text-align: right;\">0.0</td><td style = \"text-align: right;\">0.0</td><td style = \"text-align: right;\">0.0</td><td style = \"text-align: right;\">0.0</td><td style = \"text-align: right;\">0.0</td><td style = \"text-align: right;\">0.0</td><td style = \"text-align: right;\">0.0</td><td style = \"text-align: right;\">0.0</td><td style = \"text-align: right;\">0.0</td><td style = \"text-align: right;\">0.0</td><td style = \"text-align: right;\">0.0</td><td style = \"text-align: right;\">0.0</td><td style = \"text-align: right;\">0.0</td><td style = \"text-align: right;\">0.0</td><td style = \"text-align: right;\">0.0</td><td style = \"text-align: right;\">0.0</td><td style = \"text-align: right;\">0.0</td><td style = \"text-align: right;\">0.0</td><td style = \"text-align: right;\">0.0</td><td style = \"text-align: right;\">0.0</td><td style = \"text-align: right;\">0.0</td><td style = \"text-align: right;\">0.0</td><td style = \"text-align: right;\">0.0</td><td style = \"text-align: right;\">0.0</td><td style = \"text-align: right;\">0.0</td><td style = \"text-align: right;\">0.0036</td><td style = \"text-align: right;\">0.0</td><td style = \"text-align: right;\">0.0</td><td style = \"text-align: right;\">0.0</td><td style = \"text-align: right;\">0.0</td><td style = \"text-align: right;\">0.0</td><td style = \"text-align: right;\">0.0</td><td style = \"text-align: right;\">0.0</td><td style = \"text-align: right;\">0.0</td><td style = \"text-align: right;\">0.0</td><td style = \"text-align: right;\">0.0</td><td style = \"text-align: right;\">0.0</td><td style = \"text-align: right;\">0.0</td><td style = \"text-align: right;\">0.0</td><td style = \"text-align: right;\">0.0</td><td style = \"text-align: right;\">0.0</td><td style = \"text-align: right;\">0.0</td><td style = \"text-align: right;\">0.0</td><td style = \"text-align: right;\">0.0</td><td style = \"text-align: right;\">0.0</td><td style = \"text-align: right;\">0.0297</td><td style = \"text-align: right;\">0.0</td><td style = \"text-align: right;\">0.0</td><td style = \"text-align: right;\">0.0</td><td style = \"text-align: right;\">0.0</td><td style = \"text-align: right;\">0.0</td><td style = \"text-align: right;\">0.0</td><td style = \"text-align: right;\">0.0</td><td style = \"text-align: right;\">0.0</td><td style = \"text-align: right;\">0.0</td><td style = \"text-align: right;\">0.0</td><td style = \"text-align: right;\">0.0</td><td style = \"text-align: right;\">0.0</td><td style = \"text-align: right;\">0.0</td><td style = \"text-align: right;\">0.039</td><td style = \"text-align: right;\">0.0011</td><td style = \"text-align: right;\">0.0</td><td style = \"text-align: right;\">0.0</td><td style = \"text-align: right;\">0.9277</td></tr><tr><td class = \"rowNumber\" style = \"font-weight: bold; text-align: right;\">4</td><td style = \"text-align: left;\">Oats</td><td style = \"text-align: right;\">0.0016</td><td style = \"text-align: right;\">0.00197</td><td style = \"text-align: right;\">100</td><td style = \"text-align: right;\">3.89</td><td style = \"text-align: right;\">0.069</td><td style = \"text-align: right;\">0.012</td><td style = \"text-align: right;\">0.0</td><td style = \"text-align: right;\">0.02</td><td style = \"text-align: right;\">0.0</td><td style = \"text-align: right;\">0.56</td><td style = \"text-align: right;\">0.0</td><td style = \"text-align: right;\">0.00961</td><td style = \"text-align: right;\">0.01349</td><td style = \"text-align: right;\">0.00139</td><td style = \"text-align: right;\">0.00763</td><td style = \"text-align: right;\">0.0</td><td style = \"text-align: right;\">0.0</td><td style = \"text-align: right;\">0.0</td><td style = \"text-align: right;\">0.0</td><td style = \"text-align: right;\">0.0</td><td style = \"text-align: right;\">0.0</td><td style = \"text-align: right;\">0.0</td><td style = \"text-align: right;\">0.0</td><td style = \"text-align: right;\">0.00119</td><td style = \"text-align: right;\">0.0</td><td style = \"text-align: right;\">0.0</td><td style = \"text-align: right;\">0.0</td><td style = \"text-align: right;\">0.0</td><td style = \"text-align: right;\">0.0</td><td style = \"text-align: right;\">0.54</td><td style = \"text-align: right;\">0.00626</td><td style = \"text-align: right;\">0.0472</td><td style = \"text-align: right;\">1.77</td><td style = \"text-align: right;\">0.04916</td><td style = \"text-align: right;\">5.23</td><td style = \"text-align: right;\">4.29</td><td style = \"text-align: right;\">0.0</td><td style = \"text-align: right;\">0.0397</td><td style = \"text-align: right;\">0.1689</td><td style = \"text-align: right;\">0.00881</td><td style = \"text-align: right;\">0.01192</td><td style = \"text-align: right;\">0.01448</td><td style = \"text-align: right;\">0.00408</td><td style = \"text-align: right;\">0.03712</td><td style = \"text-align: right;\">0.00841</td><td style = \"text-align: right;\">0.00405</td><td style = \"text-align: right;\">0.0</td><td style = \"text-align: right;\">0.00694</td><td style = \"text-align: right;\">0.01284</td><td style = \"text-align: right;\">0.00701</td><td style = \"text-align: right;\">0.00312</td><td style = \"text-align: right;\">0.00895</td><td style = \"text-align: right;\">0.00934</td><td style = \"text-align: right;\">0.0075</td><td style = \"text-align: right;\">0.00575</td><td style = \"text-align: right;\">0.00234</td><td style = \"text-align: right;\">0.00573</td><td style = \"text-align: right;\">0.00937</td><td style = \"text-align: right;\">0.6627</td><td style = \"text-align: right;\">0.106</td><td style = \"text-align: right;\">0.0</td><td style = \"text-align: right;\">0.0</td><td style = \"text-align: right;\">0.0</td><td style = \"text-align: right;\">0.0</td><td style = \"text-align: right;\">0.0</td><td style = \"text-align: right;\">0.0</td><td style = \"text-align: right;\">0.0</td><td style = \"text-align: right;\">0.069</td><td style = \"text-align: right;\">0.01217</td><td style = \"text-align: right;\">0.02178</td><td style = \"text-align: right;\">0.02535</td><td style = \"text-align: right;\">0.0</td><td style = \"text-align: right;\">0.0</td><td style = \"text-align: right;\">0.0172</td><td style = \"text-align: right;\">0.0</td><td style = \"text-align: right;\">0.0</td><td style = \"text-align: right;\">0.0822</td></tr><tr><td class = \"rowNumber\" style = \"font-weight: bold; text-align: right;\">5</td><td style = \"text-align: left;\">Rice</td><td style = \"text-align: right;\">0.004</td><td style = \"text-align: right;\">0.00134</td><td style = \"text-align: right;\">100</td><td style = \"text-align: right;\">3.57</td><td style = \"text-align: right;\">0.011</td><td style = \"text-align: right;\">0.002</td><td style = \"text-align: right;\">0.0</td><td style = \"text-align: right;\">0.07</td><td style = \"text-align: right;\">0.35</td><td style = \"text-align: right;\">0.95</td><td style = \"text-align: right;\">0.0</td><td style = \"text-align: right;\">0.06733</td><td style = \"text-align: right;\">0.01074</td><td style = \"text-align: right;\">0.00262</td><td style = \"text-align: right;\">0.00115</td><td style = \"text-align: right;\">0.19</td><td style = \"text-align: right;\">0.01</td><td style = \"text-align: right;\">0.0</td><td style = \"text-align: right;\">0.11</td><td style = \"text-align: right;\">0.0</td><td style = \"text-align: right;\">2.2</td><td style = \"text-align: right;\">0.0</td><td style = \"text-align: right;\">0.0</td><td style = \"text-align: right;\">0.00391</td><td style = \"text-align: right;\">0.0</td><td style = \"text-align: right;\">0.0</td><td style = \"text-align: right;\">0.0082</td><td style = \"text-align: right;\">0.0082</td><td style = \"text-align: right;\">0.019</td><td style = \"text-align: right;\">0.21</td><td style = \"text-align: right;\">0.00524</td><td style = \"text-align: right;\">0.0196</td><td style = \"text-align: right;\">1.77</td><td style = \"text-align: right;\">0.01329</td><td style = \"text-align: right;\">4.33</td><td style = \"text-align: right;\">4.27</td><td style = \"text-align: right;\">0.028</td><td style = \"text-align: right;\">0.0596</td><td style = \"text-align: right;\">0.1473</td><td style = \"text-align: right;\">0.00825</td><td style = \"text-align: right;\">0.01136</td><td style = \"text-align: right;\">0.01419</td><td style = \"text-align: right;\">0.00174</td><td style = \"text-align: right;\">0.02565</td><td style = \"text-align: right;\">0.00672</td><td style = \"text-align: right;\">0.00384</td><td style = \"text-align: right;\">0.0</td><td style = \"text-align: right;\">0.00618</td><td style = \"text-align: right;\">0.01018</td><td style = \"text-align: right;\">0.00629</td><td style = \"text-align: right;\">0.00438</td><td style = \"text-align: right;\">0.00721</td><td style = \"text-align: right;\">0.00519</td><td style = \"text-align: right;\">0.00778</td><td style = \"text-align: right;\">0.00469</td><td style = \"text-align: right;\">0.00179</td><td style = \"text-align: right;\">0.00622</td><td style = \"text-align: right;\">0.00858</td><td style = \"text-align: right;\">0.749</td><td style = \"text-align: right;\">0.062</td><td style = \"text-align: right;\">0.025</td><td style = \"text-align: right;\">0.0</td><td style = \"text-align: right;\">0.0</td><td style = \"text-align: right;\">0.0</td><td style = \"text-align: right;\">0.0</td><td style = \"text-align: right;\">0.0</td><td style = \"text-align: right;\">0.0067</td><td style = \"text-align: right;\">0.0108</td><td style = \"text-align: right;\">0.00156</td><td style = \"text-align: right;\">0.00159</td><td style = \"text-align: right;\">0.00676</td><td style = \"text-align: right;\">0.0</td><td style = \"text-align: right;\">0.0</td><td style = \"text-align: right;\">0.0153</td><td style = \"text-align: right;\">0.0</td><td style = \"text-align: right;\">0.0</td><td style = \"text-align: right;\">0.0776</td></tr></tbody></table></div>"
      ],
      "text/latex": [
       "\\begin{tabular}{r|cccccccc}\n",
       "\t& food & emissions & price & serving\\_size & calories & total\\_fat & saturated\\_fat & \\\\\n",
       "\t\\hline\n",
       "\t& String31 & Float64 & Float64 & Int64 & Float64 & Float64 & Float64 & \\\\\n",
       "\t\\hline\n",
       "\t1 & Wheat \\& Rye (Bread) & 0.0014 & 0.00145 & 100 & 2.67 & 0.032 & 0.008 & $\\dots$ \\\\\n",
       "\t2 & Maize (Meal) & 0.0011 & 0.00064 & 100 & 3.45 & 0.016 & 0.003 & $\\dots$ \\\\\n",
       "\t3 & Barley (Beer) & 0.0011 & 0.00148 & 100 & 0.41 & 0.0 & 0.0 & $\\dots$ \\\\\n",
       "\t4 & Oats & 0.0016 & 0.00197 & 100 & 3.89 & 0.069 & 0.012 & $\\dots$ \\\\\n",
       "\t5 & Rice & 0.004 & 0.00134 & 100 & 3.57 & 0.011 & 0.002 & $\\dots$ \\\\\n",
       "\\end{tabular}\n"
      ],
      "text/plain": [
       "\u001b[1m5×78 DataFrame\u001b[0m\n",
       "\u001b[1m Row \u001b[0m│\u001b[1m food                \u001b[0m\u001b[1m emissions \u001b[0m\u001b[1m price   \u001b[0m\u001b[1m serving_size \u001b[0m\u001b[1m calories \u001b[0m\u001b[1m total_\u001b[0m ⋯\n",
       "     │\u001b[90m String31            \u001b[0m\u001b[90m Float64   \u001b[0m\u001b[90m Float64 \u001b[0m\u001b[90m Int64        \u001b[0m\u001b[90m Float64  \u001b[0m\u001b[90m Float6\u001b[0m ⋯\n",
       "─────┼──────────────────────────────────────────────────────────────────────────\n",
       "   1 │ Wheat & Rye (Bread)     0.0014  0.00145           100      2.67      0. ⋯\n",
       "   2 │ Maize (Meal)            0.0011  0.00064           100      3.45      0.\n",
       "   3 │ Barley (Beer)           0.0011  0.00148           100      0.41      0.\n",
       "   4 │ Oats                    0.0016  0.00197           100      3.89      0.\n",
       "   5 │ Rice                    0.004   0.00134           100      3.57      0. ⋯\n",
       "\u001b[36m                                                              73 columns omitted\u001b[0m"
      ]
     },
     "execution_count": 48,
     "metadata": {},
     "output_type": "execute_result"
    }
   ],
   "source": [
    "first(data, 5)"
   ]
  },
  {
   "cell_type": "markdown",
   "id": "c0f7438e-a55d-4b58-a552-35ea45a2b016",
   "metadata": {},
   "source": [
    "## Price data"
   ]
  },
  {
   "cell_type": "code",
   "execution_count": 49,
   "id": "ca93e0f1-f7d7-45fb-8047-9e426eded7c4",
   "metadata": {},
   "outputs": [],
   "source": [
    "price = data[!, \"price\"];"
   ]
  },
  {
   "cell_type": "markdown",
   "id": "869602c8",
   "metadata": {},
   "source": [
    "## Food data"
   ]
  },
  {
   "cell_type": "code",
   "execution_count": 50,
   "id": "8d3918da",
   "metadata": {},
   "outputs": [],
   "source": [
    "food_products = data[!, \"food\"];"
   ]
  },
  {
   "cell_type": "code",
   "execution_count": 51,
   "id": "1d17a9e5",
   "metadata": {},
   "outputs": [],
   "source": [
    "foods = size(food_products, 1);"
   ]
  },
  {
   "cell_type": "markdown",
   "id": "c80dbf18",
   "metadata": {},
   "source": [
    "### Emissions data"
   ]
  },
  {
   "cell_type": "code",
   "execution_count": 52,
   "id": "dcc1f7a6",
   "metadata": {},
   "outputs": [],
   "source": [
    "emissions = data[!, \"emissions\"];"
   ]
  },
  {
   "cell_type": "markdown",
   "id": "8c0a7bdc",
   "metadata": {},
   "source": [
    "### Nutritional data"
   ]
  },
  {
   "cell_type": "code",
   "execution_count": 53,
   "id": "1b9920fc",
   "metadata": {},
   "outputs": [],
   "source": [
    "calories = data[!, \"calories\"];"
   ]
  },
  {
   "cell_type": "markdown",
   "id": "4ca8c118",
   "metadata": {},
   "source": [
    "#### Macro nutrients"
   ]
  },
  {
   "cell_type": "code",
   "execution_count": 54,
   "id": "492e81ba",
   "metadata": {},
   "outputs": [],
   "source": [
    "protein = data[!, \"protein\"]\n",
    "total_fat = data[!, \"total_fat\"]\n",
    "carbohydrate = data[!, \"carbohydrate\"]\n",
    "fiber = data[!, \"fiber\"]\n",
    "sugars = data[!, \"sugars\"]\n",
    "saturated_fatty_acids = data[!, \"saturated_fatty_acids\"]\n",
    "monounsaturated_fatty_acids = data[!, \"monounsaturated_fatty_acids\"]\n",
    "polyunsaturated_fatty_acids = data[!, \"polyunsaturated_fatty_acids\"]\n",
    "fatty_acids_total_trans = data[!, \"fatty_acids_total_trans\"];"
   ]
  },
  {
   "cell_type": "markdown",
   "id": "361f456c",
   "metadata": {},
   "source": [
    "#### Macro nutrients"
   ]
  },
  {
   "cell_type": "code",
   "execution_count": 55,
   "id": "9094742c",
   "metadata": {},
   "outputs": [],
   "source": [
    "vitamin_a = data[!, \"vitamin_a\"]\n",
    "vitamin_b6 = data[!, \"vitamin_b6\"]\n",
    "vitamin_b12 = data[!, \"vitamin_b12\"]\n",
    "vitamin_c = data[!, \"vitamin_c\"]\n",
    "vitamin_d = data[!, \"vitamin_d\"]\n",
    "vitamin_e = data[!, \"vitamin_e\"]\n",
    "vitamin_k = data[!, \"vitamin_k\"]\n",
    "thiamin = data[!, \"thiamin\"]\n",
    "riboflavin = data[!, \"riboflavin\"]\n",
    "niacin = data[!, \"niacin\"]\n",
    "folate = data[!, \"folate\"]\n",
    "pantothenic_acid = data[!, \"pantothenic_acid\"]\n",
    "calcium = data[!, \"calcium\"]\n",
    "iron = data[!, \"irom\"]\n",
    "magnesium = data[!, \"magnesium\"]\n",
    "phosphorous = data[!, \"phosphorous\"]\n",
    "potassium = data[!, \"potassium\"]\n",
    "sodium = data[!, \"sodium\"]\n",
    "zinc = data[!, \"zink\"]\n",
    "copper = data[!, \"copper\"]\n",
    "manganese = data[!, \"manganese\"]\n",
    "selenium = data[!, \"selenium\"]\n",
    "choline = data[!, \"choline\"]\n",
    "lutein_zeaxanthin = data[!, \"lutein_zeaxanthin\"]\n",
    "lucopene = data[!, \"lucopene\"]\n",
    "carotene_beta = data[!, \"carotene_beta\"]\n",
    "cryptoxanthin_beta = data[!, \"cryptoxanthin_beta\"]\n",
    "tocopherol_alpha = data[!, \"tocopherol_alpha\"];"
   ]
  },
  {
   "cell_type": "markdown",
   "id": "103690a0",
   "metadata": {},
   "source": [
    "#### Amino Acids"
   ]
  },
  {
   "cell_type": "code",
   "execution_count": 56,
   "id": "64352de5",
   "metadata": {},
   "outputs": [],
   "source": [
    "alanine = data[!, \"alanine\"]\n",
    "arginine = data[!, \"arginine\"]\n",
    "aspartic_acid = data[!, \"aspartic_acid\"]\n",
    "cystine = data[!, \"cystine\"]\n",
    "glutamic_acid = data[!, \"glutamic_acid\"]\n",
    "glycine = data[!, \"glycine\"]\n",
    "histidine = data[!, \"histidine\"]\n",
    "hydroxyproline = data[!, \"hydroxyproline\"]\n",
    "isoleucine = data[!, \"isoleucine\"]\n",
    "leucine = data[!, \"leucine\"]\n",
    "lysine = data[!, \"lysine\"]\n",
    "methionine = data[!, \"methionine\"]\n",
    "phenylalanine = data[!, \"phenylalanine\"]\n",
    "proline = data[!, \"proline\"]\n",
    "serine = data[!, \"serine\"]\n",
    "threonine = data[!, \"threonine\"]\n",
    "tryptophan = data[!, \"tryptophan\"]\n",
    "tyrosine = data[!, \"tyrosine\"]\n",
    "valine = data[!, \"valine\"];"
   ]
  },
  {
   "cell_type": "markdown",
   "id": "a67bd36e",
   "metadata": {},
   "source": [
    "#### Other nutrients"
   ]
  },
  {
   "cell_type": "code",
   "execution_count": 57,
   "id": "eabd49aa",
   "metadata": {},
   "outputs": [],
   "source": [
    "water = data[!, \"water\"]\n",
    "caffeine = data[!, \"caffeine\"]\n",
    "theobromine = data[!, \"theobromine\"]\n",
    "ash = data[!, \"ash\"]\n",
    "alcohol = data[!, \"alcohol\"];"
   ]
  },
  {
   "cell_type": "markdown",
   "id": "e251c1f5",
   "metadata": {},
   "source": [
    "# Creating model"
   ]
  },
  {
   "cell_type": "code",
   "execution_count": 82,
   "id": "0ebbb7e6-2d29-4a53-b428-11d271b1e588",
   "metadata": {},
   "outputs": [],
   "source": [
    "lambda = 5;"
   ]
  },
  {
   "cell_type": "code",
   "execution_count": 83,
   "id": "f2c036fe",
   "metadata": {},
   "outputs": [
    {
     "name": "stdout",
     "output_type": "stream",
     "text": [
      "Set parameter Username\n",
      "Academic license - for non-commercial use only - expires 2024-08-22\n"
     ]
    }
   ],
   "source": [
    "model = Model(Gurobi.Optimizer);"
   ]
  },
  {
   "cell_type": "markdown",
   "id": "1aa2c797",
   "metadata": {},
   "source": [
    "## Decision variables"
   ]
  },
  {
   "cell_type": "code",
   "execution_count": 84,
   "id": "c641ea33",
   "metadata": {},
   "outputs": [],
   "source": [
    "@variable(model, x[1:foods] >= 0);"
   ]
  },
  {
   "cell_type": "markdown",
   "id": "f81b49e2",
   "metadata": {},
   "source": [
    "## Objective"
   ]
  },
  {
   "cell_type": "code",
   "execution_count": 85,
   "id": "9828b2d0",
   "metadata": {},
   "outputs": [],
   "source": [
    "# Dual objective function (minimize total carbon emissions and cost)\n",
    "@objective(model, Min, sum(emissions[i] * x[i] for i in 1:foods) \n",
    "    + lambda * sum(price[i] * x[i] for i in 1:foods));"
   ]
  },
  {
   "cell_type": "markdown",
   "id": "dfc1fd7a",
   "metadata": {},
   "source": [
    "## Contraints"
   ]
  },
  {
   "cell_type": "markdown",
   "id": "4a0ee2dd",
   "metadata": {},
   "source": [
    "### Macro nutrient constraints"
   ]
  },
  {
   "cell_type": "code",
   "execution_count": 86,
   "id": "b5ad5ac6",
   "metadata": {
    "scrolled": true
   },
   "outputs": [],
   "source": [
    "@constraint(model, sum(protein[i] * x[i] for i in 1:foods) >= 50)   # Protein minimum 50g\n",
    "@constraint(model, sum(total_fat[i] * x[i] for i in 1:foods) <= 78)       # Fat maximum 78g\n",
    "@constraint(model, sum(carbohydrate[i] * x[i] for i in 1:foods) <= 275); # Carbohydrate maximum 275g"
   ]
  },
  {
   "cell_type": "markdown",
   "id": "c8cead49",
   "metadata": {},
   "source": [
    "### Micro nutrient constraints"
   ]
  },
  {
   "cell_type": "code",
   "execution_count": 87,
   "id": "2f0f2d6e",
   "metadata": {},
   "outputs": [],
   "source": [
    "@constraint(model, sum(calcium[i] * x[i] for i in 1:foods) <= 1300) # Calcium maximum 1300mg\n",
    "@constraint(model, sum(iron[i] * x[i] for i in 1:foods) >= 18)      # Iron minimum 18mg\n",
    "@constraint(model, sum(magnesium[i] * x[i] for i in 1:foods) <= 420) # Magnesium maximum 420mg\n",
    "@constraint(model, sum(phosphorous[i] * x[i] for i in 1:foods) <= 1250) # Phosphorus maximum 1250mg\n",
    "@constraint(model, sum(potassium[i] * x[i] for i in 1:foods) >= 4700) # Potassium minimum 4700mg\n",
    "@constraint(model, sum(sodium[i] * x[i] for i in 1:foods) <= 2300)  # Sodium maximum 2300mg\n",
    "@constraint(model, sum(zinc[i] * x[i] for i in 1:foods) <= 11)      # Zinc maximum 11mg\n",
    "@constraint(model, sum(vitamin_a[i] * x[i] for i in 1:foods) <= 900) # Vitamin A maximum 900mcg RAE\n",
    "@constraint(model, sum(vitamin_c[i] * x[i] for i in 1:foods) >= 90)  # Vitamin C minimum 90mg\n",
    "@constraint(model, sum(vitamin_d[i] * x[i] for i in 1:foods) >= 20)  # Vitamin D minimum 20mcg\n",
    "@constraint(model, sum(vitamin_e[i] * x[i] for i in 1:foods) <= 15)  # Vitamin E maximum 15mg alpha-tocopherol\n",
    "@constraint(model, sum(vitamin_k[i] * x[i] for i in 1:foods) >= 120) # Vitamin K minimum 120mcg\n",
    "@constraint(model, sum(riboflavin[i] * x[i] for i in 1:foods) <= 1.3) # Riboflavin maximum 1.3mg\n",
    "@constraint(model, sum(niacin[i] * x[i] for i in 1:foods) <= 16)    # Niacin maximum 16mg NE\n",
    "@constraint(model, sum(folate[i] * x[i] for i in 1:foods) <= 400)   # Folate maximum 400mcg DFE\n",
    "@constraint(model, sum(vitamin_b12[i] * x[i] for i in 1:foods) >= 2.4) # Vitamin B12 minimum 2.4mcg\n",
    "@constraint(model, sum(vitamin_b6[i] * x[i] for i in 1:foods) <= 1.7) # Vitamin B6 maximum 1.7mg\n",
    "@constraint(model, sum(choline[i] * x[i] for i in 1:foods) <= 550);  # Choline maximum 550mg"
   ]
  },
  {
   "cell_type": "markdown",
   "id": "19558fea",
   "metadata": {},
   "source": [
    "### Other Constraints"
   ]
  },
  {
   "cell_type": "code",
   "execution_count": 88,
   "id": "43a27205",
   "metadata": {},
   "outputs": [],
   "source": [
    "@constraint(model, sum(calories[i] * x[i] for i in 1:foods) <= 2500) # Calories maximum at 2500\n",
    "@constraint(model, sum(calories[i] * x[i] for i in 1:foods) >= 2000); # Calories minimum at 2000\n",
    "@constraint(model, sum(alcohol[i] * x[i] for i in 1:foods) <= 0); # No Alcohol"
   ]
  },
  {
   "cell_type": "markdown",
   "id": "a14f7797",
   "metadata": {},
   "source": [
    "## Solving"
   ]
  },
  {
   "cell_type": "code",
   "execution_count": 89,
   "id": "a3b4937b",
   "metadata": {},
   "outputs": [
    {
     "name": "stdout",
     "output_type": "stream",
     "text": [
      "Gurobi Optimizer version 10.0.2 build v10.0.2rc0 (mac64[arm])\n",
      "\n",
      "CPU model: Apple M1\n",
      "Thread count: 8 physical cores, 8 logical processors, using up to 8 threads\n",
      "\n",
      "Optimize a model with 24 rows, 43 columns and 699 nonzeros\n",
      "Model fingerprint: 0x353bdd29\n",
      "Coefficient statistics:\n",
      "  Matrix range     [1e-04, 5e+01]\n",
      "  Objective range  [4e-03, 1e-01]\n",
      "  Bounds range     [0e+00, 0e+00]\n",
      "  RHS range        [1e+00, 5e+03]\n",
      "Presolve removed 2 rows and 4 columns\n",
      "Presolve time: 0.00s\n",
      "Presolved: 22 rows, 40 columns, 617 nonzeros\n",
      "\n",
      "Iteration    Objective       Primal Inf.    Dual Inf.      Time\n",
      "       0    0.0000000e+00   6.849500e+02   0.000000e+00      0s\n",
      "      18    3.2722900e+01   0.000000e+00   0.000000e+00      0s\n",
      "\n",
      "Solved in 18 iterations and 0.00 seconds (0.00 work units)\n",
      "Optimal objective  3.272289958e+01\n",
      "\n",
      "User-callback calls 82, time in user-callback 0.00 sec\n"
     ]
    }
   ],
   "source": [
    "optimize!(model)"
   ]
  },
  {
   "cell_type": "code",
   "execution_count": 90,
   "id": "d30b7a77",
   "metadata": {},
   "outputs": [
    {
     "name": "stdout",
     "output_type": "stream",
     "text": [
      "Optimal diet: [0.0, 0.0, 0.0, 71.78536892093202, 0.0, 309.7636346064652, 264.20269378283473, 0.0, 0.0, 36.3258501746699, 8.678974478255807, 0.0, 0.0, 0.0, 165.81501611330654, 41.15869758602767, 0.0, 0.0, 0.0, 0.0, 0.0, 0.0, 0.0, 0.0, 0.0, 0.0, 0.0, 0.0, 223.24452687702754, 0.0, 0.0, 0.0, 0.0, 0.0, 0.0, 16.287032095560384, 0.0, 0.0, 548.5856839738543, 0.0, 0.0, 0.0, 0.0]\n",
      "\n",
      "Total emissions: 32.72289957535572\n"
     ]
    }
   ],
   "source": [
    "# Check if the model has a solution\n",
    "if termination_status(model) == MOI.OPTIMAL || termination_status(model) == MOI.LOCALLY_SOLVED\n",
    "    # Retrieve optimal values for decision variables\n",
    "    optimal_diet = value.(x)\n",
    "    # Retrieve the objective function value\n",
    "    total_emissions_optimal = objective_value(model)\n",
    "\n",
    "    # Print the results\n",
    "    println(\"Optimal diet: \", optimal_diet)\n",
    "    println(\"\\nTotal emissions: \", total_emissions_optimal)\n",
    "else\n",
    "    println(\"No optimal solution found. Status: \", termination_status(model))\n",
    "end"
   ]
  },
  {
   "cell_type": "code",
   "execution_count": 91,
   "id": "4df3d38a",
   "metadata": {},
   "outputs": [
    {
     "name": "stdout",
     "output_type": "stream",
     "text": [
      "Optimal diet (grams of food):\n",
      "\n",
      "Oats: 71.78536892093202\n",
      "Potatoes: 309.7636346064652\n",
      "Cassava: 264.20269378283473\n",
      "Beans: 36.3258501746699\n",
      "Peas: 8.678974478255807\n",
      "Tofu: 165.81501611330654\n",
      "Soybean Oil: 41.15869758602767\n",
      "Berries & Grapes: 223.24452687702754\n",
      "Lamb & Mutton: 16.287032095560384\n",
      "Milk: 548.5856839738543\n",
      "\n",
      "Total emissions (kg CO2): 32.72289957535572\n"
     ]
    }
   ],
   "source": [
    "# Extract the 'Food product' column from the DataFrame\n",
    "food_product = data[!, \"food\"]\n",
    "\n",
    "# Check if the model has a solution\n",
    "if termination_status(model) == MOI.OPTIMAL || termination_status(model) == MOI.LOCALLY_SOLVED\n",
    "    # Retrieve optimal values for decision variables\n",
    "    optimal_diet = value.(x)\n",
    "    # Retrieve the objective function value\n",
    "    total_emissions = objective_value(model)\n",
    "\n",
    "    # Print the results\n",
    "    println(\"Optimal diet (grams of food):\\n\")\n",
    "    for i in 1:length(optimal_diet)\n",
    "        if optimal_diet[i] > 0\n",
    "            println(food_product[i], \": \", optimal_diet[i])\n",
    "        end\n",
    "    end\n",
    "    println(\"\\nTotal emissions (kg CO2): \", total_emissions)\n",
    "else\n",
    "    println(\"No optimal solution found. Status: \", termination_status(model))\n",
    "end"
   ]
  },
  {
   "cell_type": "code",
   "execution_count": 92,
   "id": "63066574",
   "metadata": {},
   "outputs": [
    {
     "name": "stdout",
     "output_type": "stream",
     "text": [
      "Total nutrients in the optimized diet:\n",
      "\n",
      "calories: 2000.0\n",
      "riboflavin: 1.177\n",
      "valine: 2.539\n",
      "total_fat: 78.0\n",
      "vitamin_b6: 1.7\n",
      "phosphorous: 1250.0\n",
      "tocopherol_alpha: 4.842\n",
      "glycine: 1.584\n",
      "histidine: 1.195\n",
      "fatty_acids_total_trans: 92.6\n",
      "serine: 2.211\n",
      "sodium: 163.027\n",
      "carotene_beta: 230.22\n",
      "cryptoxanthin_beta: 0.0\n",
      "thiamin: 1.456\n",
      "lutein_zeaxanthin: 375.714\n",
      "aspartic_acid: 3.931\n",
      "proline: 3.024\n",
      "vitamin_b12: 2.4\n",
      "vitamin_d: 280.104\n",
      "vitamin_a: 900.0\n",
      "arginine: 2.609\n",
      "niacin: 8.751\n",
      "protein: 72.481\n",
      "magnesium: 363.086\n",
      "copper: 2.529\n",
      "choline: 348.672\n",
      "cystine: 0.667\n",
      "tryptophan: 0.603\n",
      "sugars: 67.157\n",
      "carbohydrate: 275.0\n",
      "pantothenic_acid: 4.31\n",
      "iron: 20.123\n",
      "vitamin_e: 4.842\n",
      "folate: 400.0\n",
      "leucine: 3.629\n",
      "hydroxyproline: 0.0\n",
      "monounsaturated_fatty_acids: 14.847\n",
      "vitamin_c: 111.19\n",
      "zinc: 8.703\n",
      "tyrosine: 1.604\n",
      "vitamin_k: 120.0\n",
      "methionine: 0.932\n",
      "glutamic_acid: 8.81\n",
      "threonine: 1.777\n",
      "fiber: 29.736\n",
      "calcium: 1053.157\n",
      "isoleucine: 2.14\n",
      "selenium: 28.776\n",
      "saturated_fatty_acids: 21.988\n",
      "polyunsaturated_fatty_acids: 26.216\n",
      "alanine: 1.958\n",
      "lucopene: 0.0\n",
      "phenylalanine: 2.142\n",
      "manganese: 8.49\n",
      "lysine: 2.876\n",
      "potassium: 4700.0\n"
     ]
    }
   ],
   "source": [
    "# Calculate total nutrients in the optimized diet\n",
    "\n",
    "total_nutrients = Dict(\n",
    "    \"calories\" => sum(calories[i] * optimal_diet[i] for i in 1:foods),\n",
    "    \"protein\" => sum(protein[i] * optimal_diet[i] for i in 1:foods),\n",
    "    \"total_fat\" => sum(total_fat[i] * optimal_diet[i] for i in 1:foods),\n",
    "    \"carbohydrate\" => sum(carbohydrate[i] * optimal_diet[i] for i in 1:foods),\n",
    "    \"fiber\" => sum(fiber[i] * optimal_diet[i] for i in 1:foods),\n",
    "    \"sugars\" => sum(sugars[i] * optimal_diet[i] for i in 1:foods),\n",
    "    \"saturated_fatty_acids\" => sum(saturated_fatty_acids[i] * optimal_diet[i] for i in 1:foods),\n",
    "    \"monounsaturated_fatty_acids\" => sum(monounsaturated_fatty_acids[i] * optimal_diet[i] for i in 1:foods),\n",
    "    \"polyunsaturated_fatty_acids\" => sum(polyunsaturated_fatty_acids[i] * optimal_diet[i] for i in 1:foods),\n",
    "    \"fatty_acids_total_trans\" => sum(fatty_acids_total_trans[i] * optimal_diet[i] for i in 1:foods),\n",
    "    \"vitamin_a\" => sum(vitamin_a[i] * optimal_diet[i] for i in 1:foods),\n",
    "    \"vitamin_b6\" => sum(vitamin_b6[i] * optimal_diet[i] for i in 1:foods),\n",
    "    \"vitamin_b12\" => sum(vitamin_b12[i] * optimal_diet[i] for i in 1:foods),\n",
    "    \"vitamin_c\" => sum(vitamin_c[i] * optimal_diet[i] for i in 1:foods),\n",
    "    \"vitamin_d\" => sum(vitamin_d[i] * optimal_diet[i] for i in 1:foods),\n",
    "    \"vitamin_e\" => sum(vitamin_e[i] * optimal_diet[i] for i in 1:foods),\n",
    "    \"vitamin_k\" => sum(vitamin_k[i] * optimal_diet[i] for i in 1:foods),\n",
    "    \"thiamin\" => sum(thiamin[i] * optimal_diet[i] for i in 1:foods),\n",
    "    \"riboflavin\" => sum(riboflavin[i] * optimal_diet[i] for i in 1:foods),\n",
    "    \"niacin\" => sum(niacin[i] * optimal_diet[i] for i in 1:foods),\n",
    "    \"folate\" => sum(folate[i] * optimal_diet[i] for i in 1:foods),\n",
    "    \"pantothenic_acid\" => sum(pantothenic_acid[i] * optimal_diet[i] for i in 1:foods),\n",
    "    \"calcium\" => sum(calcium[i] * optimal_diet[i] for i in 1:foods),\n",
    "    \"iron\" => sum(iron[i] * optimal_diet[i] for i in 1:foods),\n",
    "    \"magnesium\" => sum(magnesium[i] * optimal_diet[i] for i in 1:foods),\n",
    "    \"phosphorous\" => sum(phosphorous[i] * optimal_diet[i] for i in 1:foods),\n",
    "    \"potassium\" => sum(potassium[i] * optimal_diet[i] for i in 1:foods),\n",
    "    \"sodium\" => sum(sodium[i] * optimal_diet[i] for i in 1:foods),\n",
    "    \"zinc\" => sum(zinc[i] * optimal_diet[i] for i in 1:foods),\n",
    "    \"copper\" => sum(copper[i] * optimal_diet[i] for i in 1:foods),\n",
    "    \"manganese\" => sum(manganese[i] * optimal_diet[i] for i in 1:foods),\n",
    "    \"selenium\" => sum(selenium[i] * optimal_diet[i] for i in 1:foods),\n",
    "    \"choline\" => sum(choline[i] * optimal_diet[i] for i in 1:foods),\n",
    "    \"lutein_zeaxanthin\" => sum(lutein_zeaxanthin[i] * optimal_diet[i] for i in 1:foods),\n",
    "    \"lucopene\" => sum(lucopene[i] * optimal_diet[i] for i in 1:foods),\n",
    "    \"carotene_beta\" => sum(carotene_beta[i] * optimal_diet[i] for i in 1:foods),\n",
    "    \"cryptoxanthin_beta\" => sum(cryptoxanthin_beta[i] * optimal_diet[i] for i in 1:foods),\n",
    "    \"tocopherol_alpha\" => sum(tocopherol_alpha[i] * optimal_diet[i] for i in 1:foods),\n",
    "    \"alanine\" => sum(alanine[i] * optimal_diet[i] for i in 1:foods),\n",
    "    \"arginine\" => sum(arginine[i] * optimal_diet[i] for i in 1:foods),\n",
    "    \"aspartic_acid\" => sum(aspartic_acid[i] * optimal_diet[i] for i in 1:foods),\n",
    "    \"cystine\" => sum(cystine[i] * optimal_diet[i] for i in 1:foods),\n",
    "    \"glutamic_acid\" => sum(glutamic_acid[i] * optimal_diet[i] for i in 1:foods),\n",
    "    \"glycine\" => sum(glycine[i] * optimal_diet[i] for i in 1:foods),\n",
    "    \"histidine\" => sum(histidine[i] * optimal_diet[i] for i in 1:foods),\n",
    "    \"hydroxyproline\" => sum(hydroxyproline[i] * optimal_diet[i] for i in 1:foods),\n",
    "    \"isoleucine\" => sum(isoleucine[i] * optimal_diet[i] for i in 1:foods),\n",
    "    \"leucine\" => sum(leucine[i] * optimal_diet[i] for i in 1:foods),\n",
    "    \"lysine\" => sum(lysine[i] * optimal_diet[i] for i in 1:foods),\n",
    "    \"methionine\" => sum(methionine[i] * optimal_diet[i] for i in 1:foods),\n",
    "    \"phenylalanine\" => sum(phenylalanine[i] * optimal_diet[i] for i in 1:foods),\n",
    "    \"proline\" => sum(proline[i] * optimal_diet[i] for i in 1:foods),\n",
    "    \"serine\" => sum(serine[i] * optimal_diet[i] for i in 1:foods),\n",
    "    \"threonine\" => sum(threonine[i] * optimal_diet[i] for i in 1:foods),\n",
    "    \"tryptophan\" => sum(tryptophan[i] * optimal_diet[i] for i in 1:foods),\n",
    "    \"tyrosine\" => sum(tyrosine[i] * optimal_diet[i] for i in 1:foods),\n",
    "    \"valine\" => sum(valine[i] * optimal_diet[i] for i in 1:foods)\n",
    ")\n",
    "\n",
    "# Print the total nutrients rounded to three decimal places\n",
    "println(\"Total nutrients in the optimized diet:\\n\")\n",
    "for (nutrient, total) in total_nutrients\n",
    "    println(nutrient, \": \", round(total, digits=3))\n",
    "end"
   ]
  },
  {
   "cell_type": "code",
   "execution_count": 93,
   "id": "f2fddcb8-0aee-4338-8832-ea7ee67e8d3a",
   "metadata": {},
   "outputs": [
    {
     "data": {
      "text/plain": [
       "5.857445703108965"
      ]
     },
     "execution_count": 93,
     "metadata": {},
     "output_type": "execute_result"
    }
   ],
   "source": [
    "x = JuMP.value.(x)\n",
    "total_price = sum(x[i] * price[i] for i in 1:foods)"
   ]
  }
 ],
 "metadata": {
  "kernelspec": {
   "display_name": "Julia 1.9.2",
   "language": "julia",
   "name": "julia-1.9"
  },
  "language_info": {
   "file_extension": ".jl",
   "mimetype": "application/julia",
   "name": "julia",
   "version": "1.9.2"
  }
 },
 "nbformat": 4,
 "nbformat_minor": 5
}
